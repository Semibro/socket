{
 "cells": [
  {
   "cell_type": "markdown",
   "id": "9ded810d",
   "metadata": {},
   "source": [
    "# IAB딥러닝 9월 8일 \n",
    "> Overview - 이미지자료분석(복습)\n",
    "\n",
    "- toc:true\n",
    "- branch: master\n",
    "- badges: true\n",
    "- comments: true\n",
    "- author: 김준형"
   ]
  },
  {
   "cell_type": "markdown",
   "id": "111069ca",
   "metadata": {},
   "source": [
    "## Import"
   ]
  },
  {
   "cell_type": "code",
   "execution_count": 7,
   "id": "6cfaed46",
   "metadata": {},
   "outputs": [],
   "source": [
    "from fastai.vision.all import *"
   ]
  },
  {
   "cell_type": "markdown",
   "id": "a3a300b4",
   "metadata": {},
   "source": [
    "## 복습"
   ]
  },
  {
   "cell_type": "markdown",
   "id": "a39c0040",
   "metadata": {},
   "source": [
    "### (1) 데이터 정리"
   ]
  },
  {
   "cell_type": "code",
   "execution_count": 8,
   "id": "795cefef",
   "metadata": {},
   "outputs": [],
   "source": [
    "path = untar_data(URLs.PETS) / 'images'"
   ]
  },
  {
   "cell_type": "code",
   "execution_count": 9,
   "id": "c4f9c545",
   "metadata": {},
   "outputs": [],
   "source": [
    "fnames = get_image_files(path)"
   ]
  },
  {
   "cell_type": "code",
   "execution_count": 16,
   "id": "4659c4ca",
   "metadata": {},
   "outputs": [],
   "source": [
    "def label_func(fname):\n",
    "  if fname[0].isupper():\n",
    "    return 'cat'\n",
    "  else:\n",
    "    return 'dog'"
   ]
  },
  {
   "cell_type": "code",
   "execution_count": 19,
   "id": "51d9dad2",
   "metadata": {},
   "outputs": [
    {
     "name": "stdout",
     "output_type": "stream",
     "text": [
      "Due to IPython and Windows limitation, python multiprocessing isn't available now.\n",
      "So `number_workers` is changed to 0 to avoid getting stuck\n"
     ]
    }
   ],
   "source": [
    "dls = ImageDataLoaders.from_name_func(path, fnames, label_func, item_tfms = Resize(224))"
   ]
  },
  {
   "cell_type": "markdown",
   "id": "dafa21ff",
   "metadata": {},
   "source": [
    "### (2) lrnr 오브젝트 생성"
   ]
  },
  {
   "cell_type": "code",
   "execution_count": 21,
   "id": "f8444a24",
   "metadata": {},
   "outputs": [],
   "source": [
    "lrnr = vision_learner(dls, resnet34, metrics = error_rate)"
   ]
  },
  {
   "cell_type": "markdown",
   "id": "07a59cd3",
   "metadata": {},
   "source": [
    "### (3) lrnr 학습"
   ]
  },
  {
   "cell_type": "code",
   "execution_count": 22,
   "id": "ada42dee",
   "metadata": {},
   "outputs": [
    {
     "data": {
      "text/html": [
       "\n",
       "<style>\n",
       "    /* Turns off some styling */\n",
       "    progress {\n",
       "        /* gets rid of default border in Firefox and Opera. */\n",
       "        border: none;\n",
       "        /* Needs to be in here for Safari polyfill so background images work as expected. */\n",
       "        background-size: auto;\n",
       "    }\n",
       "    progress:not([value]), progress:not([value])::-webkit-progress-bar {\n",
       "        background: repeating-linear-gradient(45deg, #7e7e7e, #7e7e7e 10px, #5c5c5c 10px, #5c5c5c 20px);\n",
       "    }\n",
       "    .progress-bar-interrupted, .progress-bar-interrupted::-webkit-progress-bar {\n",
       "        background: #F44336;\n",
       "    }\n",
       "</style>\n"
      ],
      "text/plain": [
       "<IPython.core.display.HTML object>"
      ]
     },
     "metadata": {},
     "output_type": "display_data"
    },
    {
     "data": {
      "text/html": [
       "<table border=\"1\" class=\"dataframe\">\n",
       "  <thead>\n",
       "    <tr style=\"text-align: left;\">\n",
       "      <th>epoch</th>\n",
       "      <th>train_loss</th>\n",
       "      <th>valid_loss</th>\n",
       "      <th>error_rate</th>\n",
       "      <th>time</th>\n",
       "    </tr>\n",
       "  </thead>\n",
       "  <tbody>\n",
       "    <tr>\n",
       "      <td>0</td>\n",
       "      <td>0.150615</td>\n",
       "      <td>0.036099</td>\n",
       "      <td>0.011502</td>\n",
       "      <td>00:35</td>\n",
       "    </tr>\n",
       "  </tbody>\n",
       "</table>"
      ],
      "text/plain": [
       "<IPython.core.display.HTML object>"
      ]
     },
     "metadata": {},
     "output_type": "display_data"
    },
    {
     "data": {
      "text/html": [
       "\n",
       "<style>\n",
       "    /* Turns off some styling */\n",
       "    progress {\n",
       "        /* gets rid of default border in Firefox and Opera. */\n",
       "        border: none;\n",
       "        /* Needs to be in here for Safari polyfill so background images work as expected. */\n",
       "        background-size: auto;\n",
       "    }\n",
       "    progress:not([value]), progress:not([value])::-webkit-progress-bar {\n",
       "        background: repeating-linear-gradient(45deg, #7e7e7e, #7e7e7e 10px, #5c5c5c 10px, #5c5c5c 20px);\n",
       "    }\n",
       "    .progress-bar-interrupted, .progress-bar-interrupted::-webkit-progress-bar {\n",
       "        background: #F44336;\n",
       "    }\n",
       "</style>\n"
      ],
      "text/plain": [
       "<IPython.core.display.HTML object>"
      ]
     },
     "metadata": {},
     "output_type": "display_data"
    },
    {
     "data": {
      "text/html": [
       "<table border=\"1\" class=\"dataframe\">\n",
       "  <thead>\n",
       "    <tr style=\"text-align: left;\">\n",
       "      <th>epoch</th>\n",
       "      <th>train_loss</th>\n",
       "      <th>valid_loss</th>\n",
       "      <th>error_rate</th>\n",
       "      <th>time</th>\n",
       "    </tr>\n",
       "  </thead>\n",
       "  <tbody>\n",
       "    <tr>\n",
       "      <td>0</td>\n",
       "      <td>0.063639</td>\n",
       "      <td>0.034654</td>\n",
       "      <td>0.009472</td>\n",
       "      <td>00:38</td>\n",
       "    </tr>\n",
       "  </tbody>\n",
       "</table>"
      ],
      "text/plain": [
       "<IPython.core.display.HTML object>"
      ]
     },
     "metadata": {},
     "output_type": "display_data"
    }
   ],
   "source": [
    "lrnr.fine_tune(1)"
   ]
  },
  {
   "cell_type": "markdown",
   "id": "4dcc5006",
   "metadata": {},
   "source": [
    "### (4) lrnr 예측"
   ]
  },
  {
   "cell_type": "code",
   "execution_count": 24,
   "id": "fd81c30c",
   "metadata": {},
   "outputs": [
    {
     "data": {
      "text/html": [
       "\n",
       "<style>\n",
       "    /* Turns off some styling */\n",
       "    progress {\n",
       "        /* gets rid of default border in Firefox and Opera. */\n",
       "        border: none;\n",
       "        /* Needs to be in here for Safari polyfill so background images work as expected. */\n",
       "        background-size: auto;\n",
       "    }\n",
       "    progress:not([value]), progress:not([value])::-webkit-progress-bar {\n",
       "        background: repeating-linear-gradient(45deg, #7e7e7e, #7e7e7e 10px, #5c5c5c 10px, #5c5c5c 20px);\n",
       "    }\n",
       "    .progress-bar-interrupted, .progress-bar-interrupted::-webkit-progress-bar {\n",
       "        background: #F44336;\n",
       "    }\n",
       "</style>\n"
      ],
      "text/plain": [
       "<IPython.core.display.HTML object>"
      ]
     },
     "metadata": {},
     "output_type": "display_data"
    },
    {
     "data": {
      "text/html": [],
      "text/plain": [
       "<IPython.core.display.HTML object>"
      ]
     },
     "metadata": {},
     "output_type": "display_data"
    },
    {
     "data": {
      "text/plain": [
       "('cat', TensorBase(0), TensorBase([1.0000e+00, 9.7220e-09]))"
      ]
     },
     "execution_count": 24,
     "metadata": {},
     "output_type": "execute_result"
    }
   ],
   "source": [
    "lrnr.predict(path.ls()[0]) # 방법1\n",
    "# lrnr.predict('2022-09-06-hani03.jpg')  방법2\n",
    "# X, y = dls.one_batch()\n",
    "# lrnr.model(X[0 : 1])  방법3"
   ]
  },
  {
   "cell_type": "markdown",
   "id": "7cc12699",
   "metadata": {},
   "source": [
    "## 프로그래밍 과정 overview"
   ]
  },
  {
   "cell_type": "markdown",
   "id": "0306383c",
   "metadata": {},
   "source": [
    "### dls 오브젝트 생성 --> lrnr 오브젝트 생성 --> lrnr 학습 --> lrnr 예측"
   ]
  },
  {
   "cell_type": "markdown",
   "id": "d8c4f303",
   "metadata": {},
   "source": [
    "### 비교"
   ]
  },
  {
   "cell_type": "markdown",
   "id": "969d1b90",
   "metadata": {},
   "source": [
    "| |회귀분석(R) | 이미지분석(CNN) | 추천시스템 | \n",
    "|:-:|:-:|:-:|:-:|\n",
    "|1단계|data.frame()|ImageDataLoaders.from_name_func()|CollabDataLoaders.from_df()| \n",
    "|2단계|None|cnn_learner()|collab_learner()| \n",
    "|3단계|lm(y~x1+x2,df)|lrnr.fine_tune(1)|lrnr.fit()| \n",
    "|4단계|predict(ob,newdf)|lrnr.predict(), lrnr.model(X)|lrnr.model(X)| "
   ]
  },
  {
   "cell_type": "code",
   "execution_count": 25,
   "id": "e81086e4",
   "metadata": {},
   "outputs": [],
   "source": [
    "ImageDataLoaders.from_name_func?  # 함수의 경로 확인 가능"
   ]
  },
  {
   "cell_type": "code",
   "execution_count": 26,
   "id": "d94a2850",
   "metadata": {},
   "outputs": [],
   "source": [
    "cnn_learner?"
   ]
  },
  {
   "cell_type": "code",
   "execution_count": 27,
   "id": "65c16815",
   "metadata": {},
   "outputs": [],
   "source": [
    "vision_learner?"
   ]
  },
  {
   "cell_type": "code",
   "execution_count": 28,
   "id": "b1ac7397",
   "metadata": {},
   "outputs": [],
   "source": [
    "lrnr.fine_tune?"
   ]
  },
  {
   "cell_type": "code",
   "execution_count": 29,
   "id": "d3dcba05",
   "metadata": {},
   "outputs": [],
   "source": [
    "lrnr.predict?"
   ]
  }
 ],
 "metadata": {
  "kernelspec": {
   "display_name": "Python 3 (ipykernel)",
   "language": "python",
   "name": "python3"
  },
  "language_info": {
   "codemirror_mode": {
    "name": "ipython",
    "version": 3
   },
   "file_extension": ".py",
   "mimetype": "text/x-python",
   "name": "python",
   "nbconvert_exporter": "python",
   "pygments_lexer": "ipython3",
   "version": "3.9.12"
  }
 },
 "nbformat": 4,
 "nbformat_minor": 5
}
