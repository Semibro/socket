{
 "cells": [
  {
   "cell_type": "markdown",
   "id": "1495b985",
   "metadata": {},
   "source": [
    "# IAB딥러닝 10월 18일\n",
    "> 이미지자료분석 --> CNN 예비학습, CNN구현 (CPU), CNN구현 (GPU), BCEWithLogisticLoss\n",
    "\n",
    "- toc:true\n",
    "- branch: master\n",
    "- badges: true\n",
    "- comments: true\n",
    "- author: 김준형"
   ]
  },
  {
   "cell_type": "markdown",
   "id": "54bf6b9f",
   "metadata": {},
   "source": [
    "# Import"
   ]
  },
  {
   "cell_type": "code",
   "execution_count": 1,
   "id": "f46762c7",
   "metadata": {},
   "outputs": [],
   "source": [
    "import torch\n",
    "import torchvision\n",
    "from fastai.vision.all import *\n",
    "import time"
   ]
  },
  {
   "cell_type": "markdown",
   "id": "ca3e5359",
   "metadata": {},
   "source": [
    "# Data"
   ]
  },
  {
   "cell_type": "markdown",
   "id": "e5edec04",
   "metadata": {},
   "source": [
    "`-` Download Data"
   ]
  },
  {
   "cell_type": "code",
   "execution_count": 3,
   "id": "17c8301d",
   "metadata": {},
   "outputs": [],
   "source": [
    "path = untar_data(URLs.MNIST)"
   ]
  },
  {
   "cell_type": "markdown",
   "id": "fad3d111",
   "metadata": {},
   "source": [
    "`-` Training Set"
   ]
  },
  {
   "cell_type": "code",
   "execution_count": 5,
   "id": "6badb69c",
   "metadata": {},
   "outputs": [],
   "source": [
    "X0 = torch.stack([torchvision.io.read_image(Str(fname)) for fname in (path/'training/0').ls()])\n",
    "X1 = torch.stack([torchvision.io.read_image(str(fname)) for fname in (path/'training/1').ls()])\n",
    "X = torch.concat([X0, X1]) / 255\n",
    "y = torch.tensor([0.0] * len(X0) + [1.0] * len(X1)).reshape(-1, 1)"
   ]
  },
  {
   "cell_type": "markdown",
   "id": "737fa70f",
   "metadata": {},
   "source": [
    "`-` Test Set"
   ]
  },
  {
   "cell_type": "code",
   "execution_count": 63,
   "id": "db49f0a1",
   "metadata": {},
   "outputs": [],
   "source": [
    "X0 = torch.stack([torchvision.io.read_image(Str(fname)) for fname in (path/'testing/0').ls()])\n",
    "X1 = torch.stack([torchvision.io.read_image(str(fname)) for fname in (path/'testing/1').ls()])\n",
    "XX = torch.concat([X0, X1]) / 255\n",
    "yy = torch.tensor([0.0] * len(X0) + [1.0] * len(X1)).reshape(-1, 1)"
   ]
  },
  {
   "cell_type": "code",
   "execution_count": 64,
   "id": "481d035f",
   "metadata": {},
   "outputs": [
    {
     "data": {
      "text/plain": [
       "(torch.Size([12665, 1, 28, 28]),\n",
       " torch.Size([2115, 1, 28, 28]),\n",
       " torch.Size([12665, 1]),\n",
       " torch.Size([2115, 1]))"
      ]
     },
     "execution_count": 64,
     "metadata": {},
     "output_type": "execute_result"
    }
   ],
   "source": [
    "X.shape, XX.shape, y.shape, yy.shape"
   ]
  },
  {
   "cell_type": "markdown",
   "id": "f8a801fa",
   "metadata": {},
   "source": [
    "# CNN 예비학습"
   ]
  },
  {
   "cell_type": "markdown",
   "id": "2fcad698",
   "metadata": {},
   "source": [
    "## 새로운 아키텍처의 제시"
   ]
  },
  {
   "cell_type": "markdown",
   "id": "ffbc7133",
   "metadata": {},
   "source": [
    "`-` 예전"
   ]
  },
  {
   "cell_type": "markdown",
   "id": "3922997e",
   "metadata": {},
   "source": [
    "$\\underset{(n,784)}{\\bf X} \\overset{l_1}{\\to} \\underset{(n,30)}{\\boldsymbol u^{(1)}} \\overset{relu}{\\to} \\underset{(n,30)}{\\boldsymbol v^{(1)}} \\overset{l_2}{\\to} \\underset{(n,1)}{\\boldsymbol u^{(2)}} \\overset{sig}{\\to} \\underset{(n,1)}{\\boldsymbol v^{(2)}}=\\underset{(n,1)}{\\hat{\\boldsymbol y}}$"
   ]
  },
  {
   "cell_type": "markdown",
   "id": "11a58606",
   "metadata": {},
   "source": [
    "`-` 새로운 아키텍처 \n",
    "- $conv$: feature를 뻥튀기하는 역할 (2d ver $l_1$ 느낌) \n",
    "- $relu$: \n",
    "- $pooling$: 데이터를 요약하는 역할 "
   ]
  },
  {
   "cell_type": "markdown",
   "id": "0d4eaf25",
   "metadata": {},
   "source": [
    "## CONV 레이어 (선형변환의 2D 버전)"
   ]
  },
  {
   "cell_type": "markdown",
   "id": "01d14c3e",
   "metadata": {},
   "source": [
    "**(예시 1)**"
   ]
  },
  {
   "cell_type": "code",
   "execution_count": 8,
   "id": "79dfd68e",
   "metadata": {},
   "outputs": [
    {
     "data": {
      "text/plain": [
       "(tensor([[[[ 0.3475, -0.1602],\n",
       "           [-0.3039, -0.4139]]]]),\n",
       " tensor([-0.2540]))"
      ]
     },
     "execution_count": 8,
     "metadata": {},
     "output_type": "execute_result"
    }
   ],
   "source": [
    "torch.manual_seed(201715447)\n",
    "_conv = torch.nn.Conv2d(1, 1, (2, 2))\n",
    "_conv.weight.data, _conv.bias.data"
   ]
  },
  {
   "cell_type": "code",
   "execution_count": 9,
   "id": "a36dd1af",
   "metadata": {},
   "outputs": [
    {
     "data": {
      "text/plain": [
       "tensor([[[0., 1.],\n",
       "         [2., 3.]]])"
      ]
     },
     "execution_count": 9,
     "metadata": {},
     "output_type": "execute_result"
    }
   ],
   "source": [
    "_X = torch.arange(0, 4).reshape(1, 2, 2).float()\n",
    "_X"
   ]
  },
  {
   "cell_type": "code",
   "execution_count": 14,
   "id": "df4e0358",
   "metadata": {},
   "outputs": [
    {
     "data": {
      "text/plain": [
       "-2.2637"
      ]
     },
     "execution_count": 14,
     "metadata": {},
     "output_type": "execute_result"
    }
   ],
   "source": [
    "(0.3475) * 0 + (-0.1602) * 1 + (-0.3039) * 2 + (-0.4139) * 3 + -0.2540"
   ]
  },
  {
   "cell_type": "code",
   "execution_count": 13,
   "id": "ff9d6b1e",
   "metadata": {},
   "outputs": [
    {
     "data": {
      "text/plain": [
       "tensor([[[-2.2638]]], grad_fn=<SqueezeBackward1>)"
      ]
     },
     "execution_count": 13,
     "metadata": {},
     "output_type": "execute_result"
    }
   ],
   "source": [
    "_conv(_X)"
   ]
  },
  {
   "cell_type": "markdown",
   "id": "a1f91725",
   "metadata": {},
   "source": [
    "**(예시 2)** 평균구하기"
   ]
  },
  {
   "cell_type": "code",
   "execution_count": 15,
   "id": "bda73ab0",
   "metadata": {},
   "outputs": [],
   "source": [
    "_conv.weight.data = torch.tensor([[[[1/4, 1/4], [1/4, 1/4]]]])\n",
    "_conv.bias.data = torch.tensor([0.0])"
   ]
  },
  {
   "cell_type": "code",
   "execution_count": 16,
   "id": "13ceba66",
   "metadata": {},
   "outputs": [
    {
     "data": {
      "text/plain": [
       "(tensor([[[1.5000]]], grad_fn=<SqueezeBackward1>), 1.5)"
      ]
     },
     "execution_count": 16,
     "metadata": {},
     "output_type": "execute_result"
    }
   ],
   "source": [
    "_conv(_X), (0 + 1 + 2 + 3) / 4"
   ]
  },
  {
   "cell_type": "markdown",
   "id": "8310b2e8",
   "metadata": {},
   "source": [
    "**(예시 3)** 이동평균"
   ]
  },
  {
   "cell_type": "code",
   "execution_count": 17,
   "id": "38981add",
   "metadata": {},
   "outputs": [
    {
     "data": {
      "text/plain": [
       "tensor([[[ 0.,  1.,  2.,  3.,  4.],\n",
       "         [ 5.,  6.,  7.,  8.,  9.],\n",
       "         [10., 11., 12., 13., 14.],\n",
       "         [15., 16., 17., 18., 19.],\n",
       "         [20., 21., 22., 23., 24.]]])"
      ]
     },
     "execution_count": 17,
     "metadata": {},
     "output_type": "execute_result"
    }
   ],
   "source": [
    "_X = torch.arange(0, 25).float().reshape(1, 5, 5)\n",
    "_X"
   ]
  },
  {
   "cell_type": "code",
   "execution_count": 18,
   "id": "698493b5",
   "metadata": {},
   "outputs": [
    {
     "data": {
      "text/plain": [
       "tensor([[[ 3.,  4.,  5.,  6.],\n",
       "         [ 8.,  9., 10., 11.],\n",
       "         [13., 14., 15., 16.],\n",
       "         [18., 19., 20., 21.]]], grad_fn=<SqueezeBackward1>)"
      ]
     },
     "execution_count": 18,
     "metadata": {},
     "output_type": "execute_result"
    }
   ],
   "source": [
    "_conv(_X)"
   ]
  },
  {
   "cell_type": "markdown",
   "id": "7da54d72",
   "metadata": {},
   "source": [
    "**(예시 4)** window size가 증가한다면? (2d 이동평균느낌)"
   ]
  },
  {
   "cell_type": "code",
   "execution_count": 19,
   "id": "959d8c93",
   "metadata": {},
   "outputs": [],
   "source": [
    "_conv = torch.nn.Conv2d(1, 1, (3, 3))\n",
    "_conv.bias.data = torch.tensor([0.0])\n",
    "_conv.weight.data = torch.tensor([[[[1/9, 1/9, 1/9], [1/9, 1/9, 1/9], [1/9, 1/9, 1/9]]]])"
   ]
  },
  {
   "cell_type": "code",
   "execution_count": 22,
   "id": "f9d28cc0",
   "metadata": {},
   "outputs": [
    {
     "data": {
      "text/plain": [
       "(tensor([[[ 0.,  1.,  2.,  3.,  4.],\n",
       "          [ 5.,  6.,  7.,  8.,  9.],\n",
       "          [10., 11., 12., 13., 14.],\n",
       "          [15., 16., 17., 18., 19.],\n",
       "          [20., 21., 22., 23., 24.]]]),\n",
       " tensor([[[ 6.0000,  7.0000,  8.0000],\n",
       "          [11.0000, 12.0000, 13.0000],\n",
       "          [16.0000, 17.0000, 18.0000]]], grad_fn=<SqueezeBackward1>))"
      ]
     },
     "execution_count": 22,
     "metadata": {},
     "output_type": "execute_result"
    }
   ],
   "source": [
    "_X, _conv(_X)"
   ]
  },
  {
   "cell_type": "markdown",
   "id": "6b3a7213",
   "metadata": {},
   "source": [
    "**(예시 5)** 피처 증가시키기"
   ]
  },
  {
   "cell_type": "code",
   "execution_count": 23,
   "id": "376c5f6e",
   "metadata": {},
   "outputs": [
    {
     "data": {
      "text/plain": [
       "tensor([[[1., 1.],\n",
       "         [1., 1.]]])"
      ]
     },
     "execution_count": 23,
     "metadata": {},
     "output_type": "execute_result"
    }
   ],
   "source": [
    "_X = torch.tensor([1.0, 1.0, 1.0, 1.0]).reshape(1, 2, 2)\n",
    "_X"
   ]
  },
  {
   "cell_type": "code",
   "execution_count": 25,
   "id": "8df27960",
   "metadata": {},
   "outputs": [
    {
     "data": {
      "text/plain": [
       "(torch.Size([8, 1, 2, 2]), torch.Size([8]))"
      ]
     },
     "execution_count": 25,
     "metadata": {},
     "output_type": "execute_result"
    }
   ],
   "source": [
    "_conv = torch.nn.Conv2d(1, 8, (2, 2))\n",
    "_conv.weight.data.shape, _conv.bias.data.shape"
   ]
  },
  {
   "cell_type": "code",
   "execution_count": 26,
   "id": "3e0dbd29",
   "metadata": {},
   "outputs": [
    {
     "data": {
      "text/plain": [
       "tensor([ 0.1951,  1.3940,  0.6831,  0.5889,  0.2669, -0.3125,  0.8579,  0.1906],\n",
       "       grad_fn=<ReshapeAliasBackward0>)"
      ]
     },
     "execution_count": 26,
     "metadata": {},
     "output_type": "execute_result"
    }
   ],
   "source": [
    "_conv(_X).reshape(-1)"
   ]
  },
  {
   "cell_type": "code",
   "execution_count": 27,
   "id": "e271edb9",
   "metadata": {},
   "outputs": [
    {
     "data": {
      "text/plain": [
       "(tensor(0.1951), tensor(1.3940))"
      ]
     },
     "execution_count": 27,
     "metadata": {},
     "output_type": "execute_result"
    }
   ],
   "source": [
    "torch.sum(_conv.weight.data[0,...]) + _conv.bias.data[0], torch.sum(_conv.weight.data[1,...]) + _conv.bias.data[1]"
   ]
  },
  {
   "cell_type": "markdown",
   "id": "b639670e",
   "metadata": {},
   "source": [
    "결국 아래와 같이 계산하는 것과 같다."
   ]
  },
  {
   "cell_type": "code",
   "execution_count": 28,
   "id": "8ef54018",
   "metadata": {},
   "outputs": [
    {
     "data": {
      "text/plain": [
       "tensor([ 0.1951,  1.3940,  0.6831,  0.5889,  0.2669, -0.3125,  0.8579,  0.1906])"
      ]
     },
     "execution_count": 28,
     "metadata": {},
     "output_type": "execute_result"
    }
   ],
   "source": [
    "torch.sum(_conv.weight.data, axis = (2, 3)).reshape(-1) + _conv.bias.data"
   ]
  },
  {
   "cell_type": "code",
   "execution_count": 29,
   "id": "7ca8fbee",
   "metadata": {},
   "outputs": [
    {
     "data": {
      "text/plain": [
       "tensor([ 0.1951,  1.3940,  0.6831,  0.5889,  0.2669, -0.3125,  0.8579,  0.1906],\n",
       "       grad_fn=<ReshapeAliasBackward0>)"
      ]
     },
     "execution_count": 29,
     "metadata": {},
     "output_type": "execute_result"
    }
   ],
   "source": [
    "_conv(_X).reshape(-1)"
   ]
  },
  {
   "cell_type": "markdown",
   "id": "84235146",
   "metadata": {},
   "source": [
    "## ReLU (2d)"
   ]
  },
  {
   "cell_type": "code",
   "execution_count": 30,
   "id": "eecd0921",
   "metadata": {},
   "outputs": [
    {
     "data": {
      "text/plain": [
       "tensor([[[-0.0488,  0.2144, -1.0814,  0.4921,  1.2028],\n",
       "         [ 0.8151,  0.6953,  0.9054,  0.3448,  1.6039],\n",
       "         [-1.1941, -1.4877, -1.0516, -0.6973, -0.1105],\n",
       "         [-0.0178,  1.0564, -1.2399,  0.4696, -0.1178],\n",
       "         [ 1.0790, -0.9323, -1.8428, -0.9742, -2.0074]]])"
      ]
     },
     "execution_count": 30,
     "metadata": {},
     "output_type": "execute_result"
    }
   ],
   "source": [
    "_X = torch.randn(25).reshape(1, 5, 5)\n",
    "_X"
   ]
  },
  {
   "cell_type": "code",
   "execution_count": 31,
   "id": "ced52ef0",
   "metadata": {},
   "outputs": [],
   "source": [
    "a1 = torch.nn.ReLU()"
   ]
  },
  {
   "cell_type": "code",
   "execution_count": 32,
   "id": "ca35d53f",
   "metadata": {},
   "outputs": [
    {
     "data": {
      "text/plain": [
       "tensor([[[0.0000, 0.2144, 0.0000, 0.4921, 1.2028],\n",
       "         [0.8151, 0.6953, 0.9054, 0.3448, 1.6039],\n",
       "         [0.0000, 0.0000, 0.0000, 0.0000, 0.0000],\n",
       "         [0.0000, 1.0564, 0.0000, 0.4696, 0.0000],\n",
       "         [1.0790, 0.0000, 0.0000, 0.0000, 0.0000]]])"
      ]
     },
     "execution_count": 32,
     "metadata": {},
     "output_type": "execute_result"
    }
   ],
   "source": [
    "a1(_X)"
   ]
  },
  {
   "cell_type": "markdown",
   "id": "297f1ee7",
   "metadata": {},
   "source": [
    "## Maxpooling Layer"
   ]
  },
  {
   "cell_type": "code",
   "execution_count": 33,
   "id": "daeef085",
   "metadata": {},
   "outputs": [],
   "source": [
    "_maxpooling = torch.nn.MaxPool2d((2, 2))"
   ]
  },
  {
   "cell_type": "code",
   "execution_count": 34,
   "id": "dade49a0",
   "metadata": {},
   "outputs": [],
   "source": [
    "_X = torch.arange(16).float().reshape(1, 4, 4)"
   ]
  },
  {
   "cell_type": "code",
   "execution_count": 35,
   "id": "2b76a731",
   "metadata": {},
   "outputs": [
    {
     "data": {
      "text/plain": [
       "(tensor([[[ 0.,  1.,  2.,  3.],\n",
       "          [ 4.,  5.,  6.,  7.],\n",
       "          [ 8.,  9., 10., 11.],\n",
       "          [12., 13., 14., 15.]]]),\n",
       " tensor([[[ 5.,  7.],\n",
       "          [13., 15.]]]))"
      ]
     },
     "execution_count": 35,
     "metadata": {},
     "output_type": "execute_result"
    }
   ],
   "source": [
    "_X, _maxpooling(_X)"
   ]
  },
  {
   "cell_type": "code",
   "execution_count": 36,
   "id": "2433f8e1",
   "metadata": {},
   "outputs": [],
   "source": [
    "_X = torch.arange(25).float().reshape(1, 5, 5)"
   ]
  },
  {
   "cell_type": "code",
   "execution_count": 37,
   "id": "c37c5bac",
   "metadata": {},
   "outputs": [
    {
     "data": {
      "text/plain": [
       "(tensor([[[ 0.,  1.,  2.,  3.,  4.],\n",
       "          [ 5.,  6.,  7.,  8.,  9.],\n",
       "          [10., 11., 12., 13., 14.],\n",
       "          [15., 16., 17., 18., 19.],\n",
       "          [20., 21., 22., 23., 24.]]]),\n",
       " tensor([[[ 6.,  8.],\n",
       "          [16., 18.]]]))"
      ]
     },
     "execution_count": 37,
     "metadata": {},
     "output_type": "execute_result"
    }
   ],
   "source": [
    "_X, _maxpooling(_X)"
   ]
  },
  {
   "cell_type": "code",
   "execution_count": 38,
   "id": "7edd0452",
   "metadata": {},
   "outputs": [],
   "source": [
    "_X = torch.arange(36).float().reshape(1, 6, 6)"
   ]
  },
  {
   "cell_type": "code",
   "execution_count": 39,
   "id": "53ada4a4",
   "metadata": {},
   "outputs": [
    {
     "data": {
      "text/plain": [
       "(tensor([[[ 0.,  1.,  2.,  3.,  4.,  5.],\n",
       "          [ 6.,  7.,  8.,  9., 10., 11.],\n",
       "          [12., 13., 14., 15., 16., 17.],\n",
       "          [18., 19., 20., 21., 22., 23.],\n",
       "          [24., 25., 26., 27., 28., 29.],\n",
       "          [30., 31., 32., 33., 34., 35.]]]),\n",
       " tensor([[[ 7.,  9., 11.],\n",
       "          [19., 21., 23.],\n",
       "          [31., 33., 35.]]]))"
      ]
     },
     "execution_count": 39,
     "metadata": {},
     "output_type": "execute_result"
    }
   ],
   "source": [
    "_X, _maxpooling(_X)"
   ]
  },
  {
   "cell_type": "markdown",
   "id": "819c258e",
   "metadata": {},
   "source": [
    "# CNN 구현 (CPU)"
   ]
  },
  {
   "cell_type": "code",
   "execution_count": 40,
   "id": "b31829ed",
   "metadata": {},
   "outputs": [
    {
     "data": {
      "text/plain": [
       "torch.Size([12665, 1, 28, 28])"
      ]
     },
     "execution_count": 40,
     "metadata": {},
     "output_type": "execute_result"
    }
   ],
   "source": [
    "X.shape"
   ]
  },
  {
   "cell_type": "markdown",
   "id": "a3406d2c",
   "metadata": {},
   "source": [
    "## (1) Conv2d"
   ]
  },
  {
   "cell_type": "code",
   "execution_count": 41,
   "id": "bff00260",
   "metadata": {},
   "outputs": [
    {
     "name": "stdout",
     "output_type": "stream",
     "text": [
      "torch.Size([12665, 1, 28, 28])\n",
      "torch.Size([12665, 16, 24, 24])\n"
     ]
    }
   ],
   "source": [
    "c1 = torch.nn.Conv2d(1, 16, (5, 5))\n",
    "print(X.shape)\n",
    "print(c1(X).shape)"
   ]
  },
  {
   "cell_type": "markdown",
   "id": "320334be",
   "metadata": {},
   "source": [
    "## (2) ReLU"
   ]
  },
  {
   "cell_type": "code",
   "execution_count": 42,
   "id": "5759d45a",
   "metadata": {},
   "outputs": [
    {
     "name": "stdout",
     "output_type": "stream",
     "text": [
      "torch.Size([12665, 1, 28, 28])\n",
      "torch.Size([12665, 16, 24, 24])\n",
      "torch.Size([12665, 16, 24, 24])\n"
     ]
    }
   ],
   "source": [
    "a1 = torch.nn.ReLU()\n",
    "print(X.shape)\n",
    "print(c1(X).shape)\n",
    "print(a1(c1(X)).shape)"
   ]
  },
  {
   "cell_type": "markdown",
   "id": "8369c822",
   "metadata": {},
   "source": [
    "## (3) Maxpool2D"
   ]
  },
  {
   "cell_type": "code",
   "execution_count": 44,
   "id": "41e36a38",
   "metadata": {},
   "outputs": [
    {
     "name": "stdout",
     "output_type": "stream",
     "text": [
      "torch.Size([12665, 1, 28, 28])\n",
      "torch.Size([12665, 16, 24, 24])\n",
      "torch.Size([12665, 16, 24, 24])\n",
      "torch.Size([12665, 16, 12, 12])\n"
     ]
    }
   ],
   "source": [
    "m1 = torch.nn.MaxPool2d((2, 2))\n",
    "print(X.shape)\n",
    "print(c1(X).shape)\n",
    "print(a1(c1(X)).shape)\n",
    "print(m1(a1(c1(X))).shape)"
   ]
  },
  {
   "cell_type": "markdown",
   "id": "0651be74",
   "metadata": {},
   "source": [
    "## (4) Flatten & Sigmoid"
   ]
  },
  {
   "cell_type": "markdown",
   "id": "f39fcbdb",
   "metadata": {},
   "source": [
    "### 방법 1"
   ]
  },
  {
   "cell_type": "code",
   "execution_count": 45,
   "id": "da9d1e06",
   "metadata": {},
   "outputs": [
    {
     "data": {
      "text/plain": [
       "torch.Size([12665, 2304])"
      ]
     },
     "execution_count": 45,
     "metadata": {},
     "output_type": "execute_result"
    }
   ],
   "source": [
    "m1(a1(c1(X))).reshape(-1, 2304).shape"
   ]
  },
  {
   "cell_type": "code",
   "execution_count": 46,
   "id": "83ff3045",
   "metadata": {},
   "outputs": [
    {
     "data": {
      "text/plain": [
       "2304"
      ]
     },
     "execution_count": 46,
     "metadata": {},
     "output_type": "execute_result"
    }
   ],
   "source": [
    "16 * 12 * 12"
   ]
  },
  {
   "cell_type": "markdown",
   "id": "f4e61e01",
   "metadata": {},
   "source": [
    "### 방법 2"
   ]
  },
  {
   "cell_type": "code",
   "execution_count": 47,
   "id": "1c9c3d33",
   "metadata": {},
   "outputs": [],
   "source": [
    "flttn = torch.nn.Flatten()"
   ]
  },
  {
   "cell_type": "code",
   "execution_count": 49,
   "id": "28c5fa3c",
   "metadata": {},
   "outputs": [
    {
     "name": "stdout",
     "output_type": "stream",
     "text": [
      "torch.Size([12665, 1, 28, 28])\n",
      "torch.Size([12665, 16, 24, 24])\n",
      "torch.Size([12665, 16, 24, 24])\n",
      "torch.Size([12665, 16, 12, 12])\n",
      "torch.Size([12665, 2304])\n"
     ]
    }
   ],
   "source": [
    "print(X.shape)\n",
    "print(c1(X).shape)\n",
    "print(a1(c1(X)).shape)\n",
    "print(m1(a1(c1(X))).shape)\n",
    "print(flttn(m1(a1(c1(X)))).shape)"
   ]
  },
  {
   "cell_type": "markdown",
   "id": "65db8632",
   "metadata": {},
   "source": [
    "`-` 2034 -> 1로 차원축소"
   ]
  },
  {
   "cell_type": "code",
   "execution_count": 51,
   "id": "4b77b160",
   "metadata": {},
   "outputs": [
    {
     "name": "stdout",
     "output_type": "stream",
     "text": [
      "torch.Size([12665, 1, 28, 28])\n",
      "torch.Size([12665, 16, 24, 24])\n",
      "torch.Size([12665, 16, 24, 24])\n",
      "torch.Size([12665, 16, 12, 12])\n",
      "torch.Size([12665, 2304])\n",
      "torch.Size([12665, 1])\n"
     ]
    }
   ],
   "source": [
    "l1 = torch.nn.Linear(in_features = 2304, out_features = 1)\n",
    "print(X.shape)\n",
    "print(c1(X).shape)\n",
    "print(a1(c1(X)).shape)\n",
    "print(m1(a1(c1(X))).shape)\n",
    "print(flttn(m1(a1(c1(X)))).shape)\n",
    "print(l1(flttn(m1(a1(c1(X))))).shape)"
   ]
  },
  {
   "cell_type": "markdown",
   "id": "5ce2b9cc",
   "metadata": {},
   "source": [
    "`-` 시그모이드"
   ]
  },
  {
   "cell_type": "code",
   "execution_count": 52,
   "id": "bf224422",
   "metadata": {},
   "outputs": [],
   "source": [
    "a2 = torch.nn.Sigmoid()"
   ]
  },
  {
   "cell_type": "code",
   "execution_count": 53,
   "id": "76f9ad88",
   "metadata": {},
   "outputs": [
    {
     "name": "stdout",
     "output_type": "stream",
     "text": [
      "torch.Size([12665, 1, 28, 28])\n",
      "torch.Size([12665, 16, 24, 24])\n",
      "torch.Size([12665, 16, 24, 24])\n",
      "torch.Size([12665, 16, 12, 12])\n",
      "torch.Size([12665, 2304])\n",
      "torch.Size([12665, 1])\n",
      "torch.Size([12665, 1])\n"
     ]
    }
   ],
   "source": [
    "print(X.shape)\n",
    "print(c1(X).shape)\n",
    "print(a1(c1(X)).shape)\n",
    "print(m1(a1(c1(X))).shape)\n",
    "print(flttn(m1(a1(c1(X)))).shape)\n",
    "print(l1(flttn(m1(a1(c1(X))))).shape)\n",
    "print(a2(l1(flttn(m1(a1(c1(X)))))).shape)"
   ]
  },
  {
   "cell_type": "markdown",
   "id": "a5bf818d",
   "metadata": {},
   "source": [
    "`-` 네트워크 설계"
   ]
  },
  {
   "cell_type": "code",
   "execution_count": 54,
   "id": "099da93d",
   "metadata": {},
   "outputs": [],
   "source": [
    "net = torch.nn.Sequential(c1, a1, m1, flttn, l1, a2)"
   ]
  },
  {
   "cell_type": "code",
   "execution_count": 56,
   "id": "3d7e8468",
   "metadata": {},
   "outputs": [],
   "source": [
    "loss_fn = torch.nn.BCELoss()\n",
    "optimizer = torch.optim.Adam(net.parameters())"
   ]
  },
  {
   "cell_type": "code",
   "execution_count": 57,
   "id": "1b1c0815",
   "metadata": {},
   "outputs": [
    {
     "data": {
      "text/plain": [
       "52.05671548843384"
      ]
     },
     "execution_count": 57,
     "metadata": {},
     "output_type": "execute_result"
    }
   ],
   "source": [
    "t1 = time.time()\n",
    "\n",
    "for epoch in range(100):\n",
    "    ## step 1\n",
    "    yhat = net(X)\n",
    "    ## step 2\n",
    "    loss = loss_fn(yhat, y)\n",
    "    ## step 3\n",
    "    loss.backward()\n",
    "    ## step 4\n",
    "    optimizer.step()\n",
    "    optimizer.zero_grad()\n",
    "    \n",
    "t2 = time.time()\n",
    "t2 - t1"
   ]
  },
  {
   "cell_type": "code",
   "execution_count": 58,
   "id": "187cadbe",
   "metadata": {},
   "outputs": [
    {
     "data": {
      "text/plain": [
       "Text(0.5, 1.0, 'Training Set')"
      ]
     },
     "execution_count": 58,
     "metadata": {},
     "output_type": "execute_result"
    },
    {
     "data": {
      "image/png": "[encoded data removed]",
      "text/plain": [
       "<Figure size 432x288 with 1 Axes>"
      ]
     },
     "metadata": {
      "needs_background": "light"
     },
     "output_type": "display_data"
    }
   ],
   "source": [
    "plt.plot(y)\n",
    "plt.plot(net(X).data, '.')\n",
    "plt.title('Training Set', size = 15)"
   ]
  },
  {
   "cell_type": "markdown",
   "id": "6ae6f4ea",
   "metadata": {},
   "source": [
    "# CNN 구현 (GPU)"
   ]
  },
  {
   "cell_type": "markdown",
   "id": "9f66cf5c",
   "metadata": {},
   "source": [
    "## 1. dls"
   ]
  },
  {
   "cell_type": "code",
   "execution_count": 65,
   "id": "36f261da",
   "metadata": {},
   "outputs": [],
   "source": [
    "ds1 = torch.utils.data.TensorDataset(X, y)\n",
    "ds2 = torch.utils.data.TensorDataset(XX, yy)"
   ]
  },
  {
   "cell_type": "code",
   "execution_count": 66,
   "id": "714205dd",
   "metadata": {},
   "outputs": [
    {
     "data": {
      "text/plain": [
       "torch.Size([12665, 1, 28, 28])"
      ]
     },
     "execution_count": 66,
     "metadata": {},
     "output_type": "execute_result"
    }
   ],
   "source": [
    "X.shape"
   ]
  },
  {
   "cell_type": "code",
   "execution_count": 67,
   "id": "da8c95a4",
   "metadata": {},
   "outputs": [
    {
     "data": {
      "text/plain": [
       "1266.5"
      ]
     },
     "execution_count": 67,
     "metadata": {},
     "output_type": "execute_result"
    }
   ],
   "source": [
    "len(X) / 10"
   ]
  },
  {
   "cell_type": "code",
   "execution_count": 68,
   "id": "2f10ef2e",
   "metadata": {},
   "outputs": [
    {
     "data": {
      "text/plain": [
       "2115"
      ]
     },
     "execution_count": 68,
     "metadata": {},
     "output_type": "execute_result"
    }
   ],
   "source": [
    "len(XX)"
   ]
  },
  {
   "cell_type": "code",
   "execution_count": 69,
   "id": "179a81b2",
   "metadata": {},
   "outputs": [],
   "source": [
    "dl1 = torch.utils.data.DataLoader(ds1, batch_size = 1266)\n",
    "dl2 = torch.utils.data.DataLoader(ds2, batch_size = 2115)"
   ]
  },
  {
   "cell_type": "code",
   "execution_count": 70,
   "id": "e4ec6250",
   "metadata": {},
   "outputs": [],
   "source": [
    "dls = DataLoaders(dl1, dl2)"
   ]
  },
  {
   "cell_type": "markdown",
   "id": "d0af7d4c",
   "metadata": {},
   "source": [
    "## 2. lnrn 생성 : 아키텍처, 손실함수, 옵티마이저"
   ]
  },
  {
   "cell_type": "code",
   "execution_count": 71,
   "id": "8e0e7a33",
   "metadata": {},
   "outputs": [],
   "source": [
    "net = torch.nn.Sequential(torch.nn.Conv2d(1, 16, (5, 5)),\n",
    "                         torch.nn.ReLU(),\n",
    "                         torch.nn.MaxPool2d((2, 2)),\n",
    "                         torch.nn.Flatten(),\n",
    "                         torch.nn.Linear(2304, 1),\n",
    "                         torch.nn.Sigmoid())\n",
    "loss_fn = torch.nn.BCELoss()"
   ]
  },
  {
   "cell_type": "code",
   "execution_count": 72,
   "id": "9e48c3e3",
   "metadata": {},
   "outputs": [],
   "source": [
    "lrnr = Learner(dls, net, loss_fn)"
   ]
  },
  {
   "cell_type": "markdown",
   "id": "eff14684",
   "metadata": {},
   "source": [
    "## 3. 학습"
   ]
  },
  {
   "cell_type": "code",
   "execution_count": 73,
   "id": "51214dfb",
   "metadata": {},
   "outputs": [
    {
     "data": {
      "text/html": [
       "\n",
       "<style>\n",
       "    /* Turns off some styling */\n",
       "    progress {\n",
       "        /* gets rid of default border in Firefox and Opera. */\n",
       "        border: none;\n",
       "        /* Needs to be in here for Safari polyfill so background images work as expected. */\n",
       "        background-size: auto;\n",
       "    }\n",
       "    progress:not([value]), progress:not([value])::-webkit-progress-bar {\n",
       "        background: repeating-linear-gradient(45deg, #7e7e7e, #7e7e7e 10px, #5c5c5c 10px, #5c5c5c 20px);\n",
       "    }\n",
       "    .progress-bar-interrupted, .progress-bar-interrupted::-webkit-progress-bar {\n",
       "        background: #F44336;\n",
       "    }\n",
       "</style>\n"
      ],
      "text/plain": [
       "<IPython.core.display.HTML object>"
      ]
     },
     "metadata": {},
     "output_type": "display_data"
    },
    {
     "data": {
      "text/html": [
       "<table border=\"1\" class=\"dataframe\">\n",
       "  <thead>\n",
       "    <tr style=\"text-align: left;\">\n",
       "      <th>epoch</th>\n",
       "      <th>train_loss</th>\n",
       "      <th>valid_loss</th>\n",
       "      <th>time</th>\n",
       "    </tr>\n",
       "  </thead>\n",
       "  <tbody>\n",
       "    <tr>\n",
       "      <td>0</td>\n",
       "      <td>0.991282</td>\n",
       "      <td>0.619085</td>\n",
       "      <td>00:03</td>\n",
       "    </tr>\n",
       "    <tr>\n",
       "      <td>1</td>\n",
       "      <td>0.670625</td>\n",
       "      <td>0.341608</td>\n",
       "      <td>00:00</td>\n",
       "    </tr>\n",
       "    <tr>\n",
       "      <td>2</td>\n",
       "      <td>0.503302</td>\n",
       "      <td>0.198077</td>\n",
       "      <td>00:00</td>\n",
       "    </tr>\n",
       "    <tr>\n",
       "      <td>3</td>\n",
       "      <td>0.387530</td>\n",
       "      <td>0.104358</td>\n",
       "      <td>00:00</td>\n",
       "    </tr>\n",
       "    <tr>\n",
       "      <td>4</td>\n",
       "      <td>0.299216</td>\n",
       "      <td>0.062006</td>\n",
       "      <td>00:00</td>\n",
       "    </tr>\n",
       "    <tr>\n",
       "      <td>5</td>\n",
       "      <td>0.233724</td>\n",
       "      <td>0.041215</td>\n",
       "      <td>00:00</td>\n",
       "    </tr>\n",
       "    <tr>\n",
       "      <td>6</td>\n",
       "      <td>0.185017</td>\n",
       "      <td>0.029626</td>\n",
       "      <td>00:00</td>\n",
       "    </tr>\n",
       "    <tr>\n",
       "      <td>7</td>\n",
       "      <td>0.148258</td>\n",
       "      <td>0.022577</td>\n",
       "      <td>00:00</td>\n",
       "    </tr>\n",
       "    <tr>\n",
       "      <td>8</td>\n",
       "      <td>0.120027</td>\n",
       "      <td>0.017928</td>\n",
       "      <td>00:00</td>\n",
       "    </tr>\n",
       "    <tr>\n",
       "      <td>9</td>\n",
       "      <td>0.097999</td>\n",
       "      <td>0.014688</td>\n",
       "      <td>00:00</td>\n",
       "    </tr>\n",
       "  </tbody>\n",
       "</table>"
      ],
      "text/plain": [
       "<IPython.core.display.HTML object>"
      ]
     },
     "metadata": {},
     "output_type": "display_data"
    }
   ],
   "source": [
    "lrnr.fit(10)"
   ]
  },
  {
   "cell_type": "markdown",
   "id": "272f4f00",
   "metadata": {},
   "source": [
    "## 4. 예측 및 시각화"
   ]
  },
  {
   "cell_type": "code",
   "execution_count": 74,
   "id": "2a66b6a0",
   "metadata": {},
   "outputs": [
    {
     "data": {
      "text/plain": [
       "Sequential(\n",
       "  (0): Conv2d(1, 16, kernel_size=(5, 5), stride=(1, 1))\n",
       "  (1): ReLU()\n",
       "  (2): MaxPool2d(kernel_size=(2, 2), stride=(2, 2), padding=0, dilation=1, ceil_mode=False)\n",
       "  (3): Flatten(start_dim=1, end_dim=-1)\n",
       "  (4): Linear(in_features=2304, out_features=1, bias=True)\n",
       "  (5): Sigmoid()\n",
       ")"
      ]
     },
     "execution_count": 74,
     "metadata": {},
     "output_type": "execute_result"
    }
   ],
   "source": [
    "net.to(\"cpu\")"
   ]
  },
  {
   "cell_type": "code",
   "execution_count": 75,
   "id": "fc73e001",
   "metadata": {},
   "outputs": [
    {
     "data": {
      "text/plain": [
       "Text(0.5, 1.0, 'Training Set')"
      ]
     },
     "execution_count": 75,
     "metadata": {},
     "output_type": "execute_result"
    },
    {
     "data": {
      "image/png": "[encoded data removed]",
      "text/plain": [
       "<Figure size 432x288 with 1 Axes>"
      ]
     },
     "metadata": {
      "needs_background": "light"
     },
     "output_type": "display_data"
    }
   ],
   "source": [
    "plt.plot(net(X).data, '.')\n",
    "plt.title(\"Training Set\", size = 15)"
   ]
  },
  {
   "cell_type": "code",
   "execution_count": 76,
   "id": "f81618cc",
   "metadata": {},
   "outputs": [
    {
     "data": {
      "text/plain": [
       "Text(0.5, 1.0, 'Test Set')"
      ]
     },
     "execution_count": 76,
     "metadata": {},
     "output_type": "execute_result"
    },
    {
     "data": {
      "image/png": "[encoded data removed]",
      "text/plain": [
       "<Figure size 432x288 with 1 Axes>"
      ]
     },
     "metadata": {
      "needs_background": "light"
     },
     "output_type": "display_data"
    }
   ],
   "source": [
    "plt.plot(net(XX).data, '.')\n",
    "plt.title(\"Test Set\", size = 15)"
   ]
  },
  {
   "cell_type": "markdown",
   "id": "1c84d5f4",
   "metadata": {},
   "source": [
    "`-` 빠르고 적합결과가 좋음"
   ]
  },
  {
   "cell_type": "markdown",
   "id": "e17c8878",
   "metadata": {},
   "source": [
    "## Lrnr 오브젝트"
   ]
  },
  {
   "cell_type": "code",
   "execution_count": 77,
   "id": "00378436",
   "metadata": {},
   "outputs": [
    {
     "data": {
      "text/plain": [
       "Sequential(\n",
       "  (0): Conv2d(1, 16, kernel_size=(5, 5), stride=(1, 1))\n",
       "  (1): ReLU()\n",
       "  (2): MaxPool2d(kernel_size=(2, 2), stride=(2, 2), padding=0, dilation=1, ceil_mode=False)\n",
       "  (3): Flatten(start_dim=1, end_dim=-1)\n",
       "  (4): Linear(in_features=2304, out_features=1, bias=True)\n",
       "  (5): Sigmoid()\n",
       ")"
      ]
     },
     "execution_count": 77,
     "metadata": {},
     "output_type": "execute_result"
    }
   ],
   "source": [
    "lrnr.model"
   ]
  },
  {
   "cell_type": "code",
   "execution_count": 78,
   "id": "9d89bc04",
   "metadata": {},
   "outputs": [
    {
     "data": {
      "text/plain": [
       "Sequential(\n",
       "  (0): Conv2d(1, 16, kernel_size=(5, 5), stride=(1, 1))\n",
       "  (1): ReLU()\n",
       "  (2): MaxPool2d(kernel_size=(2, 2), stride=(2, 2), padding=0, dilation=1, ceil_mode=False)\n",
       "  (3): Flatten(start_dim=1, end_dim=-1)\n",
       "  (4): Linear(in_features=2304, out_features=1, bias=True)\n",
       "  (5): Sigmoid()\n",
       ")"
      ]
     },
     "execution_count": 78,
     "metadata": {},
     "output_type": "execute_result"
    }
   ],
   "source": [
    "net"
   ]
  },
  {
   "cell_type": "code",
   "execution_count": 79,
   "id": "9631d0df",
   "metadata": {},
   "outputs": [
    {
     "data": {
      "text/plain": [
       "(1730046488000, 1730046488000)"
      ]
     },
     "execution_count": 79,
     "metadata": {},
     "output_type": "execute_result"
    }
   ],
   "source": [
    "id(lrnr.model), id(net)"
   ]
  },
  {
   "cell_type": "code",
   "execution_count": 80,
   "id": "10854cb1",
   "metadata": {},
   "outputs": [
    {
     "data": {
      "text/plain": [
       "tensor([[0.0022],\n",
       "        [0.0062],\n",
       "        [0.0010],\n",
       "        ...,\n",
       "        [0.9944],\n",
       "        [0.9928],\n",
       "        [0.9961]], grad_fn=<SigmoidBackward0>)"
      ]
     },
     "execution_count": 80,
     "metadata": {},
     "output_type": "execute_result"
    }
   ],
   "source": [
    "lrnr.model(X)"
   ]
  },
  {
   "cell_type": "markdown",
   "id": "671e622f",
   "metadata": {},
   "source": [
    "# BCEWithLogitsLoss"
   ]
  },
  {
   "cell_type": "markdown",
   "id": "d063ca2c",
   "metadata": {},
   "source": [
    "`-` BCEWithLogitsLoss = Sigmoid + BCELoss"
   ]
  },
  {
   "cell_type": "markdown",
   "id": "725bcd29",
   "metadata": {},
   "source": [
    " - 사용하는 이유 : 수치적으로 더 안정적"
   ]
  },
  {
   "cell_type": "markdown",
   "id": "84de45f9",
   "metadata": {},
   "source": [
    "## (1) dls 만들기"
   ]
  },
  {
   "cell_type": "code",
   "execution_count": 81,
   "id": "68e2a025",
   "metadata": {},
   "outputs": [],
   "source": [
    "ds1 = torch.utils.data.TensorDataset(X, y)\n",
    "ds2 = torch.utils.data.TensorDataset(XX, yy)"
   ]
  },
  {
   "cell_type": "code",
   "execution_count": 82,
   "id": "f108be2f",
   "metadata": {},
   "outputs": [],
   "source": [
    "dl1 = torch.utils.data.DataLoader(ds1, batch_size = 1266)\n",
    "dl2 = torch.utils.data.DataLoader(ds2, batch_size = 2115)"
   ]
  },
  {
   "cell_type": "code",
   "execution_count": 83,
   "id": "72cb5d72",
   "metadata": {},
   "outputs": [],
   "source": [
    "dls = DataLoaders(dl1, dl2)"
   ]
  },
  {
   "cell_type": "markdown",
   "id": "fbbb4b60",
   "metadata": {},
   "source": [
    "## (2) lrnr 생성"
   ]
  },
  {
   "cell_type": "code",
   "execution_count": 84,
   "id": "99214425",
   "metadata": {},
   "outputs": [],
   "source": [
    "net = torch.nn.Sequential(torch.nn.Conv2d(1, 16, (5, 5)),\n",
    "                         torch.nn.ReLU(),\n",
    "                         torch.nn.MaxPool2d((2, 2)),\n",
    "                         torch.nn.Flatten(),\n",
    "                         torch.nn.Linear(2304, 1),\n",
    "                         # torch.nn.Sigmoid\n",
    "                         )\n",
    "loss_fn = torch.nn.BCEWithLogitsLoss()\n",
    "lrnr = Learner(dls, net, loss_fn)"
   ]
  },
  {
   "cell_type": "markdown",
   "id": "43343da7",
   "metadata": {},
   "source": [
    "## (3) 학습"
   ]
  },
  {
   "cell_type": "code",
   "execution_count": 85,
   "id": "f57a6ec7",
   "metadata": {},
   "outputs": [
    {
     "data": {
      "text/html": [
       "\n",
       "<style>\n",
       "    /* Turns off some styling */\n",
       "    progress {\n",
       "        /* gets rid of default border in Firefox and Opera. */\n",
       "        border: none;\n",
       "        /* Needs to be in here for Safari polyfill so background images work as expected. */\n",
       "        background-size: auto;\n",
       "    }\n",
       "    progress:not([value]), progress:not([value])::-webkit-progress-bar {\n",
       "        background: repeating-linear-gradient(45deg, #7e7e7e, #7e7e7e 10px, #5c5c5c 10px, #5c5c5c 20px);\n",
       "    }\n",
       "    .progress-bar-interrupted, .progress-bar-interrupted::-webkit-progress-bar {\n",
       "        background: #F44336;\n",
       "    }\n",
       "</style>\n"
      ],
      "text/plain": [
       "<IPython.core.display.HTML object>"
      ]
     },
     "metadata": {},
     "output_type": "display_data"
    },
    {
     "data": {
      "text/html": [
       "<table border=\"1\" class=\"dataframe\">\n",
       "  <thead>\n",
       "    <tr style=\"text-align: left;\">\n",
       "      <th>epoch</th>\n",
       "      <th>train_loss</th>\n",
       "      <th>valid_loss</th>\n",
       "      <th>time</th>\n",
       "    </tr>\n",
       "  </thead>\n",
       "  <tbody>\n",
       "    <tr>\n",
       "      <td>0</td>\n",
       "      <td>0.892442</td>\n",
       "      <td>0.606591</td>\n",
       "      <td>00:00</td>\n",
       "    </tr>\n",
       "    <tr>\n",
       "      <td>1</td>\n",
       "      <td>0.666649</td>\n",
       "      <td>0.397382</td>\n",
       "      <td>00:00</td>\n",
       "    </tr>\n",
       "    <tr>\n",
       "      <td>2</td>\n",
       "      <td>0.523290</td>\n",
       "      <td>0.242031</td>\n",
       "      <td>00:00</td>\n",
       "    </tr>\n",
       "    <tr>\n",
       "      <td>3</td>\n",
       "      <td>0.411065</td>\n",
       "      <td>0.128731</td>\n",
       "      <td>00:00</td>\n",
       "    </tr>\n",
       "    <tr>\n",
       "      <td>4</td>\n",
       "      <td>0.320348</td>\n",
       "      <td>0.071073</td>\n",
       "      <td>00:00</td>\n",
       "    </tr>\n",
       "    <tr>\n",
       "      <td>5</td>\n",
       "      <td>0.250880</td>\n",
       "      <td>0.044551</td>\n",
       "      <td>00:00</td>\n",
       "    </tr>\n",
       "    <tr>\n",
       "      <td>6</td>\n",
       "      <td>0.198633</td>\n",
       "      <td>0.031172</td>\n",
       "      <td>00:00</td>\n",
       "    </tr>\n",
       "    <tr>\n",
       "      <td>7</td>\n",
       "      <td>0.159071</td>\n",
       "      <td>0.023557</td>\n",
       "      <td>00:00</td>\n",
       "    </tr>\n",
       "    <tr>\n",
       "      <td>8</td>\n",
       "      <td>0.128692</td>\n",
       "      <td>0.018763</td>\n",
       "      <td>00:00</td>\n",
       "    </tr>\n",
       "    <tr>\n",
       "      <td>9</td>\n",
       "      <td>0.105028</td>\n",
       "      <td>0.015471</td>\n",
       "      <td>00:00</td>\n",
       "    </tr>\n",
       "  </tbody>\n",
       "</table>"
      ],
      "text/plain": [
       "<IPython.core.display.HTML object>"
      ]
     },
     "metadata": {},
     "output_type": "display_data"
    }
   ],
   "source": [
    "lrnr.fit(10)"
   ]
  },
  {
   "cell_type": "markdown",
   "id": "883d408a",
   "metadata": {},
   "source": [
    "## (4) 예측 및 시각화"
   ]
  },
  {
   "cell_type": "code",
   "execution_count": 86,
   "id": "055c56d2",
   "metadata": {},
   "outputs": [
    {
     "data": {
      "text/plain": [
       "Sequential(\n",
       "  (0): Conv2d(1, 16, kernel_size=(5, 5), stride=(1, 1))\n",
       "  (1): ReLU()\n",
       "  (2): MaxPool2d(kernel_size=(2, 2), stride=(2, 2), padding=0, dilation=1, ceil_mode=False)\n",
       "  (3): Flatten(start_dim=1, end_dim=-1)\n",
       "  (4): Linear(in_features=2304, out_features=1, bias=True)\n",
       ")"
      ]
     },
     "execution_count": 86,
     "metadata": {},
     "output_type": "execute_result"
    }
   ],
   "source": [
    "net.to('cpu')"
   ]
  },
  {
   "cell_type": "code",
   "execution_count": 87,
   "id": "e6e0683a",
   "metadata": {},
   "outputs": [
    {
     "data": {
      "text/plain": [
       "Text(0.5, 0.98, 'Training Set')"
      ]
     },
     "execution_count": 87,
     "metadata": {},
     "output_type": "execute_result"
    },
    {
     "data": {
      "image/png": "[encoded data removed]",
      "text/plain": [
       "<Figure size 576x288 with 2 Axes>"
      ]
     },
     "metadata": {
      "needs_background": "light"
     },
     "output_type": "display_data"
    }
   ],
   "source": [
    "fig, ax = plt.subplots(1, 2, figsize = (8, 4))\n",
    "ax[0].plot(net(X).data, '.', color = 'C1')\n",
    "ax[1].plot(y)\n",
    "ax[1].plot(a2(net(X)).data, '.')\n",
    "fig.suptitle('Training Set', size = 15)"
   ]
  },
  {
   "cell_type": "code",
   "execution_count": 88,
   "id": "39389619",
   "metadata": {},
   "outputs": [
    {
     "data": {
      "text/plain": [
       "Text(0.5, 0.98, 'Training Set')"
      ]
     },
     "execution_count": 88,
     "metadata": {},
     "output_type": "execute_result"
    },
    {
     "data": {
      "image/png": "[encoded data removed]",
      "text/plain": [
       "<Figure size 576x288 with 2 Axes>"
      ]
     },
     "metadata": {
      "needs_background": "light"
     },
     "output_type": "display_data"
    }
   ],
   "source": [
    "fig, ax = plt.subplots(1, 2, figsize = (8, 4))\n",
    "ax[0].plot(net(XX).data, '.', color = 'C1')\n",
    "ax[1].plot(yy)\n",
    "ax[1].plot(a2(net(XX)).data, '.')\n",
    "fig.suptitle('Training Set', size = 15)"
   ]
  },
  {
   "cell_type": "markdown",
   "id": "653d1b4a",
   "metadata": {},
   "source": [
    "`-` IAB 딥러닝 수업 자료를 기반으로 공부한 내용입니다."
   ]
  },
  {
   "cell_type": "code",
   "execution_count": null,
   "id": "10f2f379",
   "metadata": {},
   "outputs": [],
   "source": []
  }
 ],
 "metadata": {
  "kernelspec": {
   "display_name": "Python 3 (ipykernel)",
   "language": "python",
   "name": "python3"
  },
  "language_info": {
   "codemirror_mode": {
    "name": "ipython",
    "version": 3
   },
   "file_extension": ".py",
   "mimetype": "text/x-python",
   "name": "python",
   "nbconvert_exporter": "python",
   "pygments_lexer": "ipython3",
   "version": "3.9.12"
  }
 },
 "nbformat": 4,
 "nbformat_minor": 5
}
