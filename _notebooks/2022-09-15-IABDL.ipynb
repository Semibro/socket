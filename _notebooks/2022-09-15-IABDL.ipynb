{
 "cells": [
  {
   "cell_type": "markdown",
   "id": "a1ae2af0",
   "metadata": {},
   "source": [
    "# IAB딥러닝 9월 15일 \n",
    "> Overview - 이미지분석, 추천시스템, 텍스트분석의 비교정리, GAN\n",
    "\n",
    "- toc:true\n",
    "- branch: master\n",
    "- badges: true\n",
    "- comments: true\n",
    "- author: 김준형"
   ]
  },
  {
   "cell_type": "markdown",
   "id": "57741876",
   "metadata": {},
   "source": [
    "## Import"
   ]
  },
  {
   "cell_type": "code",
   "execution_count": 1,
   "id": "6ba6e17a",
   "metadata": {},
   "outputs": [],
   "source": [
    "from fastai.vision.all import *\n",
    "from fastai.vision.gan import *"
   ]
  },
  {
   "cell_type": "markdown",
   "id": "11d19a7a",
   "metadata": {},
   "source": [
    "## 이미지분석, 추천시스템, 텍스트분석의 정리\n",
    "`-` 데이터는 모두 아래와 비슷하다.\n",
    "\n",
    "(1) 데이터는 (X, y)의 형태로 정리되어 있음\n",
    "\n",
    "(2) y는 알고자 하는 값 즉, y를 적절하게 추정하는 것이 중요\n",
    "\n",
    "(3) X는 y를 추정하기 위해 필요한 정보\n"
   ]
  },
  {
   "cell_type": "markdown",
   "id": "7d00239d",
   "metadata": {},
   "source": [
    "|$X$ = 설명변수 = 독립변수 | $y$ = 반응변수 = 종속변수 | 비고 | 순서 | 예시 | \n",
    "|:-:|:-:|:-:|:-:|:-:\n",
    "|이미지|카테고리|합성곱신경망| 상관없음 | 개/고양이 이미지 구분 |\n",
    "|유저,아이템|평점|추천시스템| 상관없음 | 넷플릭스 영화추천 |\n",
    "|과거~오늘까지의주가|내일주가|순환신경망| 순서상관있음 | 주가예측 |\n",
    "|처음 $m$개의 단어(혹은 문장)|이후 1개의 단어(혹은 문장)|순환신경망| 순서상관있음 | 챗봇, 텍스트생성 |\n",
    "|처음 $m$개의 단어(혹은 문장)|카테고리|순환신경망| 순서상관있음 | 영화리뷰 텍스트 감정분류 | "
   ]
  },
  {
   "cell_type": "markdown",
   "id": "7cba31bd",
   "metadata": {},
   "source": [
    "`-` 학습이란 주어진 자료 (X, y)를 잘 분석하여 X에서 y로 가는 어떠한 규칙(맵핑, 함수, 모델, 네트워크) 혹은 원리를 찾는 것"
   ]
  },
  {
   "cell_type": "markdown",
   "id": "cd7e0e08",
   "metadata": {},
   "source": [
    "## GAN"
   ]
  },
  {
   "cell_type": "markdown",
   "id": "5665d9ba",
   "metadata": {},
   "source": [
    "`-` GAN은 생성모형 중 하나\n",
    "\n",
    "`-` GAN의 원리는 경찰과 위조지폐범이 서로 경쟁을 통해 발전하는 모형으로 설명 가능\n",
    "\n",
    "`-` 서로 적대적인(adversarial) 네트워크(network)를 동시에 학습시켜 가짜이미지를 생성(generate)\n",
    "\n",
    "`-` 상황극\n",
    "\n",
    "  - 위조범 : 가짜 돈을 만들어보자! (가짜 돈 생성)\n",
    "        \n",
    "  - 경찰 : 가짜 돈을 판별함\n",
    "    \n",
    "  - 위조범 : 더 정교하게 만들어야겠다!\n",
    "    \n",
    "  - 경찰 : 진짜 돈인가? 가짜 돈인가? (구분이 어려워짐)\n",
    "    \n",
    "  - 위조범 : 더 더 정교하게 만들자!\n",
    "    \n",
    "  - 경찰 : 판별능력을 업그레이드 하자!\n",
    "    \n",
    "  - 반복...\n",
    "\n",
    "`-` 경찰이 진짜 돈과 가짜 돈을 구분하지 못할 때( = 진짜 이미지를 0.5의 확률로 진짜라고 판단할 때 = 가짜 이미지를 0.5의 확률로 가짜라고 판단할 때) 학습을 멈춤"
   ]
  },
  {
   "cell_type": "markdown",
   "id": "4ca32dca",
   "metadata": {},
   "source": [
    "### 1단계"
   ]
  },
  {
   "cell_type": "code",
   "execution_count": 2,
   "id": "1d12a6e7",
   "metadata": {},
   "outputs": [
    {
     "data": {
      "text/html": [
       "\n",
       "<style>\n",
       "    /* Turns off some styling */\n",
       "    progress {\n",
       "        /* gets rid of default border in Firefox and Opera. */\n",
       "        border: none;\n",
       "        /* Needs to be in here for Safari polyfill so background images work as expected. */\n",
       "        background-size: auto;\n",
       "    }\n",
       "    progress:not([value]), progress:not([value])::-webkit-progress-bar {\n",
       "        background: repeating-linear-gradient(45deg, #7e7e7e, #7e7e7e 10px, #5c5c5c 10px, #5c5c5c 20px);\n",
       "    }\n",
       "    .progress-bar-interrupted, .progress-bar-interrupted::-webkit-progress-bar {\n",
       "        background: #F44336;\n",
       "    }\n",
       "</style>\n"
      ],
      "text/plain": [
       "<IPython.core.display.HTML object>"
      ]
     },
     "metadata": {},
     "output_type": "display_data"
    },
    {
     "data": {
      "text/html": [
       "\n",
       "    <div>\n",
       "      <progress value='3219456' class='' max='3214948' style='width:300px; height:20px; vertical-align: middle;'></progress>\n",
       "      100.14% [3219456/3214948 00:01&lt;00:00]\n",
       "    </div>\n",
       "    "
      ],
      "text/plain": [
       "<IPython.core.display.HTML object>"
      ]
     },
     "metadata": {},
     "output_type": "display_data"
    }
   ],
   "source": [
    "path = untar_data(URLs.MNIST_SAMPLE)"
   ]
  },
  {
   "cell_type": "code",
   "execution_count": 12,
   "id": "9e095f5c",
   "metadata": {},
   "outputs": [
    {
     "name": "stdout",
     "output_type": "stream",
     "text": [
      "Due to IPython and Windows limitation, python multiprocessing isn't available now.\n",
      "So `number_workers` is changed to 0 to avoid getting stuck\n"
     ]
    }
   ],
   "source": [
    "dblock = DataBlock(blocks = (TransformBlock, ImageBlock),\n",
    "          get_x = generate_noise,\n",
    "          get_items = get_image_files,\n",
    "          item_tfms = Resize(32))\n",
    "dls = dblock.dataloaders(path) "
   ]
  },
  {
   "cell_type": "code",
   "execution_count": 11,
   "id": "4876d470",
   "metadata": {},
   "outputs": [
    {
     "data": {
      "image/png": "[encoded data removed]",
      "text/plain": [
       "<Figure size 648x648 with 9 Axes>"
      ]
     },
     "metadata": {
      "needs_background": "light"
     },
     "output_type": "display_data"
    }
   ],
   "source": [
    "dls.show_batch()"
   ]
  },
  {
   "cell_type": "markdown",
   "id": "6cb871e5",
   "metadata": {},
   "source": [
    "### 2단계"
   ]
  },
  {
   "cell_type": "code",
   "execution_count": 13,
   "id": "b8e3f5ce",
   "metadata": {},
   "outputs": [],
   "source": [
    "counterfeiter = basic_generator(32, n_channels = 3, n_extra_layers = 1)  # 32 * 32 컬러 이미지 출력\n",
    "police = basic_critic(32, n_channels = 3, n_extra_layers = 1)  # 32 * 32 컬러 이미지 입력"
   ]
  },
  {
   "cell_type": "code",
   "execution_count": 14,
   "id": "fe12b2d7",
   "metadata": {},
   "outputs": [],
   "source": [
    "lrnr = GANLearner.wgan(dls,counterfeiter,police) "
   ]
  },
  {
   "cell_type": "markdown",
   "id": "16e5b645",
   "metadata": {},
   "source": [
    "### 3단계"
   ]
  },
  {
   "cell_type": "code",
   "execution_count": 15,
   "id": "a0d3c412",
   "metadata": {},
   "outputs": [
    {
     "name": "stderr",
     "output_type": "stream",
     "text": [
      "C:\\Users\\USER\\anaconda3\\lib\\site-packages\\fastai\\callback\\core.py:69: UserWarning: You are shadowing an attribute (generator) that exists in the learner. Use `self.learn.generator` to avoid this\n",
      "  warn(f\"You are shadowing an attribute ({name}) that exists in the learner. Use `self.learn.{name}` to avoid this\")\n",
      "C:\\Users\\USER\\anaconda3\\lib\\site-packages\\fastai\\callback\\core.py:69: UserWarning: You are shadowing an attribute (critic) that exists in the learner. Use `self.learn.critic` to avoid this\n",
      "  warn(f\"You are shadowing an attribute ({name}) that exists in the learner. Use `self.learn.{name}` to avoid this\")\n",
      "C:\\Users\\USER\\anaconda3\\lib\\site-packages\\fastai\\callback\\core.py:69: UserWarning: You are shadowing an attribute (gen_mode) that exists in the learner. Use `self.learn.gen_mode` to avoid this\n",
      "  warn(f\"You are shadowing an attribute ({name}) that exists in the learner. Use `self.learn.{name}` to avoid this\")\n"
     ]
    },
    {
     "data": {
      "text/html": [
       "\n",
       "<style>\n",
       "    /* Turns off some styling */\n",
       "    progress {\n",
       "        /* gets rid of default border in Firefox and Opera. */\n",
       "        border: none;\n",
       "        /* Needs to be in here for Safari polyfill so background images work as expected. */\n",
       "        background-size: auto;\n",
       "    }\n",
       "    progress:not([value]), progress:not([value])::-webkit-progress-bar {\n",
       "        background: repeating-linear-gradient(45deg, #7e7e7e, #7e7e7e 10px, #5c5c5c 10px, #5c5c5c 20px);\n",
       "    }\n",
       "    .progress-bar-interrupted, .progress-bar-interrupted::-webkit-progress-bar {\n",
       "        background: #F44336;\n",
       "    }\n",
       "</style>\n"
      ],
      "text/plain": [
       "<IPython.core.display.HTML object>"
      ]
     },
     "metadata": {},
     "output_type": "display_data"
    },
    {
     "data": {
      "text/html": [
       "<table border=\"1\" class=\"dataframe\">\n",
       "  <thead>\n",
       "    <tr style=\"text-align: left;\">\n",
       "      <th>epoch</th>\n",
       "      <th>train_loss</th>\n",
       "      <th>valid_loss</th>\n",
       "      <th>gen_loss</th>\n",
       "      <th>crit_loss</th>\n",
       "      <th>time</th>\n",
       "    </tr>\n",
       "  </thead>\n",
       "  <tbody>\n",
       "    <tr>\n",
       "      <td>0</td>\n",
       "      <td>-0.536390</td>\n",
       "      <td>0.351954</td>\n",
       "      <td>0.351954</td>\n",
       "      <td>-0.755480</td>\n",
       "      <td>00:19</td>\n",
       "    </tr>\n",
       "    <tr>\n",
       "      <td>1</td>\n",
       "      <td>-0.575676</td>\n",
       "      <td>0.368697</td>\n",
       "      <td>0.368697</td>\n",
       "      <td>-0.764731</td>\n",
       "      <td>00:17</td>\n",
       "    </tr>\n",
       "    <tr>\n",
       "      <td>2</td>\n",
       "      <td>-0.579221</td>\n",
       "      <td>0.401217</td>\n",
       "      <td>0.401217</td>\n",
       "      <td>-0.761131</td>\n",
       "      <td>00:17</td>\n",
       "    </tr>\n",
       "    <tr>\n",
       "      <td>3</td>\n",
       "      <td>-0.578511</td>\n",
       "      <td>0.267153</td>\n",
       "      <td>0.267153</td>\n",
       "      <td>-0.764614</td>\n",
       "      <td>00:16</td>\n",
       "    </tr>\n",
       "    <tr>\n",
       "      <td>4</td>\n",
       "      <td>-0.577176</td>\n",
       "      <td>0.245672</td>\n",
       "      <td>0.245672</td>\n",
       "      <td>-0.754542</td>\n",
       "      <td>00:17</td>\n",
       "    </tr>\n",
       "    <tr>\n",
       "      <td>5</td>\n",
       "      <td>-0.561378</td>\n",
       "      <td>0.314552</td>\n",
       "      <td>0.314552</td>\n",
       "      <td>-0.735245</td>\n",
       "      <td>00:17</td>\n",
       "    </tr>\n",
       "    <tr>\n",
       "      <td>6</td>\n",
       "      <td>-0.563071</td>\n",
       "      <td>0.291162</td>\n",
       "      <td>0.291162</td>\n",
       "      <td>-0.738663</td>\n",
       "      <td>00:17</td>\n",
       "    </tr>\n",
       "    <tr>\n",
       "      <td>7</td>\n",
       "      <td>-0.551359</td>\n",
       "      <td>0.266653</td>\n",
       "      <td>0.266653</td>\n",
       "      <td>-0.733204</td>\n",
       "      <td>00:17</td>\n",
       "    </tr>\n",
       "    <tr>\n",
       "      <td>8</td>\n",
       "      <td>-0.535449</td>\n",
       "      <td>0.339633</td>\n",
       "      <td>0.339633</td>\n",
       "      <td>-0.735344</td>\n",
       "      <td>00:17</td>\n",
       "    </tr>\n",
       "    <tr>\n",
       "      <td>9</td>\n",
       "      <td>-0.502449</td>\n",
       "      <td>0.206701</td>\n",
       "      <td>0.206701</td>\n",
       "      <td>-0.687934</td>\n",
       "      <td>00:17</td>\n",
       "    </tr>\n",
       "  </tbody>\n",
       "</table>"
      ],
      "text/plain": [
       "<IPython.core.display.HTML object>"
      ]
     },
     "metadata": {},
     "output_type": "display_data"
    }
   ],
   "source": [
    "lrnr.fit(10)"
   ]
  },
  {
   "cell_type": "code",
   "execution_count": 16,
   "id": "11de641e",
   "metadata": {},
   "outputs": [
    {
     "data": {
      "text/html": [
       "\n",
       "<style>\n",
       "    /* Turns off some styling */\n",
       "    progress {\n",
       "        /* gets rid of default border in Firefox and Opera. */\n",
       "        border: none;\n",
       "        /* Needs to be in here for Safari polyfill so background images work as expected. */\n",
       "        background-size: auto;\n",
       "    }\n",
       "    progress:not([value]), progress:not([value])::-webkit-progress-bar {\n",
       "        background: repeating-linear-gradient(45deg, #7e7e7e, #7e7e7e 10px, #5c5c5c 10px, #5c5c5c 20px);\n",
       "    }\n",
       "    .progress-bar-interrupted, .progress-bar-interrupted::-webkit-progress-bar {\n",
       "        background: #F44336;\n",
       "    }\n",
       "</style>\n"
      ],
      "text/plain": [
       "<IPython.core.display.HTML object>"
      ]
     },
     "metadata": {},
     "output_type": "display_data"
    },
    {
     "data": {
      "text/html": [],
      "text/plain": [
       "<IPython.core.display.HTML object>"
      ]
     },
     "metadata": {},
     "output_type": "display_data"
    },
    {
     "data": {
      "image/png": "[encoded data removed]",
      "text/plain": [
       "<Figure size 648x648 with 9 Axes>"
      ]
     },
     "metadata": {
      "needs_background": "light"
     },
     "output_type": "display_data"
    }
   ],
   "source": [
    "lrnr.show_results()"
   ]
  },
  {
   "cell_type": "code",
   "execution_count": 17,
   "id": "d73a52d3",
   "metadata": {},
   "outputs": [
    {
     "data": {
      "text/html": [
       "\n",
       "<style>\n",
       "    /* Turns off some styling */\n",
       "    progress {\n",
       "        /* gets rid of default border in Firefox and Opera. */\n",
       "        border: none;\n",
       "        /* Needs to be in here for Safari polyfill so background images work as expected. */\n",
       "        background-size: auto;\n",
       "    }\n",
       "    progress:not([value]), progress:not([value])::-webkit-progress-bar {\n",
       "        background: repeating-linear-gradient(45deg, #7e7e7e, #7e7e7e 10px, #5c5c5c 10px, #5c5c5c 20px);\n",
       "    }\n",
       "    .progress-bar-interrupted, .progress-bar-interrupted::-webkit-progress-bar {\n",
       "        background: #F44336;\n",
       "    }\n",
       "</style>\n"
      ],
      "text/plain": [
       "<IPython.core.display.HTML object>"
      ]
     },
     "metadata": {},
     "output_type": "display_data"
    },
    {
     "data": {
      "text/html": [
       "<table border=\"1\" class=\"dataframe\">\n",
       "  <thead>\n",
       "    <tr style=\"text-align: left;\">\n",
       "      <th>epoch</th>\n",
       "      <th>train_loss</th>\n",
       "      <th>valid_loss</th>\n",
       "      <th>gen_loss</th>\n",
       "      <th>crit_loss</th>\n",
       "      <th>time</th>\n",
       "    </tr>\n",
       "  </thead>\n",
       "  <tbody>\n",
       "    <tr>\n",
       "      <td>0</td>\n",
       "      <td>-0.463692</td>\n",
       "      <td>0.356721</td>\n",
       "      <td>0.356721</td>\n",
       "      <td>-0.649763</td>\n",
       "      <td>00:17</td>\n",
       "    </tr>\n",
       "    <tr>\n",
       "      <td>1</td>\n",
       "      <td>-0.517553</td>\n",
       "      <td>0.192659</td>\n",
       "      <td>0.192659</td>\n",
       "      <td>-0.432233</td>\n",
       "      <td>00:17</td>\n",
       "    </tr>\n",
       "    <tr>\n",
       "      <td>2</td>\n",
       "      <td>-0.537279</td>\n",
       "      <td>0.309562</td>\n",
       "      <td>0.309562</td>\n",
       "      <td>-0.716175</td>\n",
       "      <td>00:17</td>\n",
       "    </tr>\n",
       "    <tr>\n",
       "      <td>3</td>\n",
       "      <td>-0.498665</td>\n",
       "      <td>0.248254</td>\n",
       "      <td>0.248254</td>\n",
       "      <td>-0.710489</td>\n",
       "      <td>00:17</td>\n",
       "    </tr>\n",
       "    <tr>\n",
       "      <td>4</td>\n",
       "      <td>-0.516934</td>\n",
       "      <td>0.245185</td>\n",
       "      <td>0.245185</td>\n",
       "      <td>-0.664505</td>\n",
       "      <td>00:17</td>\n",
       "    </tr>\n",
       "    <tr>\n",
       "      <td>5</td>\n",
       "      <td>-0.530214</td>\n",
       "      <td>0.292247</td>\n",
       "      <td>0.292247</td>\n",
       "      <td>-0.728173</td>\n",
       "      <td>00:16</td>\n",
       "    </tr>\n",
       "    <tr>\n",
       "      <td>6</td>\n",
       "      <td>-0.512573</td>\n",
       "      <td>0.280468</td>\n",
       "      <td>0.280468</td>\n",
       "      <td>-0.712356</td>\n",
       "      <td>00:16</td>\n",
       "    </tr>\n",
       "    <tr>\n",
       "      <td>7</td>\n",
       "      <td>-0.492679</td>\n",
       "      <td>0.284331</td>\n",
       "      <td>0.284331</td>\n",
       "      <td>-0.664606</td>\n",
       "      <td>00:16</td>\n",
       "    </tr>\n",
       "    <tr>\n",
       "      <td>8</td>\n",
       "      <td>-0.365144</td>\n",
       "      <td>0.193021</td>\n",
       "      <td>0.193021</td>\n",
       "      <td>-0.294480</td>\n",
       "      <td>00:16</td>\n",
       "    </tr>\n",
       "    <tr>\n",
       "      <td>9</td>\n",
       "      <td>-0.501201</td>\n",
       "      <td>0.332451</td>\n",
       "      <td>0.332451</td>\n",
       "      <td>-0.693011</td>\n",
       "      <td>00:16</td>\n",
       "    </tr>\n",
       "    <tr>\n",
       "      <td>10</td>\n",
       "      <td>-0.342812</td>\n",
       "      <td>0.284920</td>\n",
       "      <td>0.284920</td>\n",
       "      <td>-0.495047</td>\n",
       "      <td>00:16</td>\n",
       "    </tr>\n",
       "    <tr>\n",
       "      <td>11</td>\n",
       "      <td>-0.378736</td>\n",
       "      <td>-0.022325</td>\n",
       "      <td>-0.022325</td>\n",
       "      <td>-0.185245</td>\n",
       "      <td>00:16</td>\n",
       "    </tr>\n",
       "    <tr>\n",
       "      <td>12</td>\n",
       "      <td>-0.470577</td>\n",
       "      <td>0.248631</td>\n",
       "      <td>0.248631</td>\n",
       "      <td>-0.715788</td>\n",
       "      <td>00:16</td>\n",
       "    </tr>\n",
       "    <tr>\n",
       "      <td>13</td>\n",
       "      <td>-0.441847</td>\n",
       "      <td>0.215741</td>\n",
       "      <td>0.215741</td>\n",
       "      <td>-0.645985</td>\n",
       "      <td>00:16</td>\n",
       "    </tr>\n",
       "    <tr>\n",
       "      <td>14</td>\n",
       "      <td>-0.449947</td>\n",
       "      <td>-0.244867</td>\n",
       "      <td>-0.244867</td>\n",
       "      <td>-0.248203</td>\n",
       "      <td>00:16</td>\n",
       "    </tr>\n",
       "    <tr>\n",
       "      <td>15</td>\n",
       "      <td>-0.293098</td>\n",
       "      <td>0.146590</td>\n",
       "      <td>0.146590</td>\n",
       "      <td>-0.276759</td>\n",
       "      <td>00:16</td>\n",
       "    </tr>\n",
       "    <tr>\n",
       "      <td>16</td>\n",
       "      <td>-0.443047</td>\n",
       "      <td>0.297963</td>\n",
       "      <td>0.297963</td>\n",
       "      <td>-0.643778</td>\n",
       "      <td>00:16</td>\n",
       "    </tr>\n",
       "    <tr>\n",
       "      <td>17</td>\n",
       "      <td>-0.385012</td>\n",
       "      <td>0.259445</td>\n",
       "      <td>0.259445</td>\n",
       "      <td>-0.578367</td>\n",
       "      <td>00:16</td>\n",
       "    </tr>\n",
       "    <tr>\n",
       "      <td>18</td>\n",
       "      <td>-0.372060</td>\n",
       "      <td>0.210893</td>\n",
       "      <td>0.210893</td>\n",
       "      <td>-0.552931</td>\n",
       "      <td>00:16</td>\n",
       "    </tr>\n",
       "    <tr>\n",
       "      <td>19</td>\n",
       "      <td>-0.358579</td>\n",
       "      <td>0.086571</td>\n",
       "      <td>0.086571</td>\n",
       "      <td>-0.561554</td>\n",
       "      <td>00:16</td>\n",
       "    </tr>\n",
       "  </tbody>\n",
       "</table>"
      ],
      "text/plain": [
       "<IPython.core.display.HTML object>"
      ]
     },
     "metadata": {},
     "output_type": "display_data"
    }
   ],
   "source": [
    "lrnr.fit(20)  # 추가로 20회 더 진행"
   ]
  },
  {
   "cell_type": "code",
   "execution_count": 18,
   "id": "9228eefd",
   "metadata": {},
   "outputs": [
    {
     "data": {
      "text/html": [
       "\n",
       "<style>\n",
       "    /* Turns off some styling */\n",
       "    progress {\n",
       "        /* gets rid of default border in Firefox and Opera. */\n",
       "        border: none;\n",
       "        /* Needs to be in here for Safari polyfill so background images work as expected. */\n",
       "        background-size: auto;\n",
       "    }\n",
       "    progress:not([value]), progress:not([value])::-webkit-progress-bar {\n",
       "        background: repeating-linear-gradient(45deg, #7e7e7e, #7e7e7e 10px, #5c5c5c 10px, #5c5c5c 20px);\n",
       "    }\n",
       "    .progress-bar-interrupted, .progress-bar-interrupted::-webkit-progress-bar {\n",
       "        background: #F44336;\n",
       "    }\n",
       "</style>\n"
      ],
      "text/plain": [
       "<IPython.core.display.HTML object>"
      ]
     },
     "metadata": {},
     "output_type": "display_data"
    },
    {
     "data": {
      "text/html": [],
      "text/plain": [
       "<IPython.core.display.HTML object>"
      ]
     },
     "metadata": {},
     "output_type": "display_data"
    },
    {
     "data": {
      "image/png": "[encoded data removed]",
      "text/plain": [
       "<Figure size 648x648 with 9 Axes>"
      ]
     },
     "metadata": {
      "needs_background": "light"
     },
     "output_type": "display_data"
    }
   ],
   "source": [
    "lrnr.show_results()"
   ]
  },
  {
   "cell_type": "markdown",
   "id": "7cd53feb",
   "metadata": {},
   "source": [
    "`-` IAB 딥러닝 수업 자료를 기반으로 공부한 내용입니다."
   ]
  }
 ],
 "metadata": {
  "kernelspec": {
   "display_name": "Python 3 (ipykernel)",
   "language": "python",
   "name": "python3"
  },
  "language_info": {
   "codemirror_mode": {
    "name": "ipython",
    "version": 3
   },
   "file_extension": ".py",
   "mimetype": "text/x-python",
   "name": "python",
   "nbconvert_exporter": "python",
   "pygments_lexer": "ipython3",
   "version": "3.9.12"
  }
 },
 "nbformat": 4,
 "nbformat_minor": 5
}
