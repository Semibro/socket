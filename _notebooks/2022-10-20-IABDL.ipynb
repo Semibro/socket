{
 "cells": [
  {
   "cell_type": "markdown",
   "id": "ad3a8541",
   "metadata": {},
   "source": [
    "# IAB딥러닝 10월 18일\n",
    "> 이미지자료분석 --> CNN 다중클래스 분류, fastai metric 사용\n",
    "\n",
    "- toc:true\n",
    "- branch: master\n",
    "- badges: true\n",
    "- comments: true\n",
    "- author: 김준형"
   ]
  },
  {
   "cell_type": "markdown",
   "id": "53ea4b17",
   "metadata": {},
   "source": [
    "# Import"
   ]
  },
  {
   "cell_type": "code",
   "execution_count": 29,
   "id": "bad6e70e",
   "metadata": {},
   "outputs": [],
   "source": [
    "import torch\n",
    "import torchvision\n",
    "import numpy as np\n",
    "import pandas as pd\n",
    "from fastai.vision.all import *"
   ]
  },
  {
   "cell_type": "code",
   "execution_count": 28,
   "id": "b4c67ba5",
   "metadata": {},
   "outputs": [],
   "source": [
    "import os\n",
    "os.environ['KMP_DUPLICATE_LIB_OK'] = 'True'\n",
    "# plt.plot 오류 발생 시 사용"
   ]
  },
  {
   "cell_type": "markdown",
   "id": "052fceb5",
   "metadata": {},
   "source": [
    "# CNN 다중클래스 분류"
   ]
  },
  {
   "cell_type": "markdown",
   "id": "499ad9ae",
   "metadata": {},
   "source": [
    "`-` 2개의 class를 구분하는 문제가 아니라 $k$개의 class를 구분해야 한다면? \n",
    "\n",
    "***일반적인 개념*** \n",
    "\n",
    "- 손실함수: BCE loss $\\to$ Cross Entropy loss \n",
    "- 마지막층의 선형변환: torch.nn.Linear(?,1) $\\to$ torch.nn.Linear(?,k) \n",
    "- 마지막층의 활성화: sig $\\to$ softmax \n",
    "\n",
    "***파이토치 한정*** \n",
    "- **y의형태: (n,) vector + int형 // (n,k) one-hot encoded vector + float형**\n",
    "- 손실함수: torch.nn.BCEWithLogitsLoss,  $\\to$ torch.nn.CrossEntropyLoss\n",
    "- 마지막층의 선형변환: torch.nn.Linear(?,1) $\\to$ torch.nn.Linear(?,k) \n",
    "- 마지막층의 활성화: None $\\to$ None (손실함수에 이미 마지막층의 활성화가 포함) "
   ]
  },
  {
   "cell_type": "markdown",
   "id": "a35872a5",
   "metadata": {},
   "source": [
    "## 실습 : 3개의 클래스 분류"
   ]
  },
  {
   "cell_type": "code",
   "execution_count": 2,
   "id": "287f9e3f",
   "metadata": {},
   "outputs": [],
   "source": [
    "path = untar_data(URLs.MNIST)"
   ]
  },
  {
   "cell_type": "markdown",
   "id": "dc072c63",
   "metadata": {},
   "source": [
    "training set"
   ]
  },
  {
   "cell_type": "code",
   "execution_count": 14,
   "id": "c51756dc",
   "metadata": {},
   "outputs": [],
   "source": [
    "X0 = torch.stack([torchvision.io.read_image(str(fname)) for fname in (path/'training/0').ls()])\n",
    "X1 = torch.stack([torchvision.io.read_image(str(fname)) for fname in (path/'training/1').ls()])\n",
    "X2 = torch.stack([torchvision.io.read_image(str(fname)) for fname in (path/'training/2').ls()])\n",
    "X = torch.concat([X0, X1, X2]) / 255\n",
    "y = torch.tensor([0] * len(X0) + [1] * len(X1) + [2] * len(X2))"
   ]
  },
  {
   "cell_type": "markdown",
   "id": "68435c5f",
   "metadata": {},
   "source": [
    "test set"
   ]
  },
  {
   "cell_type": "code",
   "execution_count": 15,
   "id": "0d96389d",
   "metadata": {},
   "outputs": [],
   "source": [
    "X0 = torch.stack([torchvision.io.read_image(str(fname)) for fname in (path/'testing/0').ls()])\n",
    "X1 = torch.stack([torchvision.io.read_image(str(fname)) for fname in (path/'testing/1').ls()])\n",
    "X2 = torch.stack([torchvision.io.read_image(str(fname)) for fname in (path/'testing/2').ls()])\n",
    "XX = torch.concat([X0, X1, X2]) / 255\n",
    "yy = torch.tensor([0] * len(X0) + [1] * len(X1) + [2] * len(X2))"
   ]
  },
  {
   "cell_type": "markdown",
   "id": "02f01d77",
   "metadata": {},
   "source": [
    "(1) dls"
   ]
  },
  {
   "cell_type": "code",
   "execution_count": 5,
   "id": "72fb677f",
   "metadata": {},
   "outputs": [
    {
     "data": {
      "text/plain": [
       "18623"
      ]
     },
     "execution_count": 5,
     "metadata": {},
     "output_type": "execute_result"
    }
   ],
   "source": [
    "len(X)"
   ]
  },
  {
   "cell_type": "code",
   "execution_count": 6,
   "id": "62cced16",
   "metadata": {},
   "outputs": [],
   "source": [
    "ds1 = torch.utils.data.TensorDataset(X, y)\n",
    "ds2 = torch.utils.data.TensorDataset(XX, yy)\n",
    "dl1 = torch.utils.data.DataLoader(ds1, batch_size = 1862)\n",
    "dl2 = torch.utils.data.DataLoader(ds2, batch_size = 3147)\n",
    "dls = DataLoaders(dl1, dl2)"
   ]
  },
  {
   "cell_type": "markdown",
   "id": "bd6f2fac",
   "metadata": {},
   "source": [
    "(2) lrnr"
   ]
  },
  {
   "cell_type": "code",
   "execution_count": 7,
   "id": "37a8e67e",
   "metadata": {},
   "outputs": [],
   "source": [
    "net1 = torch.nn.Sequential(torch.nn.Conv2d(1, 16, (5, 5)),\n",
    "                          torch.nn.ReLU(),\n",
    "                          torch.nn.MaxPool2d((2, 2)),\n",
    "                          torch.nn.Flatten())"
   ]
  },
  {
   "cell_type": "code",
   "execution_count": 8,
   "id": "b9d76653",
   "metadata": {},
   "outputs": [
    {
     "data": {
      "text/plain": [
       "torch.Size([18623, 2304])"
      ]
     },
     "execution_count": 8,
     "metadata": {},
     "output_type": "execute_result"
    }
   ],
   "source": [
    "net1(X).shape"
   ]
  },
  {
   "cell_type": "code",
   "execution_count": 9,
   "id": "a224b994",
   "metadata": {},
   "outputs": [],
   "source": [
    "net = torch.nn.Sequential(net1,\n",
    "                         torch.nn.Linear(2304, 3))\n",
    "loss_fn = torch.nn.CrossEntropyLoss()"
   ]
  },
  {
   "cell_type": "code",
   "execution_count": 10,
   "id": "fd9e3759",
   "metadata": {},
   "outputs": [],
   "source": [
    "lrnr = Learner(dls, net, loss_fn)"
   ]
  },
  {
   "cell_type": "markdown",
   "id": "e9cf3305",
   "metadata": {},
   "source": [
    "(3) 학습"
   ]
  },
  {
   "cell_type": "code",
   "execution_count": 11,
   "id": "5de531d3",
   "metadata": {},
   "outputs": [
    {
     "data": {
      "text/html": [
       "\n",
       "<style>\n",
       "    /* Turns off some styling */\n",
       "    progress {\n",
       "        /* gets rid of default border in Firefox and Opera. */\n",
       "        border: none;\n",
       "        /* Needs to be in here for Safari polyfill so background images work as expected. */\n",
       "        background-size: auto;\n",
       "    }\n",
       "    progress:not([value]), progress:not([value])::-webkit-progress-bar {\n",
       "        background: repeating-linear-gradient(45deg, #7e7e7e, #7e7e7e 10px, #5c5c5c 10px, #5c5c5c 20px);\n",
       "    }\n",
       "    .progress-bar-interrupted, .progress-bar-interrupted::-webkit-progress-bar {\n",
       "        background: #F44336;\n",
       "    }\n",
       "</style>\n"
      ],
      "text/plain": [
       "<IPython.core.display.HTML object>"
      ]
     },
     "metadata": {},
     "output_type": "display_data"
    },
    {
     "data": {
      "text/html": [
       "<table border=\"1\" class=\"dataframe\">\n",
       "  <thead>\n",
       "    <tr style=\"text-align: left;\">\n",
       "      <th>epoch</th>\n",
       "      <th>train_loss</th>\n",
       "      <th>valid_loss</th>\n",
       "      <th>time</th>\n",
       "    </tr>\n",
       "  </thead>\n",
       "  <tbody>\n",
       "    <tr>\n",
       "      <td>0</td>\n",
       "      <td>1.998352</td>\n",
       "      <td>1.096370</td>\n",
       "      <td>00:03</td>\n",
       "    </tr>\n",
       "    <tr>\n",
       "      <td>1</td>\n",
       "      <td>1.286857</td>\n",
       "      <td>0.791879</td>\n",
       "      <td>00:00</td>\n",
       "    </tr>\n",
       "    <tr>\n",
       "      <td>2</td>\n",
       "      <td>1.070620</td>\n",
       "      <td>0.602117</td>\n",
       "      <td>00:00</td>\n",
       "    </tr>\n",
       "    <tr>\n",
       "      <td>3</td>\n",
       "      <td>0.913583</td>\n",
       "      <td>0.393290</td>\n",
       "      <td>00:00</td>\n",
       "    </tr>\n",
       "    <tr>\n",
       "      <td>4</td>\n",
       "      <td>0.753681</td>\n",
       "      <td>0.268544</td>\n",
       "      <td>00:00</td>\n",
       "    </tr>\n",
       "    <tr>\n",
       "      <td>5</td>\n",
       "      <td>0.615242</td>\n",
       "      <td>0.192265</td>\n",
       "      <td>00:00</td>\n",
       "    </tr>\n",
       "    <tr>\n",
       "      <td>6</td>\n",
       "      <td>0.507522</td>\n",
       "      <td>0.143655</td>\n",
       "      <td>00:00</td>\n",
       "    </tr>\n",
       "    <tr>\n",
       "      <td>7</td>\n",
       "      <td>0.420787</td>\n",
       "      <td>0.115706</td>\n",
       "      <td>00:00</td>\n",
       "    </tr>\n",
       "    <tr>\n",
       "      <td>8</td>\n",
       "      <td>0.350857</td>\n",
       "      <td>0.098498</td>\n",
       "      <td>00:00</td>\n",
       "    </tr>\n",
       "    <tr>\n",
       "      <td>9</td>\n",
       "      <td>0.295269</td>\n",
       "      <td>0.086593</td>\n",
       "      <td>00:00</td>\n",
       "    </tr>\n",
       "  </tbody>\n",
       "</table>"
      ],
      "text/plain": [
       "<IPython.core.display.HTML object>"
      ]
     },
     "metadata": {},
     "output_type": "display_data"
    }
   ],
   "source": [
    "lrnr.fit(10)"
   ]
  },
  {
   "cell_type": "markdown",
   "id": "6238dba3",
   "metadata": {},
   "source": [
    "(4) 예측"
   ]
  },
  {
   "cell_type": "code",
   "execution_count": 12,
   "id": "ca18f08a",
   "metadata": {},
   "outputs": [
    {
     "data": {
      "text/plain": [
       "Sequential(\n",
       "  (0): Sequential(\n",
       "    (0): Conv2d(1, 16, kernel_size=(5, 5), stride=(1, 1))\n",
       "    (1): ReLU()\n",
       "    (2): MaxPool2d(kernel_size=(2, 2), stride=(2, 2), padding=0, dilation=1, ceil_mode=False)\n",
       "    (3): Flatten(start_dim=1, end_dim=-1)\n",
       "  )\n",
       "  (1): Linear(in_features=2304, out_features=3, bias=True)\n",
       ")"
      ]
     },
     "execution_count": 12,
     "metadata": {},
     "output_type": "execute_result"
    }
   ],
   "source": [
    "lrnr.model.to(\"cpu\")"
   ]
  },
  {
   "cell_type": "code",
   "execution_count": 16,
   "id": "4f4cc34a",
   "metadata": {},
   "outputs": [
    {
     "data": {
      "text/html": [
       "<div>\n",
       "<style scoped>\n",
       "    .dataframe tbody tr th:only-of-type {\n",
       "        vertical-align: middle;\n",
       "    }\n",
       "\n",
       "    .dataframe tbody tr th {\n",
       "        vertical-align: top;\n",
       "    }\n",
       "\n",
       "    .dataframe thead th {\n",
       "        text-align: right;\n",
       "    }\n",
       "</style>\n",
       "<table border=\"1\" class=\"dataframe\">\n",
       "  <thead>\n",
       "    <tr style=\"text-align: right;\">\n",
       "      <th></th>\n",
       "      <th>0</th>\n",
       "      <th>1</th>\n",
       "      <th>2</th>\n",
       "      <th>y</th>\n",
       "    </tr>\n",
       "  </thead>\n",
       "  <tbody>\n",
       "    <tr>\n",
       "      <th>0</th>\n",
       "      <td>1.880104</td>\n",
       "      <td>-8.130291</td>\n",
       "      <td>-2.155231</td>\n",
       "      <td>0</td>\n",
       "    </tr>\n",
       "    <tr>\n",
       "      <th>1</th>\n",
       "      <td>0.882850</td>\n",
       "      <td>-5.683725</td>\n",
       "      <td>-2.126705</td>\n",
       "      <td>0</td>\n",
       "    </tr>\n",
       "    <tr>\n",
       "      <th>2</th>\n",
       "      <td>0.742812</td>\n",
       "      <td>-7.474946</td>\n",
       "      <td>-0.841271</td>\n",
       "      <td>0</td>\n",
       "    </tr>\n",
       "    <tr>\n",
       "      <th>3</th>\n",
       "      <td>2.357132</td>\n",
       "      <td>-6.710110</td>\n",
       "      <td>-2.852508</td>\n",
       "      <td>0</td>\n",
       "    </tr>\n",
       "    <tr>\n",
       "      <th>4</th>\n",
       "      <td>1.636409</td>\n",
       "      <td>-5.533461</td>\n",
       "      <td>-3.147410</td>\n",
       "      <td>0</td>\n",
       "    </tr>\n",
       "    <tr>\n",
       "      <th>...</th>\n",
       "      <td>...</td>\n",
       "      <td>...</td>\n",
       "      <td>...</td>\n",
       "      <td>...</td>\n",
       "    </tr>\n",
       "    <tr>\n",
       "      <th>3142</th>\n",
       "      <td>-4.796888</td>\n",
       "      <td>-3.905260</td>\n",
       "      <td>1.608442</td>\n",
       "      <td>2</td>\n",
       "    </tr>\n",
       "    <tr>\n",
       "      <th>3143</th>\n",
       "      <td>-2.279605</td>\n",
       "      <td>-4.870659</td>\n",
       "      <td>0.497556</td>\n",
       "      <td>2</td>\n",
       "    </tr>\n",
       "    <tr>\n",
       "      <th>3144</th>\n",
       "      <td>-1.890238</td>\n",
       "      <td>-10.070328</td>\n",
       "      <td>0.080740</td>\n",
       "      <td>2</td>\n",
       "    </tr>\n",
       "    <tr>\n",
       "      <th>3145</th>\n",
       "      <td>-3.218306</td>\n",
       "      <td>-3.560711</td>\n",
       "      <td>-0.304087</td>\n",
       "      <td>2</td>\n",
       "    </tr>\n",
       "    <tr>\n",
       "      <th>3146</th>\n",
       "      <td>-4.813123</td>\n",
       "      <td>-6.452925</td>\n",
       "      <td>2.033028</td>\n",
       "      <td>2</td>\n",
       "    </tr>\n",
       "  </tbody>\n",
       "</table>\n",
       "<p>3147 rows × 4 columns</p>\n",
       "</div>"
      ],
      "text/plain": [
       "             0          1         2  y\n",
       "0     1.880104  -8.130291 -2.155231  0\n",
       "1     0.882850  -5.683725 -2.126705  0\n",
       "2     0.742812  -7.474946 -0.841271  0\n",
       "3     2.357132  -6.710110 -2.852508  0\n",
       "4     1.636409  -5.533461 -3.147410  0\n",
       "...        ...        ...       ... ..\n",
       "3142 -4.796888  -3.905260  1.608442  2\n",
       "3143 -2.279605  -4.870659  0.497556  2\n",
       "3144 -1.890238 -10.070328  0.080740  2\n",
       "3145 -3.218306  -3.560711 -0.304087  2\n",
       "3146 -4.813123  -6.452925  2.033028  2\n",
       "\n",
       "[3147 rows x 4 columns]"
      ]
     },
     "execution_count": 16,
     "metadata": {},
     "output_type": "execute_result"
    }
   ],
   "source": [
    "pd.DataFrame(lrnr.model(XX)).assign(y = yy)"
   ]
  },
  {
   "cell_type": "code",
   "execution_count": 17,
   "id": "7ac1b9d8",
   "metadata": {},
   "outputs": [
    {
     "data": {
      "text/html": [
       "<div>\n",
       "<style scoped>\n",
       "    .dataframe tbody tr th:only-of-type {\n",
       "        vertical-align: middle;\n",
       "    }\n",
       "\n",
       "    .dataframe tbody tr th {\n",
       "        vertical-align: top;\n",
       "    }\n",
       "\n",
       "    .dataframe thead th {\n",
       "        text-align: right;\n",
       "    }\n",
       "</style>\n",
       "<table border=\"1\" class=\"dataframe\">\n",
       "  <thead>\n",
       "    <tr style=\"text-align: right;\">\n",
       "      <th></th>\n",
       "      <th>0</th>\n",
       "      <th>1</th>\n",
       "      <th>2</th>\n",
       "      <th>y</th>\n",
       "    </tr>\n",
       "  </thead>\n",
       "  <tbody>\n",
       "    <tr>\n",
       "      <th>0</th>\n",
       "      <td>1.880104</td>\n",
       "      <td>-8.130291</td>\n",
       "      <td>-2.155231</td>\n",
       "      <td>0</td>\n",
       "    </tr>\n",
       "    <tr>\n",
       "      <th>1</th>\n",
       "      <td>0.882850</td>\n",
       "      <td>-5.683725</td>\n",
       "      <td>-2.126705</td>\n",
       "      <td>0</td>\n",
       "    </tr>\n",
       "    <tr>\n",
       "      <th>2</th>\n",
       "      <td>0.742812</td>\n",
       "      <td>-7.474946</td>\n",
       "      <td>-0.841271</td>\n",
       "      <td>0</td>\n",
       "    </tr>\n",
       "    <tr>\n",
       "      <th>3</th>\n",
       "      <td>2.357132</td>\n",
       "      <td>-6.710110</td>\n",
       "      <td>-2.852508</td>\n",
       "      <td>0</td>\n",
       "    </tr>\n",
       "    <tr>\n",
       "      <th>4</th>\n",
       "      <td>1.636409</td>\n",
       "      <td>-5.533461</td>\n",
       "      <td>-3.147410</td>\n",
       "      <td>0</td>\n",
       "    </tr>\n",
       "    <tr>\n",
       "      <th>...</th>\n",
       "      <td>...</td>\n",
       "      <td>...</td>\n",
       "      <td>...</td>\n",
       "      <td>...</td>\n",
       "    </tr>\n",
       "    <tr>\n",
       "      <th>975</th>\n",
       "      <td>1.181577</td>\n",
       "      <td>-5.826284</td>\n",
       "      <td>-3.273248</td>\n",
       "      <td>0</td>\n",
       "    </tr>\n",
       "    <tr>\n",
       "      <th>976</th>\n",
       "      <td>0.435502</td>\n",
       "      <td>-4.586772</td>\n",
       "      <td>-2.713910</td>\n",
       "      <td>0</td>\n",
       "    </tr>\n",
       "    <tr>\n",
       "      <th>977</th>\n",
       "      <td>3.316375</td>\n",
       "      <td>-8.905706</td>\n",
       "      <td>-4.568169</td>\n",
       "      <td>0</td>\n",
       "    </tr>\n",
       "    <tr>\n",
       "      <th>978</th>\n",
       "      <td>3.601776</td>\n",
       "      <td>-9.048151</td>\n",
       "      <td>-4.483949</td>\n",
       "      <td>0</td>\n",
       "    </tr>\n",
       "    <tr>\n",
       "      <th>979</th>\n",
       "      <td>1.933877</td>\n",
       "      <td>-8.669778</td>\n",
       "      <td>-4.297437</td>\n",
       "      <td>0</td>\n",
       "    </tr>\n",
       "  </tbody>\n",
       "</table>\n",
       "<p>980 rows × 4 columns</p>\n",
       "</div>"
      ],
      "text/plain": [
       "            0         1         2  y\n",
       "0    1.880104 -8.130291 -2.155231  0\n",
       "1    0.882850 -5.683725 -2.126705  0\n",
       "2    0.742812 -7.474946 -0.841271  0\n",
       "3    2.357132 -6.710110 -2.852508  0\n",
       "4    1.636409 -5.533461 -3.147410  0\n",
       "..        ...       ...       ... ..\n",
       "975  1.181577 -5.826284 -3.273248  0\n",
       "976  0.435502 -4.586772 -2.713910  0\n",
       "977  3.316375 -8.905706 -4.568169  0\n",
       "978  3.601776 -9.048151 -4.483949  0\n",
       "979  1.933877 -8.669778 -4.297437  0\n",
       "\n",
       "[980 rows x 4 columns]"
      ]
     },
     "execution_count": 17,
     "metadata": {},
     "output_type": "execute_result"
    }
   ],
   "source": [
    "pd.DataFrame(lrnr.model(XX)).assign(y = yy).query('y == 0')"
   ]
  },
  {
   "cell_type": "code",
   "execution_count": 18,
   "id": "1eaf734f",
   "metadata": {},
   "outputs": [
    {
     "data": {
      "text/html": [
       "<div>\n",
       "<style scoped>\n",
       "    .dataframe tbody tr th:only-of-type {\n",
       "        vertical-align: middle;\n",
       "    }\n",
       "\n",
       "    .dataframe tbody tr th {\n",
       "        vertical-align: top;\n",
       "    }\n",
       "\n",
       "    .dataframe thead th {\n",
       "        text-align: right;\n",
       "    }\n",
       "</style>\n",
       "<table border=\"1\" class=\"dataframe\">\n",
       "  <thead>\n",
       "    <tr style=\"text-align: right;\">\n",
       "      <th></th>\n",
       "      <th>0</th>\n",
       "      <th>1</th>\n",
       "      <th>2</th>\n",
       "      <th>y</th>\n",
       "    </tr>\n",
       "  </thead>\n",
       "  <tbody>\n",
       "    <tr>\n",
       "      <th>980</th>\n",
       "      <td>-2.790916</td>\n",
       "      <td>1.241377</td>\n",
       "      <td>-1.840055</td>\n",
       "      <td>1</td>\n",
       "    </tr>\n",
       "    <tr>\n",
       "      <th>981</th>\n",
       "      <td>-3.233022</td>\n",
       "      <td>2.085936</td>\n",
       "      <td>-1.834126</td>\n",
       "      <td>1</td>\n",
       "    </tr>\n",
       "    <tr>\n",
       "      <th>982</th>\n",
       "      <td>-3.817043</td>\n",
       "      <td>2.344917</td>\n",
       "      <td>-1.858202</td>\n",
       "      <td>1</td>\n",
       "    </tr>\n",
       "    <tr>\n",
       "      <th>983</th>\n",
       "      <td>-3.476404</td>\n",
       "      <td>2.238732</td>\n",
       "      <td>-1.470501</td>\n",
       "      <td>1</td>\n",
       "    </tr>\n",
       "    <tr>\n",
       "      <th>984</th>\n",
       "      <td>-3.451838</td>\n",
       "      <td>2.623547</td>\n",
       "      <td>-1.567843</td>\n",
       "      <td>1</td>\n",
       "    </tr>\n",
       "    <tr>\n",
       "      <th>...</th>\n",
       "      <td>...</td>\n",
       "      <td>...</td>\n",
       "      <td>...</td>\n",
       "      <td>...</td>\n",
       "    </tr>\n",
       "    <tr>\n",
       "      <th>2110</th>\n",
       "      <td>-3.838306</td>\n",
       "      <td>1.574727</td>\n",
       "      <td>-0.634061</td>\n",
       "      <td>1</td>\n",
       "    </tr>\n",
       "    <tr>\n",
       "      <th>2111</th>\n",
       "      <td>-3.700799</td>\n",
       "      <td>2.149787</td>\n",
       "      <td>-1.270558</td>\n",
       "      <td>1</td>\n",
       "    </tr>\n",
       "    <tr>\n",
       "      <th>2112</th>\n",
       "      <td>-4.055466</td>\n",
       "      <td>1.615760</td>\n",
       "      <td>-0.832332</td>\n",
       "      <td>1</td>\n",
       "    </tr>\n",
       "    <tr>\n",
       "      <th>2113</th>\n",
       "      <td>-3.835481</td>\n",
       "      <td>2.485970</td>\n",
       "      <td>-1.766641</td>\n",
       "      <td>1</td>\n",
       "    </tr>\n",
       "    <tr>\n",
       "      <th>2114</th>\n",
       "      <td>-4.225008</td>\n",
       "      <td>2.728808</td>\n",
       "      <td>-1.291302</td>\n",
       "      <td>1</td>\n",
       "    </tr>\n",
       "  </tbody>\n",
       "</table>\n",
       "<p>1135 rows × 4 columns</p>\n",
       "</div>"
      ],
      "text/plain": [
       "             0         1         2  y\n",
       "980  -2.790916  1.241377 -1.840055  1\n",
       "981  -3.233022  2.085936 -1.834126  1\n",
       "982  -3.817043  2.344917 -1.858202  1\n",
       "983  -3.476404  2.238732 -1.470501  1\n",
       "984  -3.451838  2.623547 -1.567843  1\n",
       "...        ...       ...       ... ..\n",
       "2110 -3.838306  1.574727 -0.634061  1\n",
       "2111 -3.700799  2.149787 -1.270558  1\n",
       "2112 -4.055466  1.615760 -0.832332  1\n",
       "2113 -3.835481  2.485970 -1.766641  1\n",
       "2114 -4.225008  2.728808 -1.291302  1\n",
       "\n",
       "[1135 rows x 4 columns]"
      ]
     },
     "execution_count": 18,
     "metadata": {},
     "output_type": "execute_result"
    }
   ],
   "source": [
    "pd.DataFrame(lrnr.model(XX)).assign(y = yy).query('y == 1')"
   ]
  },
  {
   "cell_type": "code",
   "execution_count": 19,
   "id": "f7d52e87",
   "metadata": {},
   "outputs": [
    {
     "data": {
      "text/html": [
       "<div>\n",
       "<style scoped>\n",
       "    .dataframe tbody tr th:only-of-type {\n",
       "        vertical-align: middle;\n",
       "    }\n",
       "\n",
       "    .dataframe tbody tr th {\n",
       "        vertical-align: top;\n",
       "    }\n",
       "\n",
       "    .dataframe thead th {\n",
       "        text-align: right;\n",
       "    }\n",
       "</style>\n",
       "<table border=\"1\" class=\"dataframe\">\n",
       "  <thead>\n",
       "    <tr style=\"text-align: right;\">\n",
       "      <th></th>\n",
       "      <th>0</th>\n",
       "      <th>1</th>\n",
       "      <th>2</th>\n",
       "      <th>y</th>\n",
       "    </tr>\n",
       "  </thead>\n",
       "  <tbody>\n",
       "    <tr>\n",
       "      <th>2115</th>\n",
       "      <td>-3.230768</td>\n",
       "      <td>-4.466066</td>\n",
       "      <td>0.509366</td>\n",
       "      <td>2</td>\n",
       "    </tr>\n",
       "    <tr>\n",
       "      <th>2116</th>\n",
       "      <td>-4.079887</td>\n",
       "      <td>-1.475066</td>\n",
       "      <td>0.055470</td>\n",
       "      <td>2</td>\n",
       "    </tr>\n",
       "    <tr>\n",
       "      <th>2117</th>\n",
       "      <td>-2.693914</td>\n",
       "      <td>-4.778261</td>\n",
       "      <td>1.142449</td>\n",
       "      <td>2</td>\n",
       "    </tr>\n",
       "    <tr>\n",
       "      <th>2118</th>\n",
       "      <td>-3.897048</td>\n",
       "      <td>-4.479739</td>\n",
       "      <td>1.732418</td>\n",
       "      <td>2</td>\n",
       "    </tr>\n",
       "    <tr>\n",
       "      <th>2119</th>\n",
       "      <td>-4.540510</td>\n",
       "      <td>-3.486542</td>\n",
       "      <td>1.109208</td>\n",
       "      <td>2</td>\n",
       "    </tr>\n",
       "    <tr>\n",
       "      <th>...</th>\n",
       "      <td>...</td>\n",
       "      <td>...</td>\n",
       "      <td>...</td>\n",
       "      <td>...</td>\n",
       "    </tr>\n",
       "    <tr>\n",
       "      <th>3142</th>\n",
       "      <td>-4.796888</td>\n",
       "      <td>-3.905260</td>\n",
       "      <td>1.608442</td>\n",
       "      <td>2</td>\n",
       "    </tr>\n",
       "    <tr>\n",
       "      <th>3143</th>\n",
       "      <td>-2.279605</td>\n",
       "      <td>-4.870659</td>\n",
       "      <td>0.497556</td>\n",
       "      <td>2</td>\n",
       "    </tr>\n",
       "    <tr>\n",
       "      <th>3144</th>\n",
       "      <td>-1.890238</td>\n",
       "      <td>-10.070328</td>\n",
       "      <td>0.080740</td>\n",
       "      <td>2</td>\n",
       "    </tr>\n",
       "    <tr>\n",
       "      <th>3145</th>\n",
       "      <td>-3.218306</td>\n",
       "      <td>-3.560711</td>\n",
       "      <td>-0.304087</td>\n",
       "      <td>2</td>\n",
       "    </tr>\n",
       "    <tr>\n",
       "      <th>3146</th>\n",
       "      <td>-4.813123</td>\n",
       "      <td>-6.452925</td>\n",
       "      <td>2.033028</td>\n",
       "      <td>2</td>\n",
       "    </tr>\n",
       "  </tbody>\n",
       "</table>\n",
       "<p>1032 rows × 4 columns</p>\n",
       "</div>"
      ],
      "text/plain": [
       "             0          1         2  y\n",
       "2115 -3.230768  -4.466066  0.509366  2\n",
       "2116 -4.079887  -1.475066  0.055470  2\n",
       "2117 -2.693914  -4.778261  1.142449  2\n",
       "2118 -3.897048  -4.479739  1.732418  2\n",
       "2119 -4.540510  -3.486542  1.109208  2\n",
       "...        ...        ...       ... ..\n",
       "3142 -4.796888  -3.905260  1.608442  2\n",
       "3143 -2.279605  -4.870659  0.497556  2\n",
       "3144 -1.890238 -10.070328  0.080740  2\n",
       "3145 -3.218306  -3.560711 -0.304087  2\n",
       "3146 -4.813123  -6.452925  2.033028  2\n",
       "\n",
       "[1032 rows x 4 columns]"
      ]
     },
     "execution_count": 19,
     "metadata": {},
     "output_type": "execute_result"
    }
   ],
   "source": [
    "pd.DataFrame(lrnr.model(XX)).assign(y = yy).query('y == 2')"
   ]
  },
  {
   "cell_type": "markdown",
   "id": "ed5e2c23",
   "metadata": {},
   "source": [
    "`-` 예측하는 방법"
   ]
  },
  {
   "cell_type": "markdown",
   "id": "082fa9dc",
   "metadata": {},
   "source": [
    " - 칼럼0의 숫자가 크다 --> y = 0일 확률이 크다.\n",
    "    \n",
    " - 칼럼1의 숫자가 크다 --> y = 1일 확률이 크다.\n",
    "\n",
    " - 칼럼2의 숫자가 크다 --> y = 2일 확률이 크다."
   ]
  },
  {
   "cell_type": "markdown",
   "id": "706e3936",
   "metadata": {},
   "source": [
    "## Softmax"
   ]
  },
  {
   "cell_type": "markdown",
   "id": "2ca6ca1e",
   "metadata": {},
   "source": [
    "`-` torch.nn.Softmax() 손 계산"
   ]
  },
  {
   "cell_type": "markdown",
   "id": "a9a94a93",
   "metadata": {},
   "source": [
    "(예시 1)  잘못된 계산"
   ]
  },
  {
   "cell_type": "code",
   "execution_count": 20,
   "id": "613ca341",
   "metadata": {},
   "outputs": [],
   "source": [
    "sftmx = torch.nn.Softmax(dim = 0)"
   ]
  },
  {
   "cell_type": "code",
   "execution_count": 21,
   "id": "1784409c",
   "metadata": {},
   "outputs": [
    {
     "data": {
      "text/plain": [
       "tensor([[-2.0000, -2.0000,  0.0000],\n",
       "        [ 3.1400,  3.1400,  3.1400],\n",
       "        [ 0.0000,  0.0000,  2.0000],\n",
       "        [ 2.0000,  2.0000,  4.0000],\n",
       "        [ 0.0000,  0.0000,  0.0000]])"
      ]
     },
     "execution_count": 21,
     "metadata": {},
     "output_type": "execute_result"
    }
   ],
   "source": [
    "_netout = torch.tensor([[-2.0, -2.0, 0.0],\n",
    "                       [3.14, 3.14, 3.14],\n",
    "                       [0.0, 0.0, 2.0],\n",
    "                       [2.0, 2.0, 4.0],\n",
    "                       [0.0, 0.0, 0.0]])\n",
    "_netout"
   ]
  },
  {
   "cell_type": "code",
   "execution_count": 22,
   "id": "73517f1d",
   "metadata": {},
   "outputs": [
    {
     "data": {
      "text/plain": [
       "tensor([[0.0041, 0.0041, 0.0115],\n",
       "        [0.7081, 0.7081, 0.2653],\n",
       "        [0.0306, 0.0306, 0.0848],\n",
       "        [0.2265, 0.2265, 0.6269],\n",
       "        [0.0306, 0.0306, 0.0115]])"
      ]
     },
     "execution_count": 22,
     "metadata": {},
     "output_type": "execute_result"
    }
   ],
   "source": [
    "sftmx(_netout)"
   ]
  },
  {
   "cell_type": "markdown",
   "id": "f5ea25c1",
   "metadata": {},
   "source": [
    "(예시 2) 제대로 된 계산"
   ]
  },
  {
   "cell_type": "code",
   "execution_count": 23,
   "id": "b5fb2e66",
   "metadata": {},
   "outputs": [],
   "source": [
    "sftmx = torch.nn.Softmax(dim = 1)"
   ]
  },
  {
   "cell_type": "code",
   "execution_count": 24,
   "id": "a00236ff",
   "metadata": {},
   "outputs": [
    {
     "data": {
      "text/plain": [
       "tensor([[-2.0000, -2.0000,  0.0000],\n",
       "        [ 3.1400,  3.1400,  3.1400],\n",
       "        [ 0.0000,  0.0000,  2.0000],\n",
       "        [ 2.0000,  2.0000,  4.0000],\n",
       "        [ 0.0000,  0.0000,  0.0000]])"
      ]
     },
     "execution_count": 24,
     "metadata": {},
     "output_type": "execute_result"
    }
   ],
   "source": [
    "_netout"
   ]
  },
  {
   "cell_type": "code",
   "execution_count": 25,
   "id": "58d6b713",
   "metadata": {},
   "outputs": [
    {
     "data": {
      "text/plain": [
       "tensor([[0.1065, 0.1065, 0.7870],\n",
       "        [0.3333, 0.3333, 0.3333],\n",
       "        [0.1065, 0.1065, 0.7870],\n",
       "        [0.1065, 0.1065, 0.7870],\n",
       "        [0.3333, 0.3333, 0.3333]])"
      ]
     },
     "execution_count": 25,
     "metadata": {},
     "output_type": "execute_result"
    }
   ],
   "source": [
    "sftmx(_netout)"
   ]
  },
  {
   "cell_type": "markdown",
   "id": "1af6c4df",
   "metadata": {},
   "source": [
    "(예시 3)  차원을 명시안하면 맞게 계산해주고 경고를 줌"
   ]
  },
  {
   "cell_type": "code",
   "execution_count": 26,
   "id": "b00c22a2",
   "metadata": {},
   "outputs": [],
   "source": [
    "sftmx = torch.nn.Softmax()"
   ]
  },
  {
   "cell_type": "code",
   "execution_count": 27,
   "id": "1a635a8c",
   "metadata": {},
   "outputs": [
    {
     "data": {
      "text/plain": [
       "tensor([[-2.0000, -2.0000,  0.0000],\n",
       "        [ 3.1400,  3.1400,  3.1400],\n",
       "        [ 0.0000,  0.0000,  2.0000],\n",
       "        [ 2.0000,  2.0000,  4.0000],\n",
       "        [ 0.0000,  0.0000,  0.0000]])"
      ]
     },
     "execution_count": 27,
     "metadata": {},
     "output_type": "execute_result"
    }
   ],
   "source": [
    "_netout"
   ]
  },
  {
   "cell_type": "code",
   "execution_count": 28,
   "id": "1695ba28",
   "metadata": {},
   "outputs": [
    {
     "name": "stderr",
     "output_type": "stream",
     "text": [
      "C:\\Users\\Public\\Documents\\ESTsoft\\CreatorTemp\\ipykernel_15092\\3694084616.py:1: UserWarning: Implicit dimension choice for softmax has been deprecated. Change the call to include dim=X as an argument.\n",
      "  sftmx(_netout)\n"
     ]
    },
    {
     "data": {
      "text/plain": [
       "tensor([[0.1065, 0.1065, 0.7870],\n",
       "        [0.3333, 0.3333, 0.3333],\n",
       "        [0.1065, 0.1065, 0.7870],\n",
       "        [0.1065, 0.1065, 0.7870],\n",
       "        [0.3333, 0.3333, 0.3333]])"
      ]
     },
     "execution_count": 28,
     "metadata": {},
     "output_type": "execute_result"
    }
   ],
   "source": [
    "sftmx(_netout)"
   ]
  },
  {
   "cell_type": "markdown",
   "id": "80daca06",
   "metadata": {},
   "source": [
    "(예시 4)  손 계산"
   ]
  },
  {
   "cell_type": "code",
   "execution_count": 29,
   "id": "adc90c9e",
   "metadata": {},
   "outputs": [
    {
     "data": {
      "text/plain": [
       "tensor([[-2.0000, -2.0000,  0.0000],\n",
       "        [ 3.1400,  3.1400,  3.1400],\n",
       "        [ 0.0000,  0.0000,  2.0000],\n",
       "        [ 2.0000,  2.0000,  4.0000],\n",
       "        [ 0.0000,  0.0000,  0.0000]])"
      ]
     },
     "execution_count": 29,
     "metadata": {},
     "output_type": "execute_result"
    }
   ],
   "source": [
    "_netout"
   ]
  },
  {
   "cell_type": "code",
   "execution_count": 30,
   "id": "f003397f",
   "metadata": {},
   "outputs": [
    {
     "data": {
      "text/plain": [
       "tensor([[ 0.1353,  0.1353,  1.0000],\n",
       "        [23.1039, 23.1039, 23.1039],\n",
       "        [ 1.0000,  1.0000,  7.3891],\n",
       "        [ 7.3891,  7.3891, 54.5981],\n",
       "        [ 1.0000,  1.0000,  1.0000]])"
      ]
     },
     "execution_count": 30,
     "metadata": {},
     "output_type": "execute_result"
    }
   ],
   "source": [
    "torch.exp(_netout)"
   ]
  },
  {
   "cell_type": "code",
   "execution_count": 32,
   "id": "e5daaf27",
   "metadata": {},
   "outputs": [
    {
     "data": {
      "text/plain": [
       "(0.10648512513773022, 0.10648512513773022, 0.7870297497245397)"
      ]
     },
     "execution_count": 32,
     "metadata": {},
     "output_type": "execute_result"
    }
   ],
   "source": [
    "0.1353 / (0.1353 + 0.1353 + 1.0000), 0.1353 / (0.1353 + 0.1353 + 1.0000), 1.0000 / (0.1353 + 0.1353 + 1.0000)"
   ]
  },
  {
   "cell_type": "code",
   "execution_count": 33,
   "id": "73686831",
   "metadata": {},
   "outputs": [
    {
     "data": {
      "text/plain": [
       "tensor([0.3333, 0.3333, 0.3333])"
      ]
     },
     "execution_count": 33,
     "metadata": {},
     "output_type": "execute_result"
    }
   ],
   "source": [
    "np.exp(_netout[1]) / np.exp(_netout[1]).sum()"
   ]
  },
  {
   "cell_type": "code",
   "execution_count": 34,
   "id": "cbcbdadb",
   "metadata": {},
   "outputs": [
    {
     "data": {
      "text/plain": [
       "array([[0.10650698, 0.10650698, 0.78698605],\n",
       "       [0.33333334, 0.33333334, 0.33333334],\n",
       "       [0.10650699, 0.10650699, 0.78698605],\n",
       "       [0.10650698, 0.10650698, 0.78698605],\n",
       "       [0.33333334, 0.33333334, 0.33333334]], dtype=float32)"
      ]
     },
     "execution_count": 34,
     "metadata": {},
     "output_type": "execute_result"
    }
   ],
   "source": [
    "np.apply_along_axis(lambda x : np.exp(x) / np.exp(x).sum(), 1, _netout)"
   ]
  },
  {
   "cell_type": "markdown",
   "id": "773680cc",
   "metadata": {},
   "source": [
    "## CrossEntropyLoss"
   ]
  },
  {
   "cell_type": "markdown",
   "id": "55931e9d",
   "metadata": {},
   "source": [
    "`-` torch.nn.CrossEntropyLoss() 손계산 : one-hot version"
   ]
  },
  {
   "cell_type": "code",
   "execution_count": 36,
   "id": "5066beab",
   "metadata": {},
   "outputs": [],
   "source": [
    "loss_fn = torch.nn.CrossEntropyLoss()"
   ]
  },
  {
   "cell_type": "code",
   "execution_count": 37,
   "id": "dcced3ce",
   "metadata": {},
   "outputs": [
    {
     "data": {
      "text/plain": [
       "tensor([[-2.0000, -2.0000,  0.0000],\n",
       "        [ 3.1400,  3.1400,  3.1400],\n",
       "        [ 0.0000,  0.0000,  2.0000],\n",
       "        [ 2.0000,  2.0000,  4.0000],\n",
       "        [ 0.0000,  0.0000,  0.0000]])"
      ]
     },
     "execution_count": 37,
     "metadata": {},
     "output_type": "execute_result"
    }
   ],
   "source": [
    "_netout"
   ]
  },
  {
   "cell_type": "code",
   "execution_count": 39,
   "id": "bb3c2e14",
   "metadata": {},
   "outputs": [
    {
     "data": {
      "text/plain": [
       "tensor([[0., 0., 1.],\n",
       "        [0., 1., 0.],\n",
       "        [0., 0., 1.],\n",
       "        [0., 0., 1.],\n",
       "        [1., 0., 0.]])"
      ]
     },
     "execution_count": 39,
     "metadata": {},
     "output_type": "execute_result"
    }
   ],
   "source": [
    "_y_onehot = torch.tensor([[0, 0, 1],\n",
    "                         [0, 1, 0],\n",
    "                         [0, 0, 1],\n",
    "                         [0, 0, 1],\n",
    "                         [1, 0, 0]]) * 1.0\n",
    "_y_onehot"
   ]
  },
  {
   "cell_type": "code",
   "execution_count": 40,
   "id": "753cc4bd",
   "metadata": {},
   "outputs": [
    {
     "data": {
      "text/plain": [
       "(tensor([[0.1065, 0.1065, 0.7870],\n",
       "         [0.3333, 0.3333, 0.3333],\n",
       "         [0.1065, 0.1065, 0.7870],\n",
       "         [0.1065, 0.1065, 0.7870],\n",
       "         [0.3333, 0.3333, 0.3333]]),\n",
       " tensor([[0., 0., 1.],\n",
       "         [0., 1., 0.],\n",
       "         [0., 0., 1.],\n",
       "         [0., 0., 1.],\n",
       "         [1., 0., 0.]]))"
      ]
     },
     "execution_count": 40,
     "metadata": {},
     "output_type": "execute_result"
    }
   ],
   "source": [
    "sftmx = torch.nn.Softmax(dim = 1)\n",
    "sftmx(_netout), _y_onehot"
   ]
  },
  {
   "cell_type": "markdown",
   "id": "8dd2510e",
   "metadata": {},
   "source": [
    "`-` 계산결과"
   ]
  },
  {
   "cell_type": "code",
   "execution_count": 41,
   "id": "6285d61b",
   "metadata": {},
   "outputs": [
    {
     "data": {
      "text/plain": [
       "tensor(0.5832)"
      ]
     },
     "execution_count": 41,
     "metadata": {},
     "output_type": "execute_result"
    }
   ],
   "source": [
    "loss_fn(_netout, _y_onehot)"
   ]
  },
  {
   "cell_type": "code",
   "execution_count": 42,
   "id": "a82c6c4d",
   "metadata": {},
   "outputs": [
    {
     "data": {
      "text/plain": [
       "tensor(0.5832)"
      ]
     },
     "execution_count": 42,
     "metadata": {},
     "output_type": "execute_result"
    }
   ],
   "source": [
    "- torch.sum(torch.log(sftmx(_netout)) * _y_onehot) / 5"
   ]
  },
  {
   "cell_type": "markdown",
   "id": "37aa37dc",
   "metadata": {},
   "source": [
    "`-` 계산하는 방법도 중요하지만 torch.nn.CrossEntropyLoss()에는 softmax 활성화함수가 이미 포함되어 있다는 것을 확인하는 것이 중요함."
   ]
  },
  {
   "cell_type": "markdown",
   "id": "334b628e",
   "metadata": {},
   "source": [
    "`-` torch.nn.CrossEntropyLoss() 손계산: lenght $n$ vertor version"
   ]
  },
  {
   "cell_type": "code",
   "execution_count": 43,
   "id": "796a9290",
   "metadata": {},
   "outputs": [
    {
     "data": {
      "text/plain": [
       "tensor([[-2.0000, -2.0000,  0.0000],\n",
       "        [ 3.1400,  3.1400,  3.1400],\n",
       "        [ 0.0000,  0.0000,  2.0000],\n",
       "        [ 2.0000,  2.0000,  4.0000],\n",
       "        [ 0.0000,  0.0000,  0.0000]])"
      ]
     },
     "execution_count": 43,
     "metadata": {},
     "output_type": "execute_result"
    }
   ],
   "source": [
    "_netout"
   ]
  },
  {
   "cell_type": "code",
   "execution_count": 44,
   "id": "74375452",
   "metadata": {},
   "outputs": [],
   "source": [
    "_y = torch.tensor([2, 1, 2, 2, 0])"
   ]
  },
  {
   "cell_type": "code",
   "execution_count": 45,
   "id": "4454f564",
   "metadata": {},
   "outputs": [
    {
     "data": {
      "text/plain": [
       "tensor(0.5832)"
      ]
     },
     "execution_count": 45,
     "metadata": {},
     "output_type": "execute_result"
    }
   ],
   "source": [
    "loss_fn(_netout, _y)"
   ]
  },
  {
   "cell_type": "markdown",
   "id": "ba01edb6",
   "metadata": {},
   "source": [
    "## $k=2$로 두면 이진분류도 가능"
   ]
  },
  {
   "cell_type": "code",
   "execution_count": 46,
   "id": "930cddaa",
   "metadata": {},
   "outputs": [],
   "source": [
    "path = untar_data(URLs.MNIST)"
   ]
  },
  {
   "cell_type": "markdown",
   "id": "58a926bd",
   "metadata": {},
   "source": [
    "training"
   ]
  },
  {
   "cell_type": "code",
   "execution_count": 47,
   "id": "15c88b38",
   "metadata": {},
   "outputs": [],
   "source": [
    "X0 = torch.stack([torchvision.io.read_image(str(fname)) for fname in (path/'training/0').ls()])\n",
    "X1 = torch.stack([torchvision.io.read_image(str(fname)) for fname in (path/'training/1').ls()])\n",
    "X = torch.concat([X0, X1]) / 255\n",
    "y = torch.tensor([0] * len(X0) + [1] * len(X1))"
   ]
  },
  {
   "cell_type": "code",
   "execution_count": 49,
   "id": "bb26e686",
   "metadata": {},
   "outputs": [],
   "source": [
    "y_onehot = torch.nn.functional.one_hot(y).float()"
   ]
  },
  {
   "cell_type": "markdown",
   "id": "134bd5b5",
   "metadata": {},
   "source": [
    "test"
   ]
  },
  {
   "cell_type": "code",
   "execution_count": 50,
   "id": "79b9d9f0",
   "metadata": {},
   "outputs": [],
   "source": [
    "X0 = torch.stack([torchvision.io.read_image(str(fname)) for fname in (path/'testing/0').ls()])\n",
    "X1 = torch.stack([torchvision.io.read_image(str(fname)) for fname in (path/'testing/1').ls()])\n",
    "XX = torch.concat([X0, X1]) / 255\n",
    "yy = torch.tensor([0] * len(X0) + [1] * len(X1))"
   ]
  },
  {
   "cell_type": "code",
   "execution_count": 51,
   "id": "538709ca",
   "metadata": {},
   "outputs": [],
   "source": [
    "yy_onehot = torch.nn.functional.one_hot(yy).float()"
   ]
  },
  {
   "cell_type": "markdown",
   "id": "8d8a51de",
   "metadata": {},
   "source": [
    "dls"
   ]
  },
  {
   "cell_type": "code",
   "execution_count": 52,
   "id": "5d62183f",
   "metadata": {},
   "outputs": [],
   "source": [
    "ds1 = torch.utils.data.TensorDataset(X, y_onehot)\n",
    "ds2 = torch.utils.data.TensorDataset(XX, yy_onehot)\n",
    "dl1 = torch.utils.data.DataLoader(ds1, batch_size = 1862)\n",
    "dl2 = torch.utils.data.DataLoader(ds2, batch_size = 3147)\n",
    "dls = DataLoaders(dl1, dl2)"
   ]
  },
  {
   "cell_type": "markdown",
   "id": "2e8a0d9a",
   "metadata": {},
   "source": [
    "lrnr"
   ]
  },
  {
   "cell_type": "code",
   "execution_count": 53,
   "id": "55a26594",
   "metadata": {},
   "outputs": [],
   "source": [
    "net = torch.nn.Sequential(torch.nn.Conv2d(1, 16, (5, 5)),\n",
    "                         torch.nn.ReLU(),\n",
    "                         torch.nn.MaxPool2d((2, 2)),\n",
    "                         torch.nn.Flatten(),\n",
    "                         torch.nn.Linear(2304, 2))\n",
    "loss_fn = torch.nn.CrossEntropyLoss()\n",
    "lrnr = Learner(dls, net, loss_fn)"
   ]
  },
  {
   "cell_type": "markdown",
   "id": "3366fae4",
   "metadata": {},
   "source": [
    "학습"
   ]
  },
  {
   "cell_type": "code",
   "execution_count": 54,
   "id": "80952729",
   "metadata": {},
   "outputs": [
    {
     "data": {
      "text/html": [
       "\n",
       "<style>\n",
       "    /* Turns off some styling */\n",
       "    progress {\n",
       "        /* gets rid of default border in Firefox and Opera. */\n",
       "        border: none;\n",
       "        /* Needs to be in here for Safari polyfill so background images work as expected. */\n",
       "        background-size: auto;\n",
       "    }\n",
       "    progress:not([value]), progress:not([value])::-webkit-progress-bar {\n",
       "        background: repeating-linear-gradient(45deg, #7e7e7e, #7e7e7e 10px, #5c5c5c 10px, #5c5c5c 20px);\n",
       "    }\n",
       "    .progress-bar-interrupted, .progress-bar-interrupted::-webkit-progress-bar {\n",
       "        background: #F44336;\n",
       "    }\n",
       "</style>\n"
      ],
      "text/plain": [
       "<IPython.core.display.HTML object>"
      ]
     },
     "metadata": {},
     "output_type": "display_data"
    },
    {
     "data": {
      "text/html": [
       "<table border=\"1\" class=\"dataframe\">\n",
       "  <thead>\n",
       "    <tr style=\"text-align: left;\">\n",
       "      <th>epoch</th>\n",
       "      <th>train_loss</th>\n",
       "      <th>valid_loss</th>\n",
       "      <th>time</th>\n",
       "    </tr>\n",
       "  </thead>\n",
       "  <tbody>\n",
       "    <tr>\n",
       "      <td>0</td>\n",
       "      <td>1.005429</td>\n",
       "      <td>0.688885</td>\n",
       "      <td>00:00</td>\n",
       "    </tr>\n",
       "    <tr>\n",
       "      <td>1</td>\n",
       "      <td>0.720879</td>\n",
       "      <td>0.388335</td>\n",
       "      <td>00:00</td>\n",
       "    </tr>\n",
       "    <tr>\n",
       "      <td>2</td>\n",
       "      <td>0.558736</td>\n",
       "      <td>0.255074</td>\n",
       "      <td>00:00</td>\n",
       "    </tr>\n",
       "    <tr>\n",
       "      <td>3</td>\n",
       "      <td>0.453830</td>\n",
       "      <td>0.151560</td>\n",
       "      <td>00:00</td>\n",
       "    </tr>\n",
       "    <tr>\n",
       "      <td>4</td>\n",
       "      <td>0.370357</td>\n",
       "      <td>0.087234</td>\n",
       "      <td>00:00</td>\n",
       "    </tr>\n",
       "    <tr>\n",
       "      <td>5</td>\n",
       "      <td>0.303530</td>\n",
       "      <td>0.055274</td>\n",
       "      <td>00:00</td>\n",
       "    </tr>\n",
       "    <tr>\n",
       "      <td>6</td>\n",
       "      <td>0.251096</td>\n",
       "      <td>0.038038</td>\n",
       "      <td>00:00</td>\n",
       "    </tr>\n",
       "    <tr>\n",
       "      <td>7</td>\n",
       "      <td>0.209842</td>\n",
       "      <td>0.027843</td>\n",
       "      <td>00:00</td>\n",
       "    </tr>\n",
       "    <tr>\n",
       "      <td>8</td>\n",
       "      <td>0.177048</td>\n",
       "      <td>0.021517</td>\n",
       "      <td>00:00</td>\n",
       "    </tr>\n",
       "    <tr>\n",
       "      <td>9</td>\n",
       "      <td>0.150642</td>\n",
       "      <td>0.017311</td>\n",
       "      <td>00:00</td>\n",
       "    </tr>\n",
       "  </tbody>\n",
       "</table>"
      ],
      "text/plain": [
       "<IPython.core.display.HTML object>"
      ]
     },
     "metadata": {},
     "output_type": "display_data"
    }
   ],
   "source": [
    "lrnr.fit(10)"
   ]
  },
  {
   "cell_type": "markdown",
   "id": "52a15bf3",
   "metadata": {},
   "source": [
    "예측 및 시각화"
   ]
  },
  {
   "cell_type": "code",
   "execution_count": 55,
   "id": "5b535d1e",
   "metadata": {},
   "outputs": [
    {
     "data": {
      "text/plain": [
       "Sequential(\n",
       "  (0): Conv2d(1, 16, kernel_size=(5, 5), stride=(1, 1))\n",
       "  (1): ReLU()\n",
       "  (2): MaxPool2d(kernel_size=(2, 2), stride=(2, 2), padding=0, dilation=1, ceil_mode=False)\n",
       "  (3): Flatten(start_dim=1, end_dim=-1)\n",
       "  (4): Linear(in_features=2304, out_features=2, bias=True)\n",
       ")"
      ]
     },
     "execution_count": 55,
     "metadata": {},
     "output_type": "execute_result"
    }
   ],
   "source": [
    "lrnr.model.to(\"cpu\")"
   ]
  },
  {
   "cell_type": "code",
   "execution_count": 56,
   "id": "a5343301",
   "metadata": {},
   "outputs": [
    {
     "data": {
      "text/plain": [
       "Text(0.5, 0.98, 'Training Set')"
      ]
     },
     "execution_count": 56,
     "metadata": {},
     "output_type": "execute_result"
    },
    {
     "data": {
      "image/png": "[encoded data removed]",
      "text/plain": [
       "<Figure size 576x288 with 2 Axes>"
      ]
     },
     "metadata": {
      "needs_background": "light"
     },
     "output_type": "display_data"
    }
   ],
   "source": [
    "sftmx = torch.nn.Softmax(dim = 1)\n",
    "sig = torch.nn.Sigmoid()\n",
    "fig, ax = plt.subplots(1, 2, figsize = (8, 4))\n",
    "\n",
    "ax[0].plot(net(X).diff(axis = 1).data, ',', color = \"C1\")\n",
    "ax[1].plot(y)\n",
    "ax[1].plot(sftmx(net(X))[:,1].data, ',')\n",
    "\n",
    "fig.suptitle(\"Training Set\", size = 15)"
   ]
  },
  {
   "cell_type": "code",
   "execution_count": 58,
   "id": "09e89523",
   "metadata": {},
   "outputs": [
    {
     "data": {
      "text/plain": [
       "Text(0.5, 0.98, 'Test Set')"
      ]
     },
     "execution_count": 58,
     "metadata": {},
     "output_type": "execute_result"
    },
    {
     "data": {
      "image/png": "[encoded data removed]",
      "text/plain": [
       "<Figure size 576x288 with 2 Axes>"
      ]
     },
     "metadata": {
      "needs_background": "light"
     },
     "output_type": "display_data"
    }
   ],
   "source": [
    "fig, ax = plt.subplots(1, 2, figsize = (8, 4))\n",
    "ax[0].plot(net(XX).diff(axis = 1).data, ',', color = \"C1\")\n",
    "ax[1].plot(yy)\n",
    "ax[1].plot(sftmx(net(XX))[:,1].data, ',')\n",
    "fig.suptitle(\"Test Set\", size = 15)"
   ]
  },
  {
   "cell_type": "markdown",
   "id": "4fb0b903",
   "metadata": {},
   "source": [
    "`-` note: softmax(u1,u2)=[sig(u1-u2), sig(u2-u1)]=[1-sig(u2-u1),sig(u2-u1)]"
   ]
  },
  {
   "cell_type": "markdown",
   "id": "700a1922",
   "metadata": {},
   "source": [
    "## 이진분류에서 Softmax vs Sigmoid"
   ]
  },
  {
   "cell_type": "markdown",
   "id": "f1c3b333",
   "metadata": {},
   "source": [
    "`-` 이진분류문제 = \"y=0 or y=1\" 을 맞추는 문제 = 성공과 실패를 맞추는 문제 = 성공확률과 실패확률을 추정하는 문제 "
   ]
  },
  {
   "cell_type": "markdown",
   "id": "c33d3f7a",
   "metadata": {},
   "source": [
    "`-` softmax, sigmoid\n",
    "- softmax: (실패확률, 성공확률) 꼴로 결과가 나옴 // softmax는 실패확률과 성공확률을 둘다 추정한다. \n",
    "- sigmoid: (성공확률) 꼴로 결과가 나옴 // sigmoid는 성공확률만 추정한다. "
   ]
  },
  {
   "cell_type": "markdown",
   "id": "d2ed8230",
   "metadata": {},
   "source": [
    "`-` 그런데 \"실패확률=1-성공확률\" 이므로 사실상 둘은 같은걸 추정하는 셈이다. (성공확률만 추정하면 실패확률은 저절로 추정되니까) "
   ]
  },
  {
   "cell_type": "markdown",
   "id": "4e9132ae",
   "metadata": {},
   "source": [
    "`-` 둘은 사실상 같은 효과를 주는 모형인데 학습할 파라메터는 sigmoid의 경우가 더 적다. $\\to$ sigmoid를 사용하는 모형이 비용은 싸고 효과는 동일하다는 말 $\\to$ 이진분류 한정해서는 softmax를 쓰지말고 sigmoid를 써야함. \n",
    "- softmax가 갑자기 너무 안좋아보이는데 sigmoid는 k개의 클래스로 확장이 불가능한 반면 softmax는 확장이 용이하다는 장점이 있음 "
   ]
  },
  {
   "cell_type": "markdown",
   "id": "5a1ac71f",
   "metadata": {},
   "source": [
    "## Softmax vs Sigmoid 정리"
   ]
  },
  {
   "cell_type": "markdown",
   "id": "34d65f63",
   "metadata": {},
   "source": [
    "`-` 결론 \n",
    "1. 소프트맥스는 시그모이드의 확장이다. \n",
    "2. 클래스의 수가 2개일 경우에는 (Sigmoid, BCEloss) 조합을 사용해야 하고 클래스의 수가 2개보다 클 경우에는 (Softmax, CrossEntropyLoss) 를 사용해야 한다. "
   ]
  },
  {
   "cell_type": "markdown",
   "id": "53a9e19c",
   "metadata": {},
   "source": [
    "`-` 그런데 사실.. 클래스의 수가 2개일 경우일때 (Softmax, CrossEntropyLoss)를 사용해도 그렇게 큰일나는것은 아니다. (흑백이미지를 칼라잉크로 출력하는 느낌) "
   ]
  },
  {
   "cell_type": "markdown",
   "id": "12473839",
   "metadata": {},
   "source": [
    "***참고***\n",
    "\n",
    "|$y$|분포가정|마지막층의 활성화함수|손실함수|\n",
    "|:--:|:--:|:--:|:--:|\n",
    "|3.45, 4.43, ... (연속형) |정규분포|None (or Identity)|MSE|\n",
    "|0 or 1|이항분포 with $n=1$ (=베르누이) |Sigmoid| BCE|\n",
    "|[0,0,1], [0,1,0], [1,0,0]| 다항분포 with $n=1$|Softmax| Cross Entropy |"
   ]
  },
  {
   "cell_type": "markdown",
   "id": "3cbcffd1",
   "metadata": {},
   "source": [
    "# fastai metric 사용"
   ]
  },
  {
   "cell_type": "markdown",
   "id": "ecab78fe",
   "metadata": {},
   "source": [
    "## 데이터 준비"
   ]
  },
  {
   "cell_type": "markdown",
   "id": "4f837f97",
   "metadata": {},
   "source": [
    "download data"
   ]
  },
  {
   "cell_type": "code",
   "execution_count": 4,
   "id": "ba2f62e9",
   "metadata": {},
   "outputs": [],
   "source": [
    "path = untar_data(URLs.MNIST)"
   ]
  },
  {
   "cell_type": "markdown",
   "id": "59ef9276",
   "metadata": {},
   "source": [
    "training set"
   ]
  },
  {
   "cell_type": "code",
   "execution_count": 37,
   "id": "63ebac3f",
   "metadata": {},
   "outputs": [],
   "source": [
    "X0 = torch.stack([torchvision.io.read_image(str(fname)) for fname in (path/'training/0').ls()])\n",
    "X1 = torch.stack([torchvision.io.read_image(str(fname)) for fname in (path/'training/1').ls()])\n",
    "X = torch.concat([X0, X1]) / 255\n",
    "y = torch.tensor([0.0] * len(X0) + [1.0] * len(X1)).reshape(-1, 1)"
   ]
  },
  {
   "cell_type": "markdown",
   "id": "328f9bd2",
   "metadata": {},
   "source": [
    "test set"
   ]
  },
  {
   "cell_type": "code",
   "execution_count": 38,
   "id": "d8eedf90",
   "metadata": {},
   "outputs": [],
   "source": [
    "X0 = torch.stack([torchvision.io.read_image(str(fname)) for fname in (path/'testing/0').ls()])\n",
    "X1 = torch.stack([torchvision.io.read_image(str(fname)) for fname in (path/'testing/1').ls()])\n",
    "XX = torch.concat([X0, X1]) / 255\n",
    "yy = torch.tensor([0.0] * len(X0) + [1.0] * len(X1)).reshape(-1, 1)"
   ]
  },
  {
   "cell_type": "code",
   "execution_count": 23,
   "id": "f4a51546",
   "metadata": {},
   "outputs": [
    {
     "data": {
      "text/plain": [
       "(torch.Size([12665, 1, 28, 28]),\n",
       " torch.Size([2115, 1, 28, 28]),\n",
       " torch.Size([12665, 1]),\n",
       " torch.Size([2115, 1]))"
      ]
     },
     "execution_count": 23,
     "metadata": {},
     "output_type": "execute_result"
    }
   ],
   "source": [
    "X.shape, XX.shape, y.shape, yy.shape"
   ]
  },
  {
   "cell_type": "markdown",
   "id": "42dded1c",
   "metadata": {},
   "source": [
    "## 사용자정의 메트릭이용"
   ]
  },
  {
   "cell_type": "markdown",
   "id": "84df214c",
   "metadata": {},
   "source": [
    "### (1) dls 만들기"
   ]
  },
  {
   "cell_type": "code",
   "execution_count": 8,
   "id": "bb642560",
   "metadata": {},
   "outputs": [],
   "source": [
    "ds1 = torch.utils.data.TensorDataset(X, y)\n",
    "ds2 = torch.utils.data.TensorDataset(XX, yy)\n",
    "dl1 = torch.utils.data.DataLoader(ds1, batch_size = 1266)\n",
    "dl2 = torch.utils.data.DataLoader(ds2, batch_size = 2115)\n",
    "dls = DataLoaders(dl1, dl2)"
   ]
  },
  {
   "cell_type": "markdown",
   "id": "2f26fec6",
   "metadata": {},
   "source": [
    "### (2) lrnr 생성"
   ]
  },
  {
   "cell_type": "code",
   "execution_count": 9,
   "id": "c26020b6",
   "metadata": {},
   "outputs": [],
   "source": [
    "net = torch.nn.Sequential(torch.nn.Conv2d(1, 16, (5, 5)),\n",
    "                         torch.nn.ReLU(),\n",
    "                         torch.nn.MaxPool2d((2, 2)),\n",
    "                         torch.nn.Flatten(),\n",
    "                         torch.nn.Linear(2304, 1),\n",
    "                         torch.nn.Sigmoid())\n",
    "loss_fn = torch.nn.BCELoss()"
   ]
  },
  {
   "cell_type": "code",
   "execution_count": 10,
   "id": "4467b858",
   "metadata": {},
   "outputs": [],
   "source": [
    "def acc(yhat,y) : \n",
    "    return ((yhat>0.5)==y).float().mean()"
   ]
  },
  {
   "cell_type": "code",
   "execution_count": 11,
   "id": "fb2ecacf",
   "metadata": {},
   "outputs": [],
   "source": [
    "def err(yhat,y):\n",
    "    return 1-((yhat>0.5)==y).float().mean()"
   ]
  },
  {
   "cell_type": "code",
   "execution_count": 12,
   "id": "ca23faf5",
   "metadata": {},
   "outputs": [],
   "source": [
    "lrnr = Learner(dls,net,loss_fn,metrics=[acc,err])"
   ]
  },
  {
   "cell_type": "markdown",
   "id": "b5482c3b",
   "metadata": {},
   "source": [
    "### (3) 학습"
   ]
  },
  {
   "cell_type": "code",
   "execution_count": 13,
   "id": "b8d69cc4",
   "metadata": {},
   "outputs": [
    {
     "data": {
      "text/html": [
       "\n",
       "<style>\n",
       "    /* Turns off some styling */\n",
       "    progress {\n",
       "        /* gets rid of default border in Firefox and Opera. */\n",
       "        border: none;\n",
       "        /* Needs to be in here for Safari polyfill so background images work as expected. */\n",
       "        background-size: auto;\n",
       "    }\n",
       "    progress:not([value]), progress:not([value])::-webkit-progress-bar {\n",
       "        background: repeating-linear-gradient(45deg, #7e7e7e, #7e7e7e 10px, #5c5c5c 10px, #5c5c5c 20px);\n",
       "    }\n",
       "    .progress-bar-interrupted, .progress-bar-interrupted::-webkit-progress-bar {\n",
       "        background: #F44336;\n",
       "    }\n",
       "</style>\n"
      ],
      "text/plain": [
       "<IPython.core.display.HTML object>"
      ]
     },
     "metadata": {},
     "output_type": "display_data"
    },
    {
     "data": {
      "text/html": [
       "<table border=\"1\" class=\"dataframe\">\n",
       "  <thead>\n",
       "    <tr style=\"text-align: left;\">\n",
       "      <th>epoch</th>\n",
       "      <th>train_loss</th>\n",
       "      <th>valid_loss</th>\n",
       "      <th>acc</th>\n",
       "      <th>err</th>\n",
       "      <th>time</th>\n",
       "    </tr>\n",
       "  </thead>\n",
       "  <tbody>\n",
       "    <tr>\n",
       "      <td>0</td>\n",
       "      <td>0.964475</td>\n",
       "      <td>0.660463</td>\n",
       "      <td>0.463357</td>\n",
       "      <td>0.536643</td>\n",
       "      <td>00:02</td>\n",
       "    </tr>\n",
       "    <tr>\n",
       "      <td>1</td>\n",
       "      <td>0.721056</td>\n",
       "      <td>0.443165</td>\n",
       "      <td>0.996217</td>\n",
       "      <td>0.003783</td>\n",
       "      <td>00:00</td>\n",
       "    </tr>\n",
       "    <tr>\n",
       "      <td>2</td>\n",
       "      <td>0.571983</td>\n",
       "      <td>0.286030</td>\n",
       "      <td>0.991962</td>\n",
       "      <td>0.008038</td>\n",
       "      <td>00:00</td>\n",
       "    </tr>\n",
       "    <tr>\n",
       "      <td>3</td>\n",
       "      <td>0.456581</td>\n",
       "      <td>0.158378</td>\n",
       "      <td>0.992435</td>\n",
       "      <td>0.007565</td>\n",
       "      <td>00:00</td>\n",
       "    </tr>\n",
       "    <tr>\n",
       "      <td>4</td>\n",
       "      <td>0.359557</td>\n",
       "      <td>0.086864</td>\n",
       "      <td>0.994799</td>\n",
       "      <td>0.005201</td>\n",
       "      <td>00:00</td>\n",
       "    </tr>\n",
       "    <tr>\n",
       "      <td>5</td>\n",
       "      <td>0.282681</td>\n",
       "      <td>0.053276</td>\n",
       "      <td>0.995745</td>\n",
       "      <td>0.004255</td>\n",
       "      <td>00:00</td>\n",
       "    </tr>\n",
       "    <tr>\n",
       "      <td>6</td>\n",
       "      <td>0.223957</td>\n",
       "      <td>0.036654</td>\n",
       "      <td>0.995745</td>\n",
       "      <td>0.004255</td>\n",
       "      <td>00:00</td>\n",
       "    </tr>\n",
       "    <tr>\n",
       "      <td>7</td>\n",
       "      <td>0.179251</td>\n",
       "      <td>0.027493</td>\n",
       "      <td>0.995745</td>\n",
       "      <td>0.004255</td>\n",
       "      <td>00:00</td>\n",
       "    </tr>\n",
       "    <tr>\n",
       "      <td>8</td>\n",
       "      <td>0.144889</td>\n",
       "      <td>0.021843</td>\n",
       "      <td>0.996217</td>\n",
       "      <td>0.003783</td>\n",
       "      <td>00:00</td>\n",
       "    </tr>\n",
       "    <tr>\n",
       "      <td>9</td>\n",
       "      <td>0.118145</td>\n",
       "      <td>0.018024</td>\n",
       "      <td>0.997636</td>\n",
       "      <td>0.002364</td>\n",
       "      <td>00:00</td>\n",
       "    </tr>\n",
       "  </tbody>\n",
       "</table>"
      ],
      "text/plain": [
       "<IPython.core.display.HTML object>"
      ]
     },
     "metadata": {},
     "output_type": "display_data"
    }
   ],
   "source": [
    "lrnr.fit(10)"
   ]
  },
  {
   "cell_type": "markdown",
   "id": "6a611064",
   "metadata": {},
   "source": [
    "### (4) 예측"
   ]
  },
  {
   "cell_type": "markdown",
   "id": "d038f01b",
   "metadata": {},
   "source": [
    "`-` 생략"
   ]
  },
  {
   "cell_type": "markdown",
   "id": "2bd594b3",
   "metadata": {},
   "source": [
    "## fastai지원 메트릭 이용 --> 잘못된 사용"
   ]
  },
  {
   "cell_type": "markdown",
   "id": "478a44eb",
   "metadata": {},
   "source": [
    "### (1) dls 만들기"
   ]
  },
  {
   "cell_type": "code",
   "execution_count": 24,
   "id": "c37e64c8",
   "metadata": {},
   "outputs": [],
   "source": [
    "ds1 = torch.utils.data.TensorDataset(X, y)\n",
    "ds2 = torch.utils.data.TensorDataset(XX, yy)\n",
    "dl1 = torch.utils.data.DataLoader(ds1, batch_size = 1266)\n",
    "dl2 = torch.utils.data.DataLoader(ds2, batch_size = 2115)\n",
    "dls = DataLoaders(dl1, dl2)"
   ]
  },
  {
   "cell_type": "markdown",
   "id": "5048aef6",
   "metadata": {},
   "source": [
    "### (2) lrnr 생성"
   ]
  },
  {
   "cell_type": "code",
   "execution_count": 25,
   "id": "a4849e26",
   "metadata": {},
   "outputs": [],
   "source": [
    "net = torch.nn.Sequential(torch.nn.Conv2d(1, 16, (5, 5)),\n",
    "                         torch.nn.ReLU(),\n",
    "                         torch.nn.MaxPool2d((2, 2)),\n",
    "                         torch.nn.Flatten(),\n",
    "                         torch.nn.Linear(2304, 1),\n",
    "                         torch.nn.Sigmoid())\n",
    "loss_fn = torch.nn.BCELoss()\n",
    "lrnr = Learner(dls, net, loss_fn, metrics = [accuracy, error_rate])"
   ]
  },
  {
   "cell_type": "markdown",
   "id": "e96f86f0",
   "metadata": {},
   "source": [
    "### (3) 학습"
   ]
  },
  {
   "cell_type": "code",
   "execution_count": 26,
   "id": "f718b806",
   "metadata": {},
   "outputs": [
    {
     "data": {
      "text/html": [
       "\n",
       "<style>\n",
       "    /* Turns off some styling */\n",
       "    progress {\n",
       "        /* gets rid of default border in Firefox and Opera. */\n",
       "        border: none;\n",
       "        /* Needs to be in here for Safari polyfill so background images work as expected. */\n",
       "        background-size: auto;\n",
       "    }\n",
       "    progress:not([value]), progress:not([value])::-webkit-progress-bar {\n",
       "        background: repeating-linear-gradient(45deg, #7e7e7e, #7e7e7e 10px, #5c5c5c 10px, #5c5c5c 20px);\n",
       "    }\n",
       "    .progress-bar-interrupted, .progress-bar-interrupted::-webkit-progress-bar {\n",
       "        background: #F44336;\n",
       "    }\n",
       "</style>\n"
      ],
      "text/plain": [
       "<IPython.core.display.HTML object>"
      ]
     },
     "metadata": {},
     "output_type": "display_data"
    },
    {
     "data": {
      "text/html": [
       "<table border=\"1\" class=\"dataframe\">\n",
       "  <thead>\n",
       "    <tr style=\"text-align: left;\">\n",
       "      <th>epoch</th>\n",
       "      <th>train_loss</th>\n",
       "      <th>valid_loss</th>\n",
       "      <th>accuracy</th>\n",
       "      <th>error_rate</th>\n",
       "      <th>time</th>\n",
       "    </tr>\n",
       "  </thead>\n",
       "  <tbody>\n",
       "    <tr>\n",
       "      <td>0</td>\n",
       "      <td>1.063088</td>\n",
       "      <td>0.661556</td>\n",
       "      <td>0.463357</td>\n",
       "      <td>0.536643</td>\n",
       "      <td>00:00</td>\n",
       "    </tr>\n",
       "    <tr>\n",
       "      <td>1</td>\n",
       "      <td>0.721177</td>\n",
       "      <td>0.426138</td>\n",
       "      <td>0.463357</td>\n",
       "      <td>0.536643</td>\n",
       "      <td>00:00</td>\n",
       "    </tr>\n",
       "    <tr>\n",
       "      <td>2</td>\n",
       "      <td>0.574063</td>\n",
       "      <td>0.272751</td>\n",
       "      <td>0.463357</td>\n",
       "      <td>0.536643</td>\n",
       "      <td>00:00</td>\n",
       "    </tr>\n",
       "    <tr>\n",
       "      <td>3</td>\n",
       "      <td>0.459246</td>\n",
       "      <td>0.147063</td>\n",
       "      <td>0.463357</td>\n",
       "      <td>0.536643</td>\n",
       "      <td>00:00</td>\n",
       "    </tr>\n",
       "    <tr>\n",
       "      <td>4</td>\n",
       "      <td>0.359895</td>\n",
       "      <td>0.085763</td>\n",
       "      <td>0.463357</td>\n",
       "      <td>0.536643</td>\n",
       "      <td>00:00</td>\n",
       "    </tr>\n",
       "    <tr>\n",
       "      <td>5</td>\n",
       "      <td>0.282448</td>\n",
       "      <td>0.054518</td>\n",
       "      <td>0.463357</td>\n",
       "      <td>0.536643</td>\n",
       "      <td>00:00</td>\n",
       "    </tr>\n",
       "    <tr>\n",
       "      <td>6</td>\n",
       "      <td>0.224043</td>\n",
       "      <td>0.038571</td>\n",
       "      <td>0.463357</td>\n",
       "      <td>0.536643</td>\n",
       "      <td>00:00</td>\n",
       "    </tr>\n",
       "    <tr>\n",
       "      <td>7</td>\n",
       "      <td>0.179877</td>\n",
       "      <td>0.029486</td>\n",
       "      <td>0.463357</td>\n",
       "      <td>0.536643</td>\n",
       "      <td>00:00</td>\n",
       "    </tr>\n",
       "    <tr>\n",
       "      <td>8</td>\n",
       "      <td>0.145926</td>\n",
       "      <td>0.023780</td>\n",
       "      <td>0.463357</td>\n",
       "      <td>0.536643</td>\n",
       "      <td>00:00</td>\n",
       "    </tr>\n",
       "    <tr>\n",
       "      <td>9</td>\n",
       "      <td>0.119440</td>\n",
       "      <td>0.019887</td>\n",
       "      <td>0.463357</td>\n",
       "      <td>0.536643</td>\n",
       "      <td>00:00</td>\n",
       "    </tr>\n",
       "  </tbody>\n",
       "</table>"
      ],
      "text/plain": [
       "<IPython.core.display.HTML object>"
      ]
     },
     "metadata": {},
     "output_type": "display_data"
    }
   ],
   "source": [
    "lrnr.fit(10)"
   ]
  },
  {
   "cell_type": "code",
   "execution_count": 27,
   "id": "b7e5d038",
   "metadata": {},
   "outputs": [
    {
     "data": {
      "text/plain": [
       "Sequential(\n",
       "  (0): Conv2d(1, 16, kernel_size=(5, 5), stride=(1, 1))\n",
       "  (1): ReLU()\n",
       "  (2): MaxPool2d(kernel_size=(2, 2), stride=(2, 2), padding=0, dilation=1, ceil_mode=False)\n",
       "  (3): Flatten(start_dim=1, end_dim=-1)\n",
       "  (4): Linear(in_features=2304, out_features=1, bias=True)\n",
       "  (5): Sigmoid()\n",
       ")"
      ]
     },
     "execution_count": 27,
     "metadata": {},
     "output_type": "execute_result"
    }
   ],
   "source": [
    "lrnr.model.to(\"cpu\")"
   ]
  },
  {
   "cell_type": "code",
   "execution_count": 30,
   "id": "8d3912c6",
   "metadata": {},
   "outputs": [
    {
     "data": {
      "text/plain": [
       "[<matplotlib.lines.Line2D at 0x19bf8cf2ac0>]"
      ]
     },
     "execution_count": 30,
     "metadata": {},
     "output_type": "execute_result"
    },
    {
     "data": {
      "image/png": "[encoded data removed]",
      "text/plain": [
       "<Figure size 432x288 with 1 Axes>"
      ]
     },
     "metadata": {
      "needs_background": "light"
     },
     "output_type": "display_data"
    }
   ],
   "source": [
    "plt.plot(yy)\n",
    "plt.plot(lrnr.model(XX).data, ',')"
   ]
  },
  {
   "cell_type": "markdown",
   "id": "e773d5c2",
   "metadata": {},
   "source": [
    "## fastai지원 메트릭이용 --> 올바른 사용 1"
   ]
  },
  {
   "cell_type": "markdown",
   "id": "30d3c704",
   "metadata": {},
   "source": [
    "### (1) dls 만들기"
   ]
  },
  {
   "cell_type": "code",
   "execution_count": 47,
   "id": "2cb3dca3",
   "metadata": {},
   "outputs": [
    {
     "data": {
      "text/plain": [
       "(tensor([0, 0, 0,  ..., 1, 1, 1]), tensor([0, 0, 0,  ..., 1, 1, 1]))"
      ]
     },
     "execution_count": 47,
     "metadata": {},
     "output_type": "execute_result"
    }
   ],
   "source": [
    "y.to(torch.int64).reshape(-1), yy.to(torch.int64).reshape(-1)"
   ]
  },
  {
   "cell_type": "code",
   "execution_count": 56,
   "id": "5c2a39d5",
   "metadata": {},
   "outputs": [],
   "source": [
    "ds1 = torch.utils.data.TensorDataset(X, y.to(torch.int64).reshape(-1))\n",
    "ds2 = torch.utils.data.TensorDataset(XX, yy.to(torch.int64).reshape(-1))\n",
    "dl1 = torch.utils.data.DataLoader(ds1, batch_size = 1266)\n",
    "dl2 = torch.utils.data.DataLoader(ds2, batch_size = 2115)\n",
    "dls = DataLoaders(dl1, dl2)"
   ]
  },
  {
   "cell_type": "markdown",
   "id": "27dd8e76",
   "metadata": {},
   "source": [
    "### (2) lrnr 생성"
   ]
  },
  {
   "cell_type": "code",
   "execution_count": 59,
   "id": "d05443f4",
   "metadata": {},
   "outputs": [],
   "source": [
    "net = torch.nn.Sequential(torch.nn.Conv2d(1, 16, (5, 5)),\n",
    "                         torch.nn.ReLU(),\n",
    "                         torch.nn.MaxPool2d((2, 2)),\n",
    "                         torch.nn.Flatten(),\n",
    "                         torch.nn.Linear(2304, 2))\n",
    "loss_fn = torch.nn.CrossEntropyLoss()\n",
    "lrnr = Learner(dls, net, loss_fn, metrics = [accuracy, error_rate])"
   ]
  },
  {
   "cell_type": "code",
   "execution_count": 60,
   "id": "25d44b4d",
   "metadata": {},
   "outputs": [
    {
     "data": {
      "text/html": [
       "\n",
       "<style>\n",
       "    /* Turns off some styling */\n",
       "    progress {\n",
       "        /* gets rid of default border in Firefox and Opera. */\n",
       "        border: none;\n",
       "        /* Needs to be in here for Safari polyfill so background images work as expected. */\n",
       "        background-size: auto;\n",
       "    }\n",
       "    progress:not([value]), progress:not([value])::-webkit-progress-bar {\n",
       "        background: repeating-linear-gradient(45deg, #7e7e7e, #7e7e7e 10px, #5c5c5c 10px, #5c5c5c 20px);\n",
       "    }\n",
       "    .progress-bar-interrupted, .progress-bar-interrupted::-webkit-progress-bar {\n",
       "        background: #F44336;\n",
       "    }\n",
       "</style>\n"
      ],
      "text/plain": [
       "<IPython.core.display.HTML object>"
      ]
     },
     "metadata": {},
     "output_type": "display_data"
    },
    {
     "data": {
      "text/html": [
       "<table border=\"1\" class=\"dataframe\">\n",
       "  <thead>\n",
       "    <tr style=\"text-align: left;\">\n",
       "      <th>epoch</th>\n",
       "      <th>train_loss</th>\n",
       "      <th>valid_loss</th>\n",
       "      <th>accuracy</th>\n",
       "      <th>error_rate</th>\n",
       "      <th>time</th>\n",
       "    </tr>\n",
       "  </thead>\n",
       "  <tbody>\n",
       "    <tr>\n",
       "      <td>0</td>\n",
       "      <td>1.169649</td>\n",
       "      <td>0.602782</td>\n",
       "      <td>0.463357</td>\n",
       "      <td>0.536643</td>\n",
       "      <td>00:00</td>\n",
       "    </tr>\n",
       "    <tr>\n",
       "      <td>1</td>\n",
       "      <td>0.696552</td>\n",
       "      <td>0.323619</td>\n",
       "      <td>0.954137</td>\n",
       "      <td>0.045863</td>\n",
       "      <td>00:00</td>\n",
       "    </tr>\n",
       "    <tr>\n",
       "      <td>2</td>\n",
       "      <td>0.519975</td>\n",
       "      <td>0.144392</td>\n",
       "      <td>0.989125</td>\n",
       "      <td>0.010875</td>\n",
       "      <td>00:00</td>\n",
       "    </tr>\n",
       "    <tr>\n",
       "      <td>3</td>\n",
       "      <td>0.384531</td>\n",
       "      <td>0.067986</td>\n",
       "      <td>0.994799</td>\n",
       "      <td>0.005201</td>\n",
       "      <td>00:00</td>\n",
       "    </tr>\n",
       "    <tr>\n",
       "      <td>4</td>\n",
       "      <td>0.287451</td>\n",
       "      <td>0.037758</td>\n",
       "      <td>0.997636</td>\n",
       "      <td>0.002364</td>\n",
       "      <td>00:00</td>\n",
       "    </tr>\n",
       "    <tr>\n",
       "      <td>5</td>\n",
       "      <td>0.218949</td>\n",
       "      <td>0.023339</td>\n",
       "      <td>0.998109</td>\n",
       "      <td>0.001891</td>\n",
       "      <td>00:00</td>\n",
       "    </tr>\n",
       "    <tr>\n",
       "      <td>6</td>\n",
       "      <td>0.169778</td>\n",
       "      <td>0.016193</td>\n",
       "      <td>0.997636</td>\n",
       "      <td>0.002364</td>\n",
       "      <td>00:00</td>\n",
       "    </tr>\n",
       "    <tr>\n",
       "      <td>7</td>\n",
       "      <td>0.133592</td>\n",
       "      <td>0.012137</td>\n",
       "      <td>0.997636</td>\n",
       "      <td>0.002364</td>\n",
       "      <td>00:00</td>\n",
       "    </tr>\n",
       "    <tr>\n",
       "      <td>8</td>\n",
       "      <td>0.106303</td>\n",
       "      <td>0.009599</td>\n",
       "      <td>0.997636</td>\n",
       "      <td>0.002364</td>\n",
       "      <td>00:00</td>\n",
       "    </tr>\n",
       "    <tr>\n",
       "      <td>9</td>\n",
       "      <td>0.085338</td>\n",
       "      <td>0.007887</td>\n",
       "      <td>0.997636</td>\n",
       "      <td>0.002364</td>\n",
       "      <td>00:00</td>\n",
       "    </tr>\n",
       "  </tbody>\n",
       "</table>"
      ],
      "text/plain": [
       "<IPython.core.display.HTML object>"
      ]
     },
     "metadata": {},
     "output_type": "display_data"
    }
   ],
   "source": [
    "lrnr.fit(10)"
   ]
  },
  {
   "cell_type": "markdown",
   "id": "385980b3",
   "metadata": {},
   "source": [
    "## fastai지원 메트릭이용 --> 올바른 사용 2"
   ]
  },
  {
   "cell_type": "markdown",
   "id": "58853291",
   "metadata": {},
   "source": [
    "### (1) dls 만들기"
   ]
  },
  {
   "cell_type": "code",
   "execution_count": 61,
   "id": "ae29503a",
   "metadata": {},
   "outputs": [],
   "source": [
    "y_onehot = torch.tensor(list(map(lambda x : [1.0, 0.0] if x == 0 else [0.0, 1.0], y)))\n",
    "yy_onehot = torch.tensor(list(map(lambda x : [1.0, 0.0] if x == 0 else [0.0, 1.0], yy)))"
   ]
  },
  {
   "cell_type": "code",
   "execution_count": 69,
   "id": "597ec548",
   "metadata": {},
   "outputs": [],
   "source": [
    "ds1 = torch.utils.data.TensorDataset(X, y_onehot)\n",
    "ds2 = torch.utils.data.TensorDataset(XX, yy_onehot)\n",
    "dl1 = torch.utils.data.DataLoader(ds1, batch_size = 1266)\n",
    "dl2 = torch.utils.data.DataLoader(ds2, batch_size = 2115)\n",
    "dls = DataLoaders(dl1, dl2)"
   ]
  },
  {
   "cell_type": "markdown",
   "id": "9ead7470",
   "metadata": {},
   "source": [
    "### (2) lrnr 만들기"
   ]
  },
  {
   "cell_type": "code",
   "execution_count": 70,
   "id": "2b48c3e9",
   "metadata": {},
   "outputs": [],
   "source": [
    "net = torch.nn.Sequential(torch.nn.Conv2d(1, 16, (5, 5)),\n",
    "                         torch.nn.ReLU(),\n",
    "                         torch.nn.MaxPool2d((2, 2)),\n",
    "                         torch.nn.Flatten(),\n",
    "                         torch.nn.Linear(2304, 2))\n",
    "loss_fn = torch.nn.CrossEntropyLoss()\n",
    "lrnr = Learner(dls, net, loss_fn, metrics = [accuracy_multi])"
   ]
  },
  {
   "cell_type": "markdown",
   "id": "0a0a8a00",
   "metadata": {},
   "source": [
    "### (3) 학습"
   ]
  },
  {
   "cell_type": "code",
   "execution_count": 71,
   "id": "7897a634",
   "metadata": {},
   "outputs": [
    {
     "data": {
      "text/html": [
       "\n",
       "<style>\n",
       "    /* Turns off some styling */\n",
       "    progress {\n",
       "        /* gets rid of default border in Firefox and Opera. */\n",
       "        border: none;\n",
       "        /* Needs to be in here for Safari polyfill so background images work as expected. */\n",
       "        background-size: auto;\n",
       "    }\n",
       "    progress:not([value]), progress:not([value])::-webkit-progress-bar {\n",
       "        background: repeating-linear-gradient(45deg, #7e7e7e, #7e7e7e 10px, #5c5c5c 10px, #5c5c5c 20px);\n",
       "    }\n",
       "    .progress-bar-interrupted, .progress-bar-interrupted::-webkit-progress-bar {\n",
       "        background: #F44336;\n",
       "    }\n",
       "</style>\n"
      ],
      "text/plain": [
       "<IPython.core.display.HTML object>"
      ]
     },
     "metadata": {},
     "output_type": "display_data"
    },
    {
     "data": {
      "text/html": [
       "<table border=\"1\" class=\"dataframe\">\n",
       "  <thead>\n",
       "    <tr style=\"text-align: left;\">\n",
       "      <th>epoch</th>\n",
       "      <th>train_loss</th>\n",
       "      <th>valid_loss</th>\n",
       "      <th>accuracy_multi</th>\n",
       "      <th>time</th>\n",
       "    </tr>\n",
       "  </thead>\n",
       "  <tbody>\n",
       "    <tr>\n",
       "      <td>0</td>\n",
       "      <td>1.167419</td>\n",
       "      <td>0.628575</td>\n",
       "      <td>0.463357</td>\n",
       "      <td>00:00</td>\n",
       "    </tr>\n",
       "    <tr>\n",
       "      <td>1</td>\n",
       "      <td>0.718444</td>\n",
       "      <td>0.368725</td>\n",
       "      <td>0.950118</td>\n",
       "      <td>00:00</td>\n",
       "    </tr>\n",
       "    <tr>\n",
       "      <td>2</td>\n",
       "      <td>0.550238</td>\n",
       "      <td>0.172170</td>\n",
       "      <td>0.991253</td>\n",
       "      <td>00:00</td>\n",
       "    </tr>\n",
       "    <tr>\n",
       "      <td>3</td>\n",
       "      <td>0.412260</td>\n",
       "      <td>0.081312</td>\n",
       "      <td>0.995981</td>\n",
       "      <td>00:00</td>\n",
       "    </tr>\n",
       "    <tr>\n",
       "      <td>4</td>\n",
       "      <td>0.309234</td>\n",
       "      <td>0.041627</td>\n",
       "      <td>0.996217</td>\n",
       "      <td>00:00</td>\n",
       "    </tr>\n",
       "    <tr>\n",
       "      <td>5</td>\n",
       "      <td>0.235456</td>\n",
       "      <td>0.024341</td>\n",
       "      <td>0.996454</td>\n",
       "      <td>00:00</td>\n",
       "    </tr>\n",
       "    <tr>\n",
       "      <td>6</td>\n",
       "      <td>0.182505</td>\n",
       "      <td>0.016696</td>\n",
       "      <td>0.997400</td>\n",
       "      <td>00:00</td>\n",
       "    </tr>\n",
       "    <tr>\n",
       "      <td>7</td>\n",
       "      <td>0.143571</td>\n",
       "      <td>0.012605</td>\n",
       "      <td>0.997636</td>\n",
       "      <td>00:00</td>\n",
       "    </tr>\n",
       "    <tr>\n",
       "      <td>8</td>\n",
       "      <td>0.114232</td>\n",
       "      <td>0.010127</td>\n",
       "      <td>0.998345</td>\n",
       "      <td>00:00</td>\n",
       "    </tr>\n",
       "    <tr>\n",
       "      <td>9</td>\n",
       "      <td>0.091728</td>\n",
       "      <td>0.008435</td>\n",
       "      <td>0.998345</td>\n",
       "      <td>00:00</td>\n",
       "    </tr>\n",
       "  </tbody>\n",
       "</table>"
      ],
      "text/plain": [
       "<IPython.core.display.HTML object>"
      ]
     },
     "metadata": {},
     "output_type": "display_data"
    }
   ],
   "source": [
    "lrnr.fit(10)"
   ]
  },
  {
   "cell_type": "markdown",
   "id": "baf566e2",
   "metadata": {},
   "source": [
    "`-` IAB 딥러닝 수업 자료를 기반으로 공부한 내용입니다."
   ]
  },
  {
   "cell_type": "code",
   "execution_count": null,
   "id": "fdc95528",
   "metadata": {},
   "outputs": [],
   "source": []
  }
 ],
 "metadata": {
  "kernelspec": {
   "display_name": "Python 3 (ipykernel)",
   "language": "python",
   "name": "python3"
  },
  "language_info": {
   "codemirror_mode": {
    "name": "ipython",
    "version": 3
   },
   "file_extension": ".py",
   "mimetype": "text/x-python",
   "name": "python",
   "nbconvert_exporter": "python",
   "pygments_lexer": "ipython3",
   "version": "3.9.12"
  }
 },
 "nbformat": 4,
 "nbformat_minor": 5
}
