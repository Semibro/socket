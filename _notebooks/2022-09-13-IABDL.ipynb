{
 "cells": [
  {
   "cell_type": "markdown",
   "id": "3b6274c3",
   "metadata": {},
   "source": [
    "# IAB딥러닝 9월 13일 \n",
    "> Overview - 추천시스템, 텍스트분석\n",
    "\n",
    "- toc:true\n",
    "- branch: master\n",
    "- badges: true\n",
    "- comments: true\n",
    "- author: 김준형"
   ]
  },
  {
   "cell_type": "markdown",
   "id": "d7e7c7db",
   "metadata": {},
   "source": [
    "## Import"
   ]
  },
  {
   "cell_type": "code",
   "execution_count": 1,
   "id": "2773c9b6",
   "metadata": {},
   "outputs": [],
   "source": [
    "from fastai.collab import *  # 추천시스템\n",
    "from fastai.text.all import *  # 텍스트분석"
   ]
  },
  {
   "cell_type": "code",
   "execution_count": 2,
   "id": "d7aa0866",
   "metadata": {},
   "outputs": [],
   "source": [
    "import pandas as pd"
   ]
  },
  {
   "cell_type": "markdown",
   "id": "2dc6184e",
   "metadata": {},
   "source": [
    "### fastai를 이용한 분석 단계"
   ]
  },
  {
   "cell_type": "markdown",
   "id": "293830f8",
   "metadata": {},
   "source": [
    "| |이미지분석(CNN) | 추천시스템 | 텍스트분석 | GAN | \n",
    "|:-:|:-:|:-:|:-:|:-:|\n",
    "|1단계|ImageDataLoaders|CollabDataLoaders| TextDataLoaders | DataBlock -> dls |  \n",
    "|2단계|cnn_learner()|collab_learner()| language_model_learner() | GANLearner.wgan() | \n",
    "|3단계|lrnr.fine_tune(1)|lrnr.fit()| lrnr.fit() | lrnr.fit() |\n",
    "|4단계|lrnr.predict(), lrnr.model(X)|lrnr.model(X)| lrnr.predict() | | "
   ]
  },
  {
   "cell_type": "markdown",
   "id": "50715f88",
   "metadata": {},
   "source": [
    "## 추천시스템"
   ]
  },
  {
   "cell_type": "markdown",
   "id": "ea818e31",
   "metadata": {},
   "source": [
    "### 1단계"
   ]
  },
  {
   "cell_type": "code",
   "execution_count": 3,
   "id": "b4c3b2ca",
   "metadata": {},
   "outputs": [
    {
     "data": {
      "text/html": [
       "<div>\n",
       "<style scoped>\n",
       "    .dataframe tbody tr th:only-of-type {\n",
       "        vertical-align: middle;\n",
       "    }\n",
       "\n",
       "    .dataframe tbody tr th {\n",
       "        vertical-align: top;\n",
       "    }\n",
       "\n",
       "    .dataframe thead th {\n",
       "        text-align: right;\n",
       "    }\n",
       "</style>\n",
       "<table border=\"1\" class=\"dataframe\">\n",
       "  <thead>\n",
       "    <tr style=\"text-align: right;\">\n",
       "      <th></th>\n",
       "      <th>커피1</th>\n",
       "      <th>커피2</th>\n",
       "      <th>커피3</th>\n",
       "      <th>커피4</th>\n",
       "      <th>커피5</th>\n",
       "      <th>커피6</th>\n",
       "      <th>커피7</th>\n",
       "      <th>커피8</th>\n",
       "      <th>커피9</th>\n",
       "      <th>커피10</th>\n",
       "      <th>홍차1</th>\n",
       "      <th>홍차2</th>\n",
       "      <th>홍차3</th>\n",
       "      <th>홍차4</th>\n",
       "      <th>홍차5</th>\n",
       "      <th>홍차6</th>\n",
       "      <th>홍차7</th>\n",
       "      <th>홍차8</th>\n",
       "      <th>홍차9</th>\n",
       "      <th>홍차10</th>\n",
       "    </tr>\n",
       "  </thead>\n",
       "  <tbody>\n",
       "    <tr>\n",
       "      <th>0</th>\n",
       "      <td>4.149209</td>\n",
       "      <td>NaN</td>\n",
       "      <td>NaN</td>\n",
       "      <td>4.078139</td>\n",
       "      <td>4.033415</td>\n",
       "      <td>4.071871</td>\n",
       "      <td>NaN</td>\n",
       "      <td>NaN</td>\n",
       "      <td>NaN</td>\n",
       "      <td>NaN</td>\n",
       "      <td>1.142659</td>\n",
       "      <td>1.109452</td>\n",
       "      <td>NaN</td>\n",
       "      <td>0.603118</td>\n",
       "      <td>1.084308</td>\n",
       "      <td>NaN</td>\n",
       "      <td>0.906524</td>\n",
       "      <td>NaN</td>\n",
       "      <td>NaN</td>\n",
       "      <td>0.903826</td>\n",
       "    </tr>\n",
       "    <tr>\n",
       "      <th>1</th>\n",
       "      <td>4.031811</td>\n",
       "      <td>NaN</td>\n",
       "      <td>NaN</td>\n",
       "      <td>3.822704</td>\n",
       "      <td>NaN</td>\n",
       "      <td>NaN</td>\n",
       "      <td>NaN</td>\n",
       "      <td>4.071410</td>\n",
       "      <td>3.996206</td>\n",
       "      <td>NaN</td>\n",
       "      <td>NaN</td>\n",
       "      <td>0.839565</td>\n",
       "      <td>1.011315</td>\n",
       "      <td>NaN</td>\n",
       "      <td>1.120552</td>\n",
       "      <td>0.911340</td>\n",
       "      <td>NaN</td>\n",
       "      <td>0.860954</td>\n",
       "      <td>0.871482</td>\n",
       "      <td>NaN</td>\n",
       "    </tr>\n",
       "    <tr>\n",
       "      <th>2</th>\n",
       "      <td>4.082178</td>\n",
       "      <td>4.196436</td>\n",
       "      <td>NaN</td>\n",
       "      <td>3.956876</td>\n",
       "      <td>NaN</td>\n",
       "      <td>NaN</td>\n",
       "      <td>NaN</td>\n",
       "      <td>4.450931</td>\n",
       "      <td>3.972090</td>\n",
       "      <td>NaN</td>\n",
       "      <td>NaN</td>\n",
       "      <td>NaN</td>\n",
       "      <td>NaN</td>\n",
       "      <td>0.983838</td>\n",
       "      <td>NaN</td>\n",
       "      <td>0.918576</td>\n",
       "      <td>1.206796</td>\n",
       "      <td>0.913116</td>\n",
       "      <td>NaN</td>\n",
       "      <td>0.956194</td>\n",
       "    </tr>\n",
       "    <tr>\n",
       "      <th>3</th>\n",
       "      <td>NaN</td>\n",
       "      <td>4.000621</td>\n",
       "      <td>3.895570</td>\n",
       "      <td>NaN</td>\n",
       "      <td>3.838781</td>\n",
       "      <td>3.967183</td>\n",
       "      <td>NaN</td>\n",
       "      <td>NaN</td>\n",
       "      <td>NaN</td>\n",
       "      <td>4.105741</td>\n",
       "      <td>1.147554</td>\n",
       "      <td>NaN</td>\n",
       "      <td>1.346860</td>\n",
       "      <td>NaN</td>\n",
       "      <td>0.614099</td>\n",
       "      <td>1.297301</td>\n",
       "      <td>NaN</td>\n",
       "      <td>NaN</td>\n",
       "      <td>NaN</td>\n",
       "      <td>1.147545</td>\n",
       "    </tr>\n",
       "    <tr>\n",
       "      <th>4</th>\n",
       "      <td>NaN</td>\n",
       "      <td>NaN</td>\n",
       "      <td>NaN</td>\n",
       "      <td>NaN</td>\n",
       "      <td>3.888208</td>\n",
       "      <td>NaN</td>\n",
       "      <td>3.970330</td>\n",
       "      <td>3.979490</td>\n",
       "      <td>NaN</td>\n",
       "      <td>4.010982</td>\n",
       "      <td>NaN</td>\n",
       "      <td>0.920995</td>\n",
       "      <td>1.081111</td>\n",
       "      <td>0.999345</td>\n",
       "      <td>NaN</td>\n",
       "      <td>1.195183</td>\n",
       "      <td>NaN</td>\n",
       "      <td>0.818332</td>\n",
       "      <td>1.236331</td>\n",
       "      <td>NaN</td>\n",
       "    </tr>\n",
       "    <tr>\n",
       "      <th>...</th>\n",
       "      <td>...</td>\n",
       "      <td>...</td>\n",
       "      <td>...</td>\n",
       "      <td>...</td>\n",
       "      <td>...</td>\n",
       "      <td>...</td>\n",
       "      <td>...</td>\n",
       "      <td>...</td>\n",
       "      <td>...</td>\n",
       "      <td>...</td>\n",
       "      <td>...</td>\n",
       "      <td>...</td>\n",
       "      <td>...</td>\n",
       "      <td>...</td>\n",
       "      <td>...</td>\n",
       "      <td>...</td>\n",
       "      <td>...</td>\n",
       "      <td>...</td>\n",
       "      <td>...</td>\n",
       "      <td>...</td>\n",
       "    </tr>\n",
       "    <tr>\n",
       "      <th>95</th>\n",
       "      <td>0.511905</td>\n",
       "      <td>1.066144</td>\n",
       "      <td>NaN</td>\n",
       "      <td>1.315430</td>\n",
       "      <td>NaN</td>\n",
       "      <td>1.285778</td>\n",
       "      <td>NaN</td>\n",
       "      <td>0.678400</td>\n",
       "      <td>1.023020</td>\n",
       "      <td>0.886803</td>\n",
       "      <td>NaN</td>\n",
       "      <td>4.055996</td>\n",
       "      <td>NaN</td>\n",
       "      <td>NaN</td>\n",
       "      <td>4.156489</td>\n",
       "      <td>4.127622</td>\n",
       "      <td>NaN</td>\n",
       "      <td>NaN</td>\n",
       "      <td>NaN</td>\n",
       "      <td>NaN</td>\n",
       "    </tr>\n",
       "    <tr>\n",
       "      <th>96</th>\n",
       "      <td>NaN</td>\n",
       "      <td>1.035022</td>\n",
       "      <td>NaN</td>\n",
       "      <td>1.085834</td>\n",
       "      <td>NaN</td>\n",
       "      <td>0.812558</td>\n",
       "      <td>NaN</td>\n",
       "      <td>1.074543</td>\n",
       "      <td>NaN</td>\n",
       "      <td>0.852806</td>\n",
       "      <td>3.894772</td>\n",
       "      <td>NaN</td>\n",
       "      <td>4.071385</td>\n",
       "      <td>3.935935</td>\n",
       "      <td>NaN</td>\n",
       "      <td>NaN</td>\n",
       "      <td>3.989815</td>\n",
       "      <td>NaN</td>\n",
       "      <td>NaN</td>\n",
       "      <td>4.267142</td>\n",
       "    </tr>\n",
       "    <tr>\n",
       "      <th>97</th>\n",
       "      <td>NaN</td>\n",
       "      <td>1.115511</td>\n",
       "      <td>NaN</td>\n",
       "      <td>1.101395</td>\n",
       "      <td>0.878614</td>\n",
       "      <td>NaN</td>\n",
       "      <td>NaN</td>\n",
       "      <td>NaN</td>\n",
       "      <td>1.329319</td>\n",
       "      <td>NaN</td>\n",
       "      <td>4.125190</td>\n",
       "      <td>NaN</td>\n",
       "      <td>4.354638</td>\n",
       "      <td>3.811209</td>\n",
       "      <td>4.144648</td>\n",
       "      <td>NaN</td>\n",
       "      <td>NaN</td>\n",
       "      <td>4.116915</td>\n",
       "      <td>3.887823</td>\n",
       "      <td>NaN</td>\n",
       "    </tr>\n",
       "    <tr>\n",
       "      <th>98</th>\n",
       "      <td>NaN</td>\n",
       "      <td>0.850794</td>\n",
       "      <td>NaN</td>\n",
       "      <td>NaN</td>\n",
       "      <td>0.927884</td>\n",
       "      <td>0.669895</td>\n",
       "      <td>NaN</td>\n",
       "      <td>NaN</td>\n",
       "      <td>0.665429</td>\n",
       "      <td>1.387329</td>\n",
       "      <td>NaN</td>\n",
       "      <td>NaN</td>\n",
       "      <td>4.329404</td>\n",
       "      <td>4.111706</td>\n",
       "      <td>3.960197</td>\n",
       "      <td>NaN</td>\n",
       "      <td>NaN</td>\n",
       "      <td>NaN</td>\n",
       "      <td>3.725288</td>\n",
       "      <td>4.122072</td>\n",
       "    </tr>\n",
       "    <tr>\n",
       "      <th>99</th>\n",
       "      <td>NaN</td>\n",
       "      <td>NaN</td>\n",
       "      <td>1.413968</td>\n",
       "      <td>0.838720</td>\n",
       "      <td>NaN</td>\n",
       "      <td>NaN</td>\n",
       "      <td>1.094826</td>\n",
       "      <td>0.987888</td>\n",
       "      <td>NaN</td>\n",
       "      <td>1.177387</td>\n",
       "      <td>3.957383</td>\n",
       "      <td>4.136731</td>\n",
       "      <td>NaN</td>\n",
       "      <td>4.026915</td>\n",
       "      <td>NaN</td>\n",
       "      <td>NaN</td>\n",
       "      <td>4.164773</td>\n",
       "      <td>4.104276</td>\n",
       "      <td>NaN</td>\n",
       "      <td>NaN</td>\n",
       "    </tr>\n",
       "  </tbody>\n",
       "</table>\n",
       "<p>100 rows × 20 columns</p>\n",
       "</div>"
      ],
      "text/plain": [
       "         커피1       커피2       커피3       커피4       커피5       커피6       커피7  \\\n",
       "0   4.149209       NaN       NaN  4.078139  4.033415  4.071871       NaN   \n",
       "1   4.031811       NaN       NaN  3.822704       NaN       NaN       NaN   \n",
       "2   4.082178  4.196436       NaN  3.956876       NaN       NaN       NaN   \n",
       "3        NaN  4.000621  3.895570       NaN  3.838781  3.967183       NaN   \n",
       "4        NaN       NaN       NaN       NaN  3.888208       NaN  3.970330   \n",
       "..       ...       ...       ...       ...       ...       ...       ...   \n",
       "95  0.511905  1.066144       NaN  1.315430       NaN  1.285778       NaN   \n",
       "96       NaN  1.035022       NaN  1.085834       NaN  0.812558       NaN   \n",
       "97       NaN  1.115511       NaN  1.101395  0.878614       NaN       NaN   \n",
       "98       NaN  0.850794       NaN       NaN  0.927884  0.669895       NaN   \n",
       "99       NaN       NaN  1.413968  0.838720       NaN       NaN  1.094826   \n",
       "\n",
       "         커피8       커피9      커피10       홍차1       홍차2       홍차3       홍차4  \\\n",
       "0        NaN       NaN       NaN  1.142659  1.109452       NaN  0.603118   \n",
       "1   4.071410  3.996206       NaN       NaN  0.839565  1.011315       NaN   \n",
       "2   4.450931  3.972090       NaN       NaN       NaN       NaN  0.983838   \n",
       "3        NaN       NaN  4.105741  1.147554       NaN  1.346860       NaN   \n",
       "4   3.979490       NaN  4.010982       NaN  0.920995  1.081111  0.999345   \n",
       "..       ...       ...       ...       ...       ...       ...       ...   \n",
       "95  0.678400  1.023020  0.886803       NaN  4.055996       NaN       NaN   \n",
       "96  1.074543       NaN  0.852806  3.894772       NaN  4.071385  3.935935   \n",
       "97       NaN  1.329319       NaN  4.125190       NaN  4.354638  3.811209   \n",
       "98       NaN  0.665429  1.387329       NaN       NaN  4.329404  4.111706   \n",
       "99  0.987888       NaN  1.177387  3.957383  4.136731       NaN  4.026915   \n",
       "\n",
       "         홍차5       홍차6       홍차7       홍차8       홍차9      홍차10  \n",
       "0   1.084308       NaN  0.906524       NaN       NaN  0.903826  \n",
       "1   1.120552  0.911340       NaN  0.860954  0.871482       NaN  \n",
       "2        NaN  0.918576  1.206796  0.913116       NaN  0.956194  \n",
       "3   0.614099  1.297301       NaN       NaN       NaN  1.147545  \n",
       "4        NaN  1.195183       NaN  0.818332  1.236331       NaN  \n",
       "..       ...       ...       ...       ...       ...       ...  \n",
       "95  4.156489  4.127622       NaN       NaN       NaN       NaN  \n",
       "96       NaN       NaN  3.989815       NaN       NaN  4.267142  \n",
       "97  4.144648       NaN       NaN  4.116915  3.887823       NaN  \n",
       "98  3.960197       NaN       NaN       NaN  3.725288  4.122072  \n",
       "99       NaN       NaN  4.164773  4.104276       NaN       NaN  \n",
       "\n",
       "[100 rows x 20 columns]"
      ]
     },
     "execution_count": 3,
     "metadata": {},
     "output_type": "execute_result"
    }
   ],
   "source": [
    "df_view = pd.read_csv('https://raw.githubusercontent.com/guebin/DL2022/master/_notebooks/2022-09-08-rcmd_view.csv')\n",
    "df_view"
   ]
  },
  {
   "cell_type": "code",
   "execution_count": 4,
   "id": "e3acf1d7",
   "metadata": {},
   "outputs": [
    {
     "data": {
      "text/html": [
       "<div>\n",
       "<style scoped>\n",
       "    .dataframe tbody tr th:only-of-type {\n",
       "        vertical-align: middle;\n",
       "    }\n",
       "\n",
       "    .dataframe tbody tr th {\n",
       "        vertical-align: top;\n",
       "    }\n",
       "\n",
       "    .dataframe thead th {\n",
       "        text-align: right;\n",
       "    }\n",
       "</style>\n",
       "<table border=\"1\" class=\"dataframe\">\n",
       "  <thead>\n",
       "    <tr style=\"text-align: right;\">\n",
       "      <th></th>\n",
       "      <th>user</th>\n",
       "      <th>item</th>\n",
       "      <th>rating</th>\n",
       "      <th>item_name</th>\n",
       "    </tr>\n",
       "  </thead>\n",
       "  <tbody>\n",
       "    <tr>\n",
       "      <th>0</th>\n",
       "      <td>1</td>\n",
       "      <td>15</td>\n",
       "      <td>1.084308</td>\n",
       "      <td>홍차5</td>\n",
       "    </tr>\n",
       "    <tr>\n",
       "      <th>1</th>\n",
       "      <td>1</td>\n",
       "      <td>1</td>\n",
       "      <td>4.149209</td>\n",
       "      <td>커피1</td>\n",
       "    </tr>\n",
       "    <tr>\n",
       "      <th>2</th>\n",
       "      <td>1</td>\n",
       "      <td>11</td>\n",
       "      <td>1.142659</td>\n",
       "      <td>홍차1</td>\n",
       "    </tr>\n",
       "    <tr>\n",
       "      <th>3</th>\n",
       "      <td>1</td>\n",
       "      <td>5</td>\n",
       "      <td>4.033415</td>\n",
       "      <td>커피5</td>\n",
       "    </tr>\n",
       "    <tr>\n",
       "      <th>4</th>\n",
       "      <td>1</td>\n",
       "      <td>4</td>\n",
       "      <td>4.078139</td>\n",
       "      <td>커피4</td>\n",
       "    </tr>\n",
       "    <tr>\n",
       "      <th>...</th>\n",
       "      <td>...</td>\n",
       "      <td>...</td>\n",
       "      <td>...</td>\n",
       "      <td>...</td>\n",
       "    </tr>\n",
       "    <tr>\n",
       "      <th>995</th>\n",
       "      <td>100</td>\n",
       "      <td>18</td>\n",
       "      <td>4.104276</td>\n",
       "      <td>홍차8</td>\n",
       "    </tr>\n",
       "    <tr>\n",
       "      <th>996</th>\n",
       "      <td>100</td>\n",
       "      <td>17</td>\n",
       "      <td>4.164773</td>\n",
       "      <td>홍차7</td>\n",
       "    </tr>\n",
       "    <tr>\n",
       "      <th>997</th>\n",
       "      <td>100</td>\n",
       "      <td>14</td>\n",
       "      <td>4.026915</td>\n",
       "      <td>홍차4</td>\n",
       "    </tr>\n",
       "    <tr>\n",
       "      <th>998</th>\n",
       "      <td>100</td>\n",
       "      <td>4</td>\n",
       "      <td>0.838720</td>\n",
       "      <td>커피4</td>\n",
       "    </tr>\n",
       "    <tr>\n",
       "      <th>999</th>\n",
       "      <td>100</td>\n",
       "      <td>7</td>\n",
       "      <td>1.094826</td>\n",
       "      <td>커피7</td>\n",
       "    </tr>\n",
       "  </tbody>\n",
       "</table>\n",
       "<p>1000 rows × 4 columns</p>\n",
       "</div>"
      ],
      "text/plain": [
       "     user  item    rating item_name\n",
       "0       1    15  1.084308       홍차5\n",
       "1       1     1  4.149209       커피1\n",
       "2       1    11  1.142659       홍차1\n",
       "3       1     5  4.033415       커피5\n",
       "4       1     4  4.078139       커피4\n",
       "..    ...   ...       ...       ...\n",
       "995   100    18  4.104276       홍차8\n",
       "996   100    17  4.164773       홍차7\n",
       "997   100    14  4.026915       홍차4\n",
       "998   100     4  0.838720       커피4\n",
       "999   100     7  1.094826       커피7\n",
       "\n",
       "[1000 rows x 4 columns]"
      ]
     },
     "execution_count": 4,
     "metadata": {},
     "output_type": "execute_result"
    }
   ],
   "source": [
    "df = pd.read_csv('https://raw.githubusercontent.com/guebin/DL2022/master/_notebooks/2022-09-08-rcmd_anal.csv')\n",
    "df"
   ]
  },
  {
   "cell_type": "code",
   "execution_count": 6,
   "id": "7984a31a",
   "metadata": {},
   "outputs": [
    {
     "data": {
      "text/plain": [
       "(array([15,  1, 11,  5,  4, 14,  6, 20, 12, 17,  8,  9, 13, 19, 18, 16,  2,\n",
       "         3, 10,  7], dtype=int64),\n",
       " array([  1,   2,   3,   4,   5,   6,   7,   8,   9,  10,  11,  12,  13,\n",
       "         14,  15,  16,  17,  18,  19,  20,  21,  22,  23,  24,  25,  26,\n",
       "         27,  28,  29,  30,  31,  32,  33,  34,  35,  36,  37,  38,  39,\n",
       "         40,  41,  42,  43,  44,  45,  46,  47,  48,  49,  50,  51,  52,\n",
       "         53,  54,  55,  56,  57,  58,  59,  60,  61,  62,  63,  64,  65,\n",
       "         66,  67,  68,  69,  70,  71,  72,  73,  74,  75,  76,  77,  78,\n",
       "         79,  80,  81,  82,  83,  84,  85,  86,  87,  88,  89,  90,  91,\n",
       "         92,  93,  94,  95,  96,  97,  98,  99, 100], dtype=int64))"
      ]
     },
     "execution_count": 6,
     "metadata": {},
     "output_type": "execute_result"
    }
   ],
   "source": [
    "df.item.unique(), df.user.unique()  # unique()는 데이터에 고유값들이 어떠한 종류들이 있는지 알고 싶을 때 사용하는 함수"
   ]
  },
  {
   "cell_type": "code",
   "execution_count": 9,
   "id": "f67bbb0d",
   "metadata": {},
   "outputs": [],
   "source": [
    "dls = CollabDataLoaders.from_df(df)  #협업 필터링에 적합한 항목 생성"
   ]
  },
  {
   "cell_type": "code",
   "execution_count": 10,
   "id": "64219f35",
   "metadata": {},
   "outputs": [
    {
     "data": {
      "text/html": [
       "<table border=\"1\" class=\"dataframe\">\n",
       "  <thead>\n",
       "    <tr style=\"text-align: right;\">\n",
       "      <th></th>\n",
       "      <th>user</th>\n",
       "      <th>item</th>\n",
       "      <th>rating</th>\n",
       "    </tr>\n",
       "  </thead>\n",
       "  <tbody>\n",
       "    <tr>\n",
       "      <th>0</th>\n",
       "      <td>78</td>\n",
       "      <td>13</td>\n",
       "      <td>4.020114</td>\n",
       "    </tr>\n",
       "    <tr>\n",
       "      <th>1</th>\n",
       "      <td>14</td>\n",
       "      <td>1</td>\n",
       "      <td>4.329083</td>\n",
       "    </tr>\n",
       "    <tr>\n",
       "      <th>2</th>\n",
       "      <td>52</td>\n",
       "      <td>16</td>\n",
       "      <td>4.008471</td>\n",
       "    </tr>\n",
       "    <tr>\n",
       "      <th>3</th>\n",
       "      <td>79</td>\n",
       "      <td>15</td>\n",
       "      <td>4.105639</td>\n",
       "    </tr>\n",
       "    <tr>\n",
       "      <th>4</th>\n",
       "      <td>16</td>\n",
       "      <td>14</td>\n",
       "      <td>0.946549</td>\n",
       "    </tr>\n",
       "    <tr>\n",
       "      <th>5</th>\n",
       "      <td>98</td>\n",
       "      <td>11</td>\n",
       "      <td>4.125190</td>\n",
       "    </tr>\n",
       "    <tr>\n",
       "      <th>6</th>\n",
       "      <td>12</td>\n",
       "      <td>9</td>\n",
       "      <td>4.502565</td>\n",
       "    </tr>\n",
       "    <tr>\n",
       "      <th>7</th>\n",
       "      <td>80</td>\n",
       "      <td>13</td>\n",
       "      <td>3.725410</td>\n",
       "    </tr>\n",
       "    <tr>\n",
       "      <th>8</th>\n",
       "      <td>5</td>\n",
       "      <td>10</td>\n",
       "      <td>4.010983</td>\n",
       "    </tr>\n",
       "    <tr>\n",
       "      <th>9</th>\n",
       "      <td>76</td>\n",
       "      <td>2</td>\n",
       "      <td>0.725603</td>\n",
       "    </tr>\n",
       "  </tbody>\n",
       "</table>"
      ],
      "text/plain": [
       "<IPython.core.display.HTML object>"
      ]
     },
     "metadata": {},
     "output_type": "display_data"
    }
   ],
   "source": [
    "dls.show_batch()"
   ]
  },
  {
   "cell_type": "code",
   "execution_count": 11,
   "id": "42d6c0b9",
   "metadata": {},
   "outputs": [],
   "source": [
    "X, y = dls.one_batch()"
   ]
  },
  {
   "cell_type": "code",
   "execution_count": 12,
   "id": "c3e00088",
   "metadata": {},
   "outputs": [
    {
     "data": {
      "text/plain": [
       "(tensor([60,  3]), tensor([1.1309]))"
      ]
     },
     "execution_count": 12,
     "metadata": {},
     "output_type": "execute_result"
    }
   ],
   "source": [
    "X[0], y[0]  # 60번 유저가 3번 아이템을 먹었을 때, 평점 1.1309"
   ]
  },
  {
   "cell_type": "markdown",
   "id": "1adef22e",
   "metadata": {},
   "source": [
    "### 2단계"
   ]
  },
  {
   "cell_type": "code",
   "execution_count": 13,
   "id": "420e4d20",
   "metadata": {},
   "outputs": [],
   "source": [
    "lrnr = collab_learner(dls, y_range = (0, 5))"
   ]
  },
  {
   "cell_type": "code",
   "execution_count": 15,
   "id": "507bd2fa",
   "metadata": {},
   "outputs": [
    {
     "data": {
      "text/html": [
       "\n",
       "<style>\n",
       "    /* Turns off some styling */\n",
       "    progress {\n",
       "        /* gets rid of default border in Firefox and Opera. */\n",
       "        border: none;\n",
       "        /* Needs to be in here for Safari polyfill so background images work as expected. */\n",
       "        background-size: auto;\n",
       "    }\n",
       "    progress:not([value]), progress:not([value])::-webkit-progress-bar {\n",
       "        background: repeating-linear-gradient(45deg, #7e7e7e, #7e7e7e 10px, #5c5c5c 10px, #5c5c5c 20px);\n",
       "    }\n",
       "    .progress-bar-interrupted, .progress-bar-interrupted::-webkit-progress-bar {\n",
       "        background: #F44336;\n",
       "    }\n",
       "</style>\n"
      ],
      "text/plain": [
       "<IPython.core.display.HTML object>"
      ]
     },
     "metadata": {},
     "output_type": "display_data"
    },
    {
     "data": {
      "text/html": [
       "<table border=\"1\" class=\"dataframe\">\n",
       "  <thead>\n",
       "    <tr style=\"text-align: left;\">\n",
       "      <th>epoch</th>\n",
       "      <th>train_loss</th>\n",
       "      <th>valid_loss</th>\n",
       "      <th>time</th>\n",
       "    </tr>\n",
       "  </thead>\n",
       "  <tbody>\n",
       "    <tr>\n",
       "      <td>0</td>\n",
       "      <td>0.982962</td>\n",
       "      <td>0.960218</td>\n",
       "      <td>00:00</td>\n",
       "    </tr>\n",
       "    <tr>\n",
       "      <td>1</td>\n",
       "      <td>0.854534</td>\n",
       "      <td>0.739310</td>\n",
       "      <td>00:00</td>\n",
       "    </tr>\n",
       "    <tr>\n",
       "      <td>2</td>\n",
       "      <td>0.728671</td>\n",
       "      <td>0.549827</td>\n",
       "      <td>00:00</td>\n",
       "    </tr>\n",
       "    <tr>\n",
       "      <td>3</td>\n",
       "      <td>0.612306</td>\n",
       "      <td>0.398833</td>\n",
       "      <td>00:00</td>\n",
       "    </tr>\n",
       "    <tr>\n",
       "      <td>4</td>\n",
       "      <td>0.508047</td>\n",
       "      <td>0.283823</td>\n",
       "      <td>00:00</td>\n",
       "    </tr>\n",
       "    <tr>\n",
       "      <td>5</td>\n",
       "      <td>0.416964</td>\n",
       "      <td>0.201994</td>\n",
       "      <td>00:00</td>\n",
       "    </tr>\n",
       "    <tr>\n",
       "      <td>6</td>\n",
       "      <td>0.340235</td>\n",
       "      <td>0.146098</td>\n",
       "      <td>00:00</td>\n",
       "    </tr>\n",
       "    <tr>\n",
       "      <td>7</td>\n",
       "      <td>0.277236</td>\n",
       "      <td>0.109585</td>\n",
       "      <td>00:00</td>\n",
       "    </tr>\n",
       "    <tr>\n",
       "      <td>8</td>\n",
       "      <td>0.226001</td>\n",
       "      <td>0.086219</td>\n",
       "      <td>00:00</td>\n",
       "    </tr>\n",
       "    <tr>\n",
       "      <td>9</td>\n",
       "      <td>0.185047</td>\n",
       "      <td>0.071640</td>\n",
       "      <td>00:00</td>\n",
       "    </tr>\n",
       "    <tr>\n",
       "      <td>10</td>\n",
       "      <td>0.152903</td>\n",
       "      <td>0.062686</td>\n",
       "      <td>00:00</td>\n",
       "    </tr>\n",
       "    <tr>\n",
       "      <td>11</td>\n",
       "      <td>0.127411</td>\n",
       "      <td>0.057081</td>\n",
       "      <td>00:00</td>\n",
       "    </tr>\n",
       "    <tr>\n",
       "      <td>12</td>\n",
       "      <td>0.107212</td>\n",
       "      <td>0.053650</td>\n",
       "      <td>00:00</td>\n",
       "    </tr>\n",
       "    <tr>\n",
       "      <td>13</td>\n",
       "      <td>0.091557</td>\n",
       "      <td>0.051878</td>\n",
       "      <td>00:00</td>\n",
       "    </tr>\n",
       "    <tr>\n",
       "      <td>14</td>\n",
       "      <td>0.078987</td>\n",
       "      <td>0.050590</td>\n",
       "      <td>00:00</td>\n",
       "    </tr>\n",
       "    <tr>\n",
       "      <td>15</td>\n",
       "      <td>0.069260</td>\n",
       "      <td>0.050028</td>\n",
       "      <td>00:00</td>\n",
       "    </tr>\n",
       "    <tr>\n",
       "      <td>16</td>\n",
       "      <td>0.061507</td>\n",
       "      <td>0.049620</td>\n",
       "      <td>00:00</td>\n",
       "    </tr>\n",
       "    <tr>\n",
       "      <td>17</td>\n",
       "      <td>0.055520</td>\n",
       "      <td>0.049438</td>\n",
       "      <td>00:00</td>\n",
       "    </tr>\n",
       "    <tr>\n",
       "      <td>18</td>\n",
       "      <td>0.050674</td>\n",
       "      <td>0.049544</td>\n",
       "      <td>00:00</td>\n",
       "    </tr>\n",
       "    <tr>\n",
       "      <td>19</td>\n",
       "      <td>0.046964</td>\n",
       "      <td>0.049867</td>\n",
       "      <td>00:00</td>\n",
       "    </tr>\n",
       "    <tr>\n",
       "      <td>20</td>\n",
       "      <td>0.043926</td>\n",
       "      <td>0.049945</td>\n",
       "      <td>00:00</td>\n",
       "    </tr>\n",
       "    <tr>\n",
       "      <td>21</td>\n",
       "      <td>0.041574</td>\n",
       "      <td>0.050093</td>\n",
       "      <td>00:00</td>\n",
       "    </tr>\n",
       "    <tr>\n",
       "      <td>22</td>\n",
       "      <td>0.039657</td>\n",
       "      <td>0.049922</td>\n",
       "      <td>00:00</td>\n",
       "    </tr>\n",
       "    <tr>\n",
       "      <td>23</td>\n",
       "      <td>0.038015</td>\n",
       "      <td>0.049928</td>\n",
       "      <td>00:00</td>\n",
       "    </tr>\n",
       "    <tr>\n",
       "      <td>24</td>\n",
       "      <td>0.036744</td>\n",
       "      <td>0.049870</td>\n",
       "      <td>00:00</td>\n",
       "    </tr>\n",
       "    <tr>\n",
       "      <td>25</td>\n",
       "      <td>0.035572</td>\n",
       "      <td>0.049686</td>\n",
       "      <td>00:00</td>\n",
       "    </tr>\n",
       "    <tr>\n",
       "      <td>26</td>\n",
       "      <td>0.034816</td>\n",
       "      <td>0.049891</td>\n",
       "      <td>00:00</td>\n",
       "    </tr>\n",
       "    <tr>\n",
       "      <td>27</td>\n",
       "      <td>0.034127</td>\n",
       "      <td>0.049548</td>\n",
       "      <td>00:00</td>\n",
       "    </tr>\n",
       "    <tr>\n",
       "      <td>28</td>\n",
       "      <td>0.033472</td>\n",
       "      <td>0.049744</td>\n",
       "      <td>00:00</td>\n",
       "    </tr>\n",
       "    <tr>\n",
       "      <td>29</td>\n",
       "      <td>0.032938</td>\n",
       "      <td>0.049897</td>\n",
       "      <td>00:00</td>\n",
       "    </tr>\n",
       "  </tbody>\n",
       "</table>"
      ],
      "text/plain": [
       "<IPython.core.display.HTML object>"
      ]
     },
     "metadata": {},
     "output_type": "display_data"
    }
   ],
   "source": [
    "lrnr.fit(30)"
   ]
  },
  {
   "cell_type": "markdown",
   "id": "7fcc17ed",
   "metadata": {},
   "source": [
    "### 4단계"
   ]
  },
  {
   "cell_type": "code",
   "execution_count": 16,
   "id": "3cde8730",
   "metadata": {},
   "outputs": [
    {
     "data": {
      "text/plain": [
       "tensor([1.0497, 1.0491, 3.8868, 1.0842, 1.0308, 3.9974, 3.9883, 3.9073, 3.8864,\n",
       "        3.9928, 1.0348, 4.0798, 1.0885, 0.9187, 4.1383, 4.0982, 4.1652, 3.8058,\n",
       "        0.9393, 4.0877, 4.0433, 1.0097, 0.8921, 0.8991, 4.1124, 0.9828, 1.0059,\n",
       "        1.0155, 0.9488, 0.9874, 3.9683, 1.0021, 1.0736, 0.9726, 0.9243, 0.9903,\n",
       "        4.0987, 3.9215, 4.0557, 0.8602, 3.8443, 4.0904, 4.0177, 0.9665, 1.0474,\n",
       "        4.0748, 1.1496, 0.9478, 4.0791, 1.1091, 4.0488, 1.0230, 4.0360, 4.0741,\n",
       "        0.7673, 3.9696, 1.0462, 3.9625, 4.1699, 1.0259, 4.0511, 3.9820, 0.9829,\n",
       "        3.9767], device='cuda:0', grad_fn=<AddBackward0>)"
      ]
     },
     "execution_count": 16,
     "metadata": {},
     "output_type": "execute_result"
    }
   ],
   "source": [
    "yhat = lrnr.model(X.to(\"cuda:0\"))\n",
    "yhat"
   ]
  },
  {
   "cell_type": "code",
   "execution_count": 17,
   "id": "e8a2eaaf",
   "metadata": {},
   "outputs": [
    {
     "data": {
      "text/plain": [
       "torch.Size([64, 2])"
      ]
     },
     "execution_count": 17,
     "metadata": {},
     "output_type": "execute_result"
    }
   ],
   "source": [
    "X.shape"
   ]
  },
  {
   "cell_type": "code",
   "execution_count": 21,
   "id": "a6c4b009",
   "metadata": {},
   "outputs": [
    {
     "data": {
      "text/plain": [
       "tensor([[60,  3]])"
      ]
     },
     "execution_count": 21,
     "metadata": {},
     "output_type": "execute_result"
    }
   ],
   "source": [
    "X[0:1]"
   ]
  },
  {
   "cell_type": "code",
   "execution_count": 19,
   "id": "488784c8",
   "metadata": {},
   "outputs": [
    {
     "data": {
      "text/plain": [
       "tensor([1.0497], device='cuda:0', grad_fn=<AddBackward0>)"
      ]
     },
     "execution_count": 19,
     "metadata": {},
     "output_type": "execute_result"
    }
   ],
   "source": [
    "lrnr.model(X[0:1].to(\"cuda:0\"))"
   ]
  },
  {
   "cell_type": "markdown",
   "id": "ace5e2a1",
   "metadata": {},
   "source": [
    "`-` 새로운 데이터 생성 후 예측"
   ]
  },
  {
   "cell_type": "code",
   "execution_count": 22,
   "id": "a19ba85c",
   "metadata": {},
   "outputs": [],
   "source": [
    "Xnew = torch.tensor([[1, 2]])"
   ]
  },
  {
   "cell_type": "code",
   "execution_count": 23,
   "id": "3e3e2c1c",
   "metadata": {},
   "outputs": [
    {
     "data": {
      "text/plain": [
       "tensor([3.9995], device='cuda:0', grad_fn=<AddBackward0>)"
      ]
     },
     "execution_count": 23,
     "metadata": {},
     "output_type": "execute_result"
    }
   ],
   "source": [
    "lrnr.model(Xnew.to(\"cuda:0\"))"
   ]
  },
  {
   "cell_type": "markdown",
   "id": "68f29566",
   "metadata": {},
   "source": [
    "## 텍스트분석"
   ]
  },
  {
   "cell_type": "markdown",
   "id": "6f1bb6b8",
   "metadata": {},
   "source": [
    "### 1단계"
   ]
  },
  {
   "cell_type": "code",
   "execution_count": 25,
   "id": "8ed00e03",
   "metadata": {},
   "outputs": [
    {
     "data": {
      "text/html": [
       "<div>\n",
       "<style scoped>\n",
       "    .dataframe tbody tr th:only-of-type {\n",
       "        vertical-align: middle;\n",
       "    }\n",
       "\n",
       "    .dataframe tbody tr th {\n",
       "        vertical-align: top;\n",
       "    }\n",
       "\n",
       "    .dataframe thead th {\n",
       "        text-align: right;\n",
       "    }\n",
       "</style>\n",
       "<table border=\"1\" class=\"dataframe\">\n",
       "  <thead>\n",
       "    <tr style=\"text-align: right;\">\n",
       "      <th></th>\n",
       "      <th>text</th>\n",
       "    </tr>\n",
       "  </thead>\n",
       "  <tbody>\n",
       "    <tr>\n",
       "      <th>0</th>\n",
       "      <td>h e l l o . h e l l o ! h e l l o ? h e l l o !! h e l l o ??</td>\n",
       "    </tr>\n",
       "    <tr>\n",
       "      <th>1</th>\n",
       "      <td>h e l l o . h e l l o ! h e l l o ? h e l l o !! h e l l o ??</td>\n",
       "    </tr>\n",
       "    <tr>\n",
       "      <th>2</th>\n",
       "      <td>h e l l o . h e l l o ! h e l l o ? h e l l o !! h e l l o ??</td>\n",
       "    </tr>\n",
       "    <tr>\n",
       "      <th>3</th>\n",
       "      <td>h e l l o . h e l l o ! h e l l o ? h e l l o !! h e l l o ??</td>\n",
       "    </tr>\n",
       "    <tr>\n",
       "      <th>4</th>\n",
       "      <td>h e l l o . h e l l o ! h e l l o ? h e l l o !! h e l l o ??</td>\n",
       "    </tr>\n",
       "    <tr>\n",
       "      <th>...</th>\n",
       "      <td>...</td>\n",
       "    </tr>\n",
       "    <tr>\n",
       "      <th>19995</th>\n",
       "      <td>h e l l o . h e l l o ! h e l l o ? h e l l o !! h e l l o ??</td>\n",
       "    </tr>\n",
       "    <tr>\n",
       "      <th>19996</th>\n",
       "      <td>h e l l o . h e l l o ! h e l l o ? h e l l o !! h e l l o ??</td>\n",
       "    </tr>\n",
       "    <tr>\n",
       "      <th>19997</th>\n",
       "      <td>h e l l o . h e l l o ! h e l l o ? h e l l o !! h e l l o ??</td>\n",
       "    </tr>\n",
       "    <tr>\n",
       "      <th>19998</th>\n",
       "      <td>h e l l o . h e l l o ! h e l l o ? h e l l o !! h e l l o ??</td>\n",
       "    </tr>\n",
       "    <tr>\n",
       "      <th>19999</th>\n",
       "      <td>h e l l o . h e l l o ! h e l l o ? h e l l o !! h e l l o ??</td>\n",
       "    </tr>\n",
       "  </tbody>\n",
       "</table>\n",
       "<p>20000 rows × 1 columns</p>\n",
       "</div>"
      ],
      "text/plain": [
       "                                                                text\n",
       "0      h e l l o . h e l l o ! h e l l o ? h e l l o !! h e l l o ??\n",
       "1      h e l l o . h e l l o ! h e l l o ? h e l l o !! h e l l o ??\n",
       "2      h e l l o . h e l l o ! h e l l o ? h e l l o !! h e l l o ??\n",
       "3      h e l l o . h e l l o ! h e l l o ? h e l l o !! h e l l o ??\n",
       "4      h e l l o . h e l l o ! h e l l o ? h e l l o !! h e l l o ??\n",
       "...                                                              ...\n",
       "19995  h e l l o . h e l l o ! h e l l o ? h e l l o !! h e l l o ??\n",
       "19996  h e l l o . h e l l o ! h e l l o ? h e l l o !! h e l l o ??\n",
       "19997  h e l l o . h e l l o ! h e l l o ? h e l l o !! h e l l o ??\n",
       "19998  h e l l o . h e l l o ! h e l l o ? h e l l o !! h e l l o ??\n",
       "19999  h e l l o . h e l l o ! h e l l o ? h e l l o !! h e l l o ??\n",
       "\n",
       "[20000 rows x 1 columns]"
      ]
     },
     "execution_count": 25,
     "metadata": {},
     "output_type": "execute_result"
    }
   ],
   "source": [
    "df = pd.DataFrame({'text' : ['h e l l o . h e l l o ! h e l l o ? h e l l o !! h e l l o ??'] * 20000})\n",
    "df"
   ]
  },
  {
   "cell_type": "code",
   "execution_count": 26,
   "id": "99e0b05b",
   "metadata": {},
   "outputs": [
    {
     "name": "stdout",
     "output_type": "stream",
     "text": [
      "Due to IPython and Windows limitation, python multiprocessing isn't available now.\n",
      "So `n_workers` has to be changed to 0 to avoid getting stuck\n"
     ]
    }
   ],
   "source": [
    "dls = TextDataLoaders.from_df(df, text_col = 'text', is_lm = True)"
   ]
  },
  {
   "cell_type": "code",
   "execution_count": 27,
   "id": "d3b4d373",
   "metadata": {},
   "outputs": [
    {
     "data": {
      "text/html": [
       "<table border=\"1\" class=\"dataframe\">\n",
       "  <thead>\n",
       "    <tr style=\"text-align: right;\">\n",
       "      <th></th>\n",
       "      <th>text</th>\n",
       "      <th>text_</th>\n",
       "    </tr>\n",
       "  </thead>\n",
       "  <tbody>\n",
       "    <tr>\n",
       "      <th>0</th>\n",
       "      <td>xxbos h e l l o . h e l l o ! h e l l o ? h e l l o ! ! h e l l o ? ? xxbos h e l l o . h e l l o ! h e l l o ? h e l l o ! ! h e l l o ? ? xxbos h e l l o</td>\n",
       "      <td>h e l l o . h e l l o ! h e l l o ? h e l l o ! ! h e l l o ? ? xxbos h e l l o . h e l l o ! h e l l o ? h e l l o ! ! h e l l o ? ? xxbos h e l l o .</td>\n",
       "    </tr>\n",
       "    <tr>\n",
       "      <th>1</th>\n",
       "      <td>? xxbos h e l l o . h e l l o ! h e l l o ? h e l l o ! ! h e l l o ? ? xxbos h e l l o . h e l l o ! h e l l o ? h e l l o ! ! h e l l o ? ? xxbos h e l l</td>\n",
       "      <td>xxbos h e l l o . h e l l o ! h e l l o ? h e l l o ! ! h e l l o ? ? xxbos h e l l o . h e l l o ! h e l l o ? h e l l o ! ! h e l l o ? ? xxbos h e l l o</td>\n",
       "    </tr>\n",
       "    <tr>\n",
       "      <th>2</th>\n",
       "      <td>? ? xxbos h e l l o . h e l l o ! h e l l o ? h e l l o ! ! h e l l o ? ? xxbos h e l l o . h e l l o ! h e l l o ? h e l l o ! ! h e l l o ? ? xxbos h e l</td>\n",
       "      <td>? xxbos h e l l o . h e l l o ! h e l l o ? h e l l o ! ! h e l l o ? ? xxbos h e l l o . h e l l o ! h e l l o ? h e l l o ! ! h e l l o ? ? xxbos h e l l</td>\n",
       "    </tr>\n",
       "    <tr>\n",
       "      <th>3</th>\n",
       "      <td>o ? ? xxbos h e l l o . h e l l o ! h e l l o ? h e l l o ! ! h e l l o ? ? xxbos h e l l o . h e l l o ! h e l l o ? h e l l o ! ! h e l l o ? ? xxbos h e</td>\n",
       "      <td>? ? xxbos h e l l o . h e l l o ! h e l l o ? h e l l o ! ! h e l l o ? ? xxbos h e l l o . h e l l o ! h e l l o ? h e l l o ! ! h e l l o ? ? xxbos h e l</td>\n",
       "    </tr>\n",
       "    <tr>\n",
       "      <th>4</th>\n",
       "      <td>l o ? ? xxbos h e l l o . h e l l o ! h e l l o ? h e l l o ! ! h e l l o ? ? xxbos h e l l o . h e l l o ! h e l l o ? h e l l o ! ! h e l l o ? ? xxbos h</td>\n",
       "      <td>o ? ? xxbos h e l l o . h e l l o ! h e l l o ? h e l l o ! ! h e l l o ? ? xxbos h e l l o . h e l l o ! h e l l o ? h e l l o ! ! h e l l o ? ? xxbos h e</td>\n",
       "    </tr>\n",
       "    <tr>\n",
       "      <th>5</th>\n",
       "      <td>l l o ? ? xxbos h e l l o . h e l l o ! h e l l o ? h e l l o ! ! h e l l o ? ? xxbos h e l l o . h e l l o ! h e l l o ? h e l l o ! ! h e l l o ? ? xxbos</td>\n",
       "      <td>l o ? ? xxbos h e l l o . h e l l o ! h e l l o ? h e l l o ! ! h e l l o ? ? xxbos h e l l o . h e l l o ! h e l l o ? h e l l o ! ! h e l l o ? ? xxbos h</td>\n",
       "    </tr>\n",
       "    <tr>\n",
       "      <th>6</th>\n",
       "      <td>e l l o ? ? xxbos h e l l o . h e l l o ! h e l l o ? h e l l o ! ! h e l l o ? ? xxbos h e l l o . h e l l o ! h e l l o ? h e l l o ! ! h e l l o ? ?</td>\n",
       "      <td>l l o ? ? xxbos h e l l o . h e l l o ! h e l l o ? h e l l o ! ! h e l l o ? ? xxbos h e l l o . h e l l o ! h e l l o ? h e l l o ! ! h e l l o ? ? xxbos</td>\n",
       "    </tr>\n",
       "    <tr>\n",
       "      <th>7</th>\n",
       "      <td>h e l l o ? ? xxbos h e l l o . h e l l o ! h e l l o ? h e l l o ! ! h e l l o ? ? xxbos h e l l o . h e l l o ! h e l l o ? h e l l o ! ! h e l l o ?</td>\n",
       "      <td>e l l o ? ? xxbos h e l l o . h e l l o ! h e l l o ? h e l l o ! ! h e l l o ? ? xxbos h e l l o . h e l l o ! h e l l o ? h e l l o ! ! h e l l o ? ?</td>\n",
       "    </tr>\n",
       "    <tr>\n",
       "      <th>8</th>\n",
       "      <td>! h e l l o ? ? xxbos h e l l o . h e l l o ! h e l l o ? h e l l o ! ! h e l l o ? ? xxbos h e l l o . h e l l o ! h e l l o ? h e l l o ! ! h e l l o</td>\n",
       "      <td>h e l l o ? ? xxbos h e l l o . h e l l o ! h e l l o ? h e l l o ! ! h e l l o ? ? xxbos h e l l o . h e l l o ! h e l l o ? h e l l o ! ! h e l l o ?</td>\n",
       "    </tr>\n",
       "  </tbody>\n",
       "</table>"
      ],
      "text/plain": [
       "<IPython.core.display.HTML object>"
      ]
     },
     "metadata": {},
     "output_type": "display_data"
    }
   ],
   "source": [
    "dls.show_batch()"
   ]
  },
  {
   "cell_type": "markdown",
   "id": "89c9153f",
   "metadata": {},
   "source": [
    "### 2단계"
   ]
  },
  {
   "cell_type": "code",
   "execution_count": 28,
   "id": "f10212ea",
   "metadata": {},
   "outputs": [
    {
     "data": {
      "text/html": [
       "\n",
       "<style>\n",
       "    /* Turns off some styling */\n",
       "    progress {\n",
       "        /* gets rid of default border in Firefox and Opera. */\n",
       "        border: none;\n",
       "        /* Needs to be in here for Safari polyfill so background images work as expected. */\n",
       "        background-size: auto;\n",
       "    }\n",
       "    progress:not([value]), progress:not([value])::-webkit-progress-bar {\n",
       "        background: repeating-linear-gradient(45deg, #7e7e7e, #7e7e7e 10px, #5c5c5c 10px, #5c5c5c 20px);\n",
       "    }\n",
       "    .progress-bar-interrupted, .progress-bar-interrupted::-webkit-progress-bar {\n",
       "        background: #F44336;\n",
       "    }\n",
       "</style>\n"
      ],
      "text/plain": [
       "<IPython.core.display.HTML object>"
      ]
     },
     "metadata": {},
     "output_type": "display_data"
    },
    {
     "data": {
      "text/html": [
       "\n",
       "    <div>\n",
       "      <progress value='105070592' class='' max='105067061' style='width:300px; height:20px; vertical-align: middle;'></progress>\n",
       "      100.00% [105070592/105067061 00:07&lt;00:00]\n",
       "    </div>\n",
       "    "
      ],
      "text/plain": [
       "<IPython.core.display.HTML object>"
      ]
     },
     "metadata": {},
     "output_type": "display_data"
    }
   ],
   "source": [
    "lrnr = language_model_learner(dls, AWD_LSTM)"
   ]
  },
  {
   "cell_type": "code",
   "execution_count": 31,
   "id": "2897d2cf",
   "metadata": {},
   "outputs": [
    {
     "data": {
      "text/html": [
       "\n",
       "<style>\n",
       "    /* Turns off some styling */\n",
       "    progress {\n",
       "        /* gets rid of default border in Firefox and Opera. */\n",
       "        border: none;\n",
       "        /* Needs to be in here for Safari polyfill so background images work as expected. */\n",
       "        background-size: auto;\n",
       "    }\n",
       "    progress:not([value]), progress:not([value])::-webkit-progress-bar {\n",
       "        background: repeating-linear-gradient(45deg, #7e7e7e, #7e7e7e 10px, #5c5c5c 10px, #5c5c5c 20px);\n",
       "    }\n",
       "    .progress-bar-interrupted, .progress-bar-interrupted::-webkit-progress-bar {\n",
       "        background: #F44336;\n",
       "    }\n",
       "</style>\n"
      ],
      "text/plain": [
       "<IPython.core.display.HTML object>"
      ]
     },
     "metadata": {},
     "output_type": "display_data"
    },
    {
     "data": {
      "text/html": [
       "<table border=\"1\" class=\"dataframe\">\n",
       "  <thead>\n",
       "    <tr style=\"text-align: left;\">\n",
       "      <th>epoch</th>\n",
       "      <th>train_loss</th>\n",
       "      <th>valid_loss</th>\n",
       "      <th>time</th>\n",
       "    </tr>\n",
       "  </thead>\n",
       "  <tbody>\n",
       "    <tr>\n",
       "      <td>0</td>\n",
       "      <td>0.953486</td>\n",
       "      <td>0.372985</td>\n",
       "      <td>00:13</td>\n",
       "    </tr>\n",
       "    <tr>\n",
       "      <td>1</td>\n",
       "      <td>0.617590</td>\n",
       "      <td>0.249084</td>\n",
       "      <td>00:13</td>\n",
       "    </tr>\n",
       "    <tr>\n",
       "      <td>2</td>\n",
       "      <td>0.475271</td>\n",
       "      <td>0.214262</td>\n",
       "      <td>00:13</td>\n",
       "    </tr>\n",
       "    <tr>\n",
       "      <td>3</td>\n",
       "      <td>0.382338</td>\n",
       "      <td>0.186492</td>\n",
       "      <td>00:13</td>\n",
       "    </tr>\n",
       "    <tr>\n",
       "      <td>4</td>\n",
       "      <td>0.365782</td>\n",
       "      <td>0.170414</td>\n",
       "      <td>00:13</td>\n",
       "    </tr>\n",
       "    <tr>\n",
       "      <td>5</td>\n",
       "      <td>0.324649</td>\n",
       "      <td>0.150192</td>\n",
       "      <td>00:13</td>\n",
       "    </tr>\n",
       "    <tr>\n",
       "      <td>6</td>\n",
       "      <td>0.322575</td>\n",
       "      <td>0.135068</td>\n",
       "      <td>00:13</td>\n",
       "    </tr>\n",
       "    <tr>\n",
       "      <td>7</td>\n",
       "      <td>0.297149</td>\n",
       "      <td>0.119661</td>\n",
       "      <td>00:13</td>\n",
       "    </tr>\n",
       "    <tr>\n",
       "      <td>8</td>\n",
       "      <td>0.268460</td>\n",
       "      <td>0.103948</td>\n",
       "      <td>00:13</td>\n",
       "    </tr>\n",
       "    <tr>\n",
       "      <td>9</td>\n",
       "      <td>0.236526</td>\n",
       "      <td>0.085444</td>\n",
       "      <td>00:13</td>\n",
       "    </tr>\n",
       "    <tr>\n",
       "      <td>10</td>\n",
       "      <td>0.234326</td>\n",
       "      <td>0.071486</td>\n",
       "      <td>00:13</td>\n",
       "    </tr>\n",
       "    <tr>\n",
       "      <td>11</td>\n",
       "      <td>0.202645</td>\n",
       "      <td>0.055195</td>\n",
       "      <td>00:13</td>\n",
       "    </tr>\n",
       "    <tr>\n",
       "      <td>12</td>\n",
       "      <td>0.180042</td>\n",
       "      <td>0.041449</td>\n",
       "      <td>00:13</td>\n",
       "    </tr>\n",
       "    <tr>\n",
       "      <td>13</td>\n",
       "      <td>0.181329</td>\n",
       "      <td>0.032187</td>\n",
       "      <td>00:13</td>\n",
       "    </tr>\n",
       "    <tr>\n",
       "      <td>14</td>\n",
       "      <td>0.160750</td>\n",
       "      <td>0.025342</td>\n",
       "      <td>00:13</td>\n",
       "    </tr>\n",
       "    <tr>\n",
       "      <td>15</td>\n",
       "      <td>0.157359</td>\n",
       "      <td>0.021769</td>\n",
       "      <td>00:13</td>\n",
       "    </tr>\n",
       "    <tr>\n",
       "      <td>16</td>\n",
       "      <td>0.141533</td>\n",
       "      <td>0.017457</td>\n",
       "      <td>00:13</td>\n",
       "    </tr>\n",
       "    <tr>\n",
       "      <td>17</td>\n",
       "      <td>0.133610</td>\n",
       "      <td>0.015023</td>\n",
       "      <td>00:13</td>\n",
       "    </tr>\n",
       "    <tr>\n",
       "      <td>18</td>\n",
       "      <td>0.128645</td>\n",
       "      <td>0.012770</td>\n",
       "      <td>00:13</td>\n",
       "    </tr>\n",
       "    <tr>\n",
       "      <td>19</td>\n",
       "      <td>0.100870</td>\n",
       "      <td>0.011586</td>\n",
       "      <td>00:13</td>\n",
       "    </tr>\n",
       "  </tbody>\n",
       "</table>"
      ],
      "text/plain": [
       "<IPython.core.display.HTML object>"
      ]
     },
     "metadata": {},
     "output_type": "display_data"
    }
   ],
   "source": [
    "lrnr.fit(20)"
   ]
  },
  {
   "cell_type": "code",
   "execution_count": 33,
   "id": "1db3c2f8",
   "metadata": {},
   "outputs": [
    {
     "data": {
      "text/html": [
       "\n",
       "<style>\n",
       "    /* Turns off some styling */\n",
       "    progress {\n",
       "        /* gets rid of default border in Firefox and Opera. */\n",
       "        border: none;\n",
       "        /* Needs to be in here for Safari polyfill so background images work as expected. */\n",
       "        background-size: auto;\n",
       "    }\n",
       "    progress:not([value]), progress:not([value])::-webkit-progress-bar {\n",
       "        background: repeating-linear-gradient(45deg, #7e7e7e, #7e7e7e 10px, #5c5c5c 10px, #5c5c5c 20px);\n",
       "    }\n",
       "    .progress-bar-interrupted, .progress-bar-interrupted::-webkit-progress-bar {\n",
       "        background: #F44336;\n",
       "    }\n",
       "</style>\n"
      ],
      "text/plain": [
       "<IPython.core.display.HTML object>"
      ]
     },
     "metadata": {},
     "output_type": "display_data"
    },
    {
     "data": {
      "text/html": [],
      "text/plain": [
       "<IPython.core.display.HTML object>"
      ]
     },
     "metadata": {},
     "output_type": "display_data"
    },
    {
     "data": {
      "text/plain": [
       "'h e l l o . h e l l o ! h e l l o ? ? h e l l o . h e l l o'"
      ]
     },
     "execution_count": 33,
     "metadata": {},
     "output_type": "execute_result"
    }
   ],
   "source": [
    "lrnr.predict('h ', n_words = 30)"
   ]
  },
  {
   "cell_type": "markdown",
   "id": "b9168c09",
   "metadata": {},
   "source": [
    "`-` IAB 딥러닝 수업 자료를 기반으로 공부한 내용입니다."
   ]
  }
 ],
 "metadata": {
  "kernelspec": {
   "display_name": "Python 3 (ipykernel)",
   "language": "python",
   "name": "python3"
  },
  "language_info": {
   "codemirror_mode": {
    "name": "ipython",
    "version": 3
   },
   "file_extension": ".py",
   "mimetype": "text/x-python",
   "name": "python",
   "nbconvert_exporter": "python",
   "pygments_lexer": "ipython3",
   "version": "3.9.12"
  }
 },
 "nbformat": 4,
 "nbformat_minor": 5
}
