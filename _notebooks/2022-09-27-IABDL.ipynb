{
 "cells": [
  {
   "cell_type": "markdown",
   "id": "8b7a2ef4",
   "metadata": {},
   "source": [
    "# IAB딥러닝 9월 27일\n",
    "> 딥러닝의 기초 - 회귀분석(3) --> step4의 다른표현(옵티마이저), 로지스틱(1)\n",
    "\n",
    "- toc:true\n",
    "- branch: master\n",
    "- badges: true\n",
    "- comments: true\n",
    "- author: 김준형"
   ]
  },
  {
   "cell_type": "markdown",
   "id": "a72bb585",
   "metadata": {},
   "source": [
    "# Import"
   ]
  },
  {
   "cell_type": "code",
   "execution_count": 1,
   "id": "5416facb",
   "metadata": {},
   "outputs": [],
   "source": [
    "import torch\n",
    "import pandas as pd\n",
    "import numpy as np\n",
    "import matplotlib.pyplot as plt"
   ]
  },
  {
   "cell_type": "code",
   "execution_count": 2,
   "id": "1dac516e",
   "metadata": {},
   "outputs": [],
   "source": [
    "import os\n",
    "os.environ['KMP_DUPLICATE_LIB_OK'] = 'True'\n",
    "# plt.plot 오류 발생 시 사용"
   ]
  },
  {
   "cell_type": "markdown",
   "id": "7c946a2d",
   "metadata": {},
   "source": [
    "## numpy와 torch는 비슷하다\n",
    "`-` torch.tensor() = np.array()처럼 생각해도 무방"
   ]
  },
  {
   "cell_type": "code",
   "execution_count": 3,
   "id": "1af49216",
   "metadata": {},
   "outputs": [
    {
     "data": {
      "text/plain": [
       "(array([1, 2, 3]), tensor([1, 2, 3]))"
      ]
     },
     "execution_count": 3,
     "metadata": {},
     "output_type": "execute_result"
    }
   ],
   "source": [
    "np.array([1, 2, 3]), torch.tensor([1, 2, 3])"
   ]
  },
  {
   "cell_type": "markdown",
   "id": "297d5d0c",
   "metadata": {},
   "source": [
    "`-` 소수점 정밀도 차이가 조금 있음"
   ]
  },
  {
   "cell_type": "code",
   "execution_count": 4,
   "id": "6a1536fc",
   "metadata": {},
   "outputs": [
    {
     "data": {
      "text/plain": [
       "(array([3.12345679]), tensor([3.1235]))"
      ]
     },
     "execution_count": 4,
     "metadata": {},
     "output_type": "execute_result"
    }
   ],
   "source": [
    "np.array([3.123456789]), torch.tensor([3.123456789])"
   ]
  },
  {
   "cell_type": "markdown",
   "id": "2dc2c18d",
   "metadata": {},
   "source": [
    "`-` 기본적인 문법은 numpy 대신 torch를 사용해도 괜찮음 // 완전 같지는 않다"
   ]
  },
  {
   "cell_type": "code",
   "execution_count": 5,
   "id": "fc151a10",
   "metadata": {},
   "outputs": [
    {
     "data": {
      "text/plain": [
       "(array([0, 1, 2, 3, 4, 5, 6, 7, 8, 9]), tensor([0, 1, 2, 3, 4, 5, 6, 7, 8, 9]))"
      ]
     },
     "execution_count": 5,
     "metadata": {},
     "output_type": "execute_result"
    }
   ],
   "source": [
    "np.arange(10), torch.arange(10)"
   ]
  },
  {
   "cell_type": "code",
   "execution_count": 6,
   "id": "300088b2",
   "metadata": {},
   "outputs": [
    {
     "data": {
      "text/plain": [
       "(array([0.        , 0.11111111, 0.22222222, 0.33333333, 0.44444444,\n",
       "        0.55555556, 0.66666667, 0.77777778, 0.88888889, 1.        ]),\n",
       " tensor([0.0000, 0.1111, 0.2222, 0.3333, 0.4444, 0.5556, 0.6667, 0.7778, 0.8889,\n",
       "         1.0000]))"
      ]
     },
     "execution_count": 6,
     "metadata": {},
     "output_type": "execute_result"
    }
   ],
   "source": [
    "np.linspace(0, 1, 10), torch.linspace(0, 1, 10)"
   ]
  },
  {
   "cell_type": "code",
   "execution_count": 7,
   "id": "f3c1f639",
   "metadata": {},
   "outputs": [
    {
     "data": {
      "text/plain": [
       "(array([-0.0394819 , -1.28231185,  0.52968028, -0.46039897,  0.86816715,\n",
       "         0.34182877, -0.79434121, -0.45743091, -0.64380063,  0.31566267]),\n",
       " tensor([ 1.5308,  0.3064,  2.1564, -0.6753, -0.5874, -0.1225, -0.7329, -0.8632,\n",
       "          0.7037,  0.7644]))"
      ]
     },
     "execution_count": 7,
     "metadata": {},
     "output_type": "execute_result"
    }
   ],
   "source": [
    "np.random.randn(10), torch.randn(10)"
   ]
  },
  {
   "cell_type": "markdown",
   "id": "3e4ca23a",
   "metadata": {},
   "source": [
    "## length $n$ vector, $n \\times 1$ col-vector, $1 \\times n$ row-vector "
   ]
  },
  {
   "cell_type": "markdown",
   "id": "5b8616be",
   "metadata": {},
   "source": [
    "`-` 길이가 3인 벡터 선언방법"
   ]
  },
  {
   "cell_type": "code",
   "execution_count": 9,
   "id": "344ea2d6",
   "metadata": {},
   "outputs": [
    {
     "data": {
      "text/plain": [
       "torch.Size([3])"
      ]
     },
     "execution_count": 9,
     "metadata": {},
     "output_type": "execute_result"
    }
   ],
   "source": [
    "a = torch.tensor([1, 2, 3])\n",
    "a.shape"
   ]
  },
  {
   "cell_type": "markdown",
   "id": "eabb9b25",
   "metadata": {},
   "source": [
    "`-` 3x1 col-vec 선언방법"
   ]
  },
  {
   "cell_type": "markdown",
   "id": "0472632a",
   "metadata": {},
   "source": [
    "(방법1)"
   ]
  },
  {
   "cell_type": "code",
   "execution_count": 10,
   "id": "d3011d86",
   "metadata": {},
   "outputs": [
    {
     "data": {
      "text/plain": [
       "torch.Size([3, 1])"
      ]
     },
     "execution_count": 10,
     "metadata": {},
     "output_type": "execute_result"
    }
   ],
   "source": [
    "a = torch.tensor([[1], [2], [3]])\n",
    "a.shape"
   ]
  },
  {
   "cell_type": "markdown",
   "id": "d6be3940",
   "metadata": {},
   "source": [
    "(방법2)"
   ]
  },
  {
   "cell_type": "code",
   "execution_count": 11,
   "id": "96d8cc69",
   "metadata": {},
   "outputs": [
    {
     "data": {
      "text/plain": [
       "torch.Size([3, 1])"
      ]
     },
     "execution_count": 11,
     "metadata": {},
     "output_type": "execute_result"
    }
   ],
   "source": [
    "a = torch.tensor([1, 2, 3]).reshape(3, 1)\n",
    "a.shape"
   ]
  },
  {
   "cell_type": "markdown",
   "id": "7227cf5f",
   "metadata": {},
   "source": [
    "`-` 1x3 row-vec 선언방법"
   ]
  },
  {
   "cell_type": "markdown",
   "id": "cdd2e4c8",
   "metadata": {},
   "source": [
    "(방법1)"
   ]
  },
  {
   "cell_type": "code",
   "execution_count": 13,
   "id": "8b438c25",
   "metadata": {},
   "outputs": [
    {
     "data": {
      "text/plain": [
       "torch.Size([1, 3])"
      ]
     },
     "execution_count": 13,
     "metadata": {},
     "output_type": "execute_result"
    }
   ],
   "source": [
    "a = torch.tensor([[1, 2, 3]])\n",
    "a.shape"
   ]
  },
  {
   "cell_type": "markdown",
   "id": "1cdfabed",
   "metadata": {},
   "source": [
    "(방법2)"
   ]
  },
  {
   "cell_type": "code",
   "execution_count": 14,
   "id": "edfba7e0",
   "metadata": {},
   "outputs": [
    {
     "data": {
      "text/plain": [
       "torch.Size([1, 3])"
      ]
     },
     "execution_count": 14,
     "metadata": {},
     "output_type": "execute_result"
    }
   ],
   "source": [
    "a = torch.tensor([1, 2, 3]).reshape(1, 3)\n",
    "a.shape"
   ]
  },
  {
   "cell_type": "markdown",
   "id": "b42a96f0",
   "metadata": {},
   "source": [
    "## torch의 dtype"
   ]
  },
  {
   "cell_type": "markdown",
   "id": "ab903ab3",
   "metadata": {},
   "source": [
    "`-` 기본적으로 torch는 소수점으로 저장되면 dtype = torch.float32로 설정"
   ]
  },
  {
   "cell_type": "code",
   "execution_count": 15,
   "id": "7e70170a",
   "metadata": {},
   "outputs": [
    {
     "data": {
      "text/plain": [
       "tensor([1.2300, 2.3400])"
      ]
     },
     "execution_count": 15,
     "metadata": {},
     "output_type": "execute_result"
    }
   ],
   "source": [
    "tsr = torch.tensor([1.23, 2.34])\n",
    "tsr"
   ]
  },
  {
   "cell_type": "code",
   "execution_count": 16,
   "id": "1a74a2f9",
   "metadata": {},
   "outputs": [
    {
     "data": {
      "text/plain": [
       "torch.float32"
      ]
     },
     "execution_count": 16,
     "metadata": {},
     "output_type": "execute_result"
    }
   ],
   "source": [
    "tsr.dtype"
   ]
  },
  {
   "cell_type": "markdown",
   "id": "c9b27cee",
   "metadata": {},
   "source": [
    "`-` 정수로 선언하더라고 dtype을 torch.float32로 설정하는게 유리함"
   ]
  },
  {
   "cell_type": "code",
   "execution_count": 17,
   "id": "b9e99c51",
   "metadata": {},
   "outputs": [
    {
     "data": {
      "text/plain": [
       "tensor([1, 2])"
      ]
     },
     "execution_count": 17,
     "metadata": {},
     "output_type": "execute_result"
    }
   ],
   "source": [
    "tsr = torch.tensor([1, 2])\n",
    "tsr"
   ]
  },
  {
   "cell_type": "code",
   "execution_count": 18,
   "id": "8ddf6d08",
   "metadata": {},
   "outputs": [
    {
     "data": {
      "text/plain": [
       "torch.int64"
      ]
     },
     "execution_count": 18,
     "metadata": {},
     "output_type": "execute_result"
    }
   ],
   "source": [
    "tsr.dtype"
   ]
  },
  {
   "cell_type": "markdown",
   "id": "13677685",
   "metadata": {},
   "source": [
    "(좋은예시 1)"
   ]
  },
  {
   "cell_type": "code",
   "execution_count": 19,
   "id": "b9a218e6",
   "metadata": {},
   "outputs": [
    {
     "data": {
      "text/plain": [
       "tensor([1., 2.])"
      ]
     },
     "execution_count": 19,
     "metadata": {},
     "output_type": "execute_result"
    }
   ],
   "source": [
    "tsr = torch.tensor([1, 2], dtype = torch.float32)\n",
    "tsr"
   ]
  },
  {
   "cell_type": "code",
   "execution_count": 20,
   "id": "e8330986",
   "metadata": {},
   "outputs": [
    {
     "data": {
      "text/plain": [
       "torch.float32"
      ]
     },
     "execution_count": 20,
     "metadata": {},
     "output_type": "execute_result"
    }
   ],
   "source": [
    "tsr.dtype"
   ]
  },
  {
   "cell_type": "markdown",
   "id": "6344018c",
   "metadata": {},
   "source": [
    "(좋은예시 2)"
   ]
  },
  {
   "cell_type": "code",
   "execution_count": 21,
   "id": "1027a956",
   "metadata": {},
   "outputs": [
    {
     "data": {
      "text/plain": [
       "tensor([1., 2.])"
      ]
     },
     "execution_count": 21,
     "metadata": {},
     "output_type": "execute_result"
    }
   ],
   "source": [
    "tsr = torch.tensor([1, 2.0])\n",
    "tsr"
   ]
  },
  {
   "cell_type": "code",
   "execution_count": 22,
   "id": "bc57fafe",
   "metadata": {},
   "outputs": [
    {
     "data": {
      "text/plain": [
       "torch.float32"
      ]
     },
     "execution_count": 22,
     "metadata": {},
     "output_type": "execute_result"
    }
   ],
   "source": [
    "tsr.dtype"
   ]
  },
  {
   "cell_type": "markdown",
   "id": "f48ff3fe",
   "metadata": {},
   "source": [
    "(int로 선언 후 float으로 변경 가능)"
   ]
  },
  {
   "cell_type": "code",
   "execution_count": 23,
   "id": "078e330b",
   "metadata": {},
   "outputs": [
    {
     "data": {
      "text/plain": [
       "tensor([1., 2.])"
      ]
     },
     "execution_count": 23,
     "metadata": {},
     "output_type": "execute_result"
    }
   ],
   "source": [
    "tsr = torch.tensor([1, 2]).float()\n",
    "tsr"
   ]
  },
  {
   "cell_type": "code",
   "execution_count": 24,
   "id": "24020aca",
   "metadata": {},
   "outputs": [
    {
     "data": {
      "text/plain": [
       "torch.float32"
      ]
     },
     "execution_count": 24,
     "metadata": {},
     "output_type": "execute_result"
    }
   ],
   "source": [
    "tsr.dtype"
   ]
  },
  {
   "cell_type": "markdown",
   "id": "b470d5ad",
   "metadata": {},
   "source": [
    "## Shape of Vector"
   ]
  },
  {
   "cell_type": "markdown",
   "id": "c0186fb5",
   "metadata": {},
   "source": [
    "`-` 행렬곱셈에 대한 shape 조심"
   ]
  },
  {
   "cell_type": "code",
   "execution_count": 25,
   "id": "bd9f2fe9",
   "metadata": {},
   "outputs": [],
   "source": [
    "A = torch.tensor([[2.00, 0.00], [0.00, 3.00]])\n",
    "b1 = torch.tensor([[-1.0, -5.0]])\n",
    "b2 = torch.tensor([[-1.0], [-5.0]])\n",
    "b3 = torch.tensor([-1.0, -5.0])"
   ]
  },
  {
   "cell_type": "code",
   "execution_count": 26,
   "id": "6ccdc6af",
   "metadata": {},
   "outputs": [
    {
     "data": {
      "text/plain": [
       "(torch.Size([2, 2]), torch.Size([1, 2]), torch.Size([2, 1]), torch.Size([2]))"
      ]
     },
     "execution_count": 26,
     "metadata": {},
     "output_type": "execute_result"
    }
   ],
   "source": [
    "A.shape, b1.shape, b2.shape, b3.shape"
   ]
  },
  {
   "cell_type": "markdown",
   "id": "cdf02bc1",
   "metadata": {},
   "source": [
    "`-` A @ b1은 계산 불가능 / b1 @ A는 계산 가능"
   ]
  },
  {
   "cell_type": "code",
   "execution_count": 27,
   "id": "a681e071",
   "metadata": {},
   "outputs": [
    {
     "ename": "RuntimeError",
     "evalue": "mat1 and mat2 shapes cannot be multiplied (2x2 and 1x2)",
     "output_type": "error",
     "traceback": [
      "\u001b[1;31m---------------------------------------------------------------------------\u001b[0m",
      "\u001b[1;31mRuntimeError\u001b[0m                              Traceback (most recent call last)",
      "Input \u001b[1;32mIn [27]\u001b[0m, in \u001b[0;36m<cell line: 1>\u001b[1;34m()\u001b[0m\n\u001b[1;32m----> 1\u001b[0m \u001b[43mA\u001b[49m\u001b[43m \u001b[49m\u001b[38;5;241;43m@\u001b[39;49m\u001b[43m \u001b[49m\u001b[43mb1\u001b[49m\n",
      "\u001b[1;31mRuntimeError\u001b[0m: mat1 and mat2 shapes cannot be multiplied (2x2 and 1x2)"
     ]
    }
   ],
   "source": [
    "A @ b1"
   ]
  },
  {
   "cell_type": "code",
   "execution_count": 28,
   "id": "1867d9c3",
   "metadata": {},
   "outputs": [
    {
     "data": {
      "text/plain": [
       "tensor([[ -2., -15.]])"
      ]
     },
     "execution_count": 28,
     "metadata": {},
     "output_type": "execute_result"
    }
   ],
   "source": [
    "b1 @ A"
   ]
  },
  {
   "cell_type": "markdown",
   "id": "ab94ac36",
   "metadata": {},
   "source": [
    "`-` A @ b2는 계산 가능 / b2 @ A는 계산 불가능"
   ]
  },
  {
   "cell_type": "code",
   "execution_count": 29,
   "id": "49e90f98",
   "metadata": {},
   "outputs": [
    {
     "data": {
      "text/plain": [
       "tensor([[ -2.],\n",
       "        [-15.]])"
      ]
     },
     "execution_count": 29,
     "metadata": {},
     "output_type": "execute_result"
    }
   ],
   "source": [
    "A @ b2"
   ]
  },
  {
   "cell_type": "code",
   "execution_count": 30,
   "id": "0f5800f3",
   "metadata": {},
   "outputs": [
    {
     "ename": "RuntimeError",
     "evalue": "mat1 and mat2 shapes cannot be multiplied (2x1 and 2x2)",
     "output_type": "error",
     "traceback": [
      "\u001b[1;31m---------------------------------------------------------------------------\u001b[0m",
      "\u001b[1;31mRuntimeError\u001b[0m                              Traceback (most recent call last)",
      "Input \u001b[1;32mIn [30]\u001b[0m, in \u001b[0;36m<cell line: 1>\u001b[1;34m()\u001b[0m\n\u001b[1;32m----> 1\u001b[0m \u001b[43mb2\u001b[49m\u001b[43m \u001b[49m\u001b[38;5;241;43m@\u001b[39;49m\u001b[43m \u001b[49m\u001b[43mA\u001b[49m\n",
      "\u001b[1;31mRuntimeError\u001b[0m: mat1 and mat2 shapes cannot be multiplied (2x1 and 2x2)"
     ]
    }
   ],
   "source": [
    "b2 @ A"
   ]
  },
  {
   "cell_type": "markdown",
   "id": "2ba6f53d",
   "metadata": {},
   "source": [
    "`-` A @ b3는 계산 가능 / b3 @ A는 계산 가능"
   ]
  },
  {
   "cell_type": "code",
   "execution_count": 31,
   "id": "c692afab",
   "metadata": {},
   "outputs": [
    {
     "data": {
      "text/plain": [
       "tensor([ -2., -15.])"
      ]
     },
     "execution_count": 31,
     "metadata": {},
     "output_type": "execute_result"
    }
   ],
   "source": [
    "A @ b3"
   ]
  },
  {
   "cell_type": "code",
   "execution_count": 32,
   "id": "b8624ce1",
   "metadata": {},
   "outputs": [
    {
     "data": {
      "text/plain": [
       "torch.Size([2])"
      ]
     },
     "execution_count": 32,
     "metadata": {},
     "output_type": "execute_result"
    }
   ],
   "source": [
    "(A @ b3).shape"
   ]
  },
  {
   "cell_type": "code",
   "execution_count": 33,
   "id": "db79bb96",
   "metadata": {},
   "outputs": [
    {
     "data": {
      "text/plain": [
       "tensor([ -2., -15.])"
      ]
     },
     "execution_count": 33,
     "metadata": {},
     "output_type": "execute_result"
    }
   ],
   "source": [
    "b3 @ A"
   ]
  },
  {
   "cell_type": "code",
   "execution_count": 34,
   "id": "787b1a56",
   "metadata": {},
   "outputs": [
    {
     "data": {
      "text/plain": [
       "torch.Size([2])"
      ]
     },
     "execution_count": 34,
     "metadata": {},
     "output_type": "execute_result"
    }
   ],
   "source": [
    "(b3 @ A).shape"
   ]
  },
  {
   "cell_type": "markdown",
   "id": "30fcfb45",
   "metadata": {},
   "source": [
    "`-` 브로드캐스팅"
   ]
  },
  {
   "cell_type": "code",
   "execution_count": 35,
   "id": "57ed961c",
   "metadata": {},
   "outputs": [
    {
     "data": {
      "text/plain": [
       "tensor([0, 1, 2])"
      ]
     },
     "execution_count": 35,
     "metadata": {},
     "output_type": "execute_result"
    }
   ],
   "source": [
    "a = torch.tensor([1, 2, 3])\n",
    "a - 1"
   ]
  },
  {
   "cell_type": "code",
   "execution_count": 36,
   "id": "45971bc1",
   "metadata": {},
   "outputs": [
    {
     "data": {
      "text/plain": [
       "tensor([[0],\n",
       "        [1],\n",
       "        [2]])"
      ]
     },
     "execution_count": 36,
     "metadata": {},
     "output_type": "execute_result"
    }
   ],
   "source": [
    "b = torch.tensor([[1], [2], [3]])\n",
    "b - 1"
   ]
  },
  {
   "cell_type": "code",
   "execution_count": 37,
   "id": "15246b4d",
   "metadata": {},
   "outputs": [
    {
     "data": {
      "text/plain": [
       "tensor([[ 0,  1,  2],\n",
       "        [-1,  0,  1],\n",
       "        [-2, -1,  0]])"
      ]
     },
     "execution_count": 37,
     "metadata": {},
     "output_type": "execute_result"
    }
   ],
   "source": [
    "a - b"
   ]
  },
  {
   "cell_type": "markdown",
   "id": "ca2c12fd",
   "metadata": {},
   "source": [
    "# Step 1의 다른버전 (복습 + $\\alpha$)"
   ]
  },
  {
   "cell_type": "markdown",
   "id": "dc4d7f8e",
   "metadata": {},
   "source": [
    "## read data"
   ]
  },
  {
   "cell_type": "code",
   "execution_count": 38,
   "id": "d5342cd8",
   "metadata": {},
   "outputs": [
    {
     "data": {
      "text/html": [
       "<div>\n",
       "<style scoped>\n",
       "    .dataframe tbody tr th:only-of-type {\n",
       "        vertical-align: middle;\n",
       "    }\n",
       "\n",
       "    .dataframe tbody tr th {\n",
       "        vertical-align: top;\n",
       "    }\n",
       "\n",
       "    .dataframe thead th {\n",
       "        text-align: right;\n",
       "    }\n",
       "</style>\n",
       "<table border=\"1\" class=\"dataframe\">\n",
       "  <thead>\n",
       "    <tr style=\"text-align: right;\">\n",
       "      <th></th>\n",
       "      <th>x</th>\n",
       "      <th>y</th>\n",
       "    </tr>\n",
       "  </thead>\n",
       "  <tbody>\n",
       "    <tr>\n",
       "      <th>0</th>\n",
       "      <td>-2.482113</td>\n",
       "      <td>-8.542024</td>\n",
       "    </tr>\n",
       "    <tr>\n",
       "      <th>1</th>\n",
       "      <td>-2.362146</td>\n",
       "      <td>-6.576713</td>\n",
       "    </tr>\n",
       "    <tr>\n",
       "      <th>2</th>\n",
       "      <td>-1.997295</td>\n",
       "      <td>-5.949576</td>\n",
       "    </tr>\n",
       "    <tr>\n",
       "      <th>3</th>\n",
       "      <td>-1.623936</td>\n",
       "      <td>-4.479364</td>\n",
       "    </tr>\n",
       "    <tr>\n",
       "      <th>4</th>\n",
       "      <td>-1.479192</td>\n",
       "      <td>-4.251570</td>\n",
       "    </tr>\n",
       "    <tr>\n",
       "      <th>...</th>\n",
       "      <td>...</td>\n",
       "      <td>...</td>\n",
       "    </tr>\n",
       "    <tr>\n",
       "      <th>95</th>\n",
       "      <td>2.244400</td>\n",
       "      <td>10.325987</td>\n",
       "    </tr>\n",
       "    <tr>\n",
       "      <th>96</th>\n",
       "      <td>2.393501</td>\n",
       "      <td>12.266493</td>\n",
       "    </tr>\n",
       "    <tr>\n",
       "      <th>97</th>\n",
       "      <td>2.605604</td>\n",
       "      <td>13.098280</td>\n",
       "    </tr>\n",
       "    <tr>\n",
       "      <th>98</th>\n",
       "      <td>2.605658</td>\n",
       "      <td>12.546793</td>\n",
       "    </tr>\n",
       "    <tr>\n",
       "      <th>99</th>\n",
       "      <td>2.663240</td>\n",
       "      <td>13.834002</td>\n",
       "    </tr>\n",
       "  </tbody>\n",
       "</table>\n",
       "<p>100 rows × 2 columns</p>\n",
       "</div>"
      ],
      "text/plain": [
       "           x          y\n",
       "0  -2.482113  -8.542024\n",
       "1  -2.362146  -6.576713\n",
       "2  -1.997295  -5.949576\n",
       "3  -1.623936  -4.479364\n",
       "4  -1.479192  -4.251570\n",
       "..       ...        ...\n",
       "95  2.244400  10.325987\n",
       "96  2.393501  12.266493\n",
       "97  2.605604  13.098280\n",
       "98  2.605658  12.546793\n",
       "99  2.663240  13.834002\n",
       "\n",
       "[100 rows x 2 columns]"
      ]
     },
     "execution_count": 38,
     "metadata": {},
     "output_type": "execute_result"
    }
   ],
   "source": [
    "df = pd.read_csv(\"https://raw.githubusercontent.com/guebin/DL2022/master/_notebooks/2022-09-22-regression.csv\") \n",
    "df"
   ]
  },
  {
   "cell_type": "code",
   "execution_count": 39,
   "id": "210ff02c",
   "metadata": {},
   "outputs": [],
   "source": [
    "x = torch.tensor(df.x).float().reshape(100, 1)\n",
    "y = torch.tensor(df.y).float().reshape(100, 1)\n",
    "_1 = torch.ones([100, 1])\n",
    "X = torch.concat([_1, x], axis = 1)"
   ]
  },
  {
   "cell_type": "code",
   "execution_count": 40,
   "id": "77b643f8",
   "metadata": {},
   "outputs": [
    {
     "data": {
      "text/plain": [
       "[<matplotlib.lines.Line2D at 0x223f4ca3460>]"
      ]
     },
     "execution_count": 40,
     "metadata": {},
     "output_type": "execute_result"
    },
    {
     "data": {
      "image/png": "[encoded data removed]",
      "text/plain": [
       "<Figure size 432x288 with 1 Axes>"
      ]
     },
     "metadata": {
      "needs_background": "light"
     },
     "output_type": "display_data"
    }
   ],
   "source": [
    "plt.plot(x, y, 'o')"
   ]
  },
  {
   "cell_type": "markdown",
   "id": "5285ec12",
   "metadata": {},
   "source": [
    "## ver1 : net = torch.nn.Linear(1, 1, bias = True)"
   ]
  },
  {
   "cell_type": "markdown",
   "id": "12d3173a",
   "metadata": {},
   "source": [
    "`-` 준비"
   ]
  },
  {
   "cell_type": "code",
   "execution_count": 41,
   "id": "8b89586f",
   "metadata": {},
   "outputs": [
    {
     "data": {
      "text/plain": [
       "(Parameter containing:\n",
       " tensor([[10.]], requires_grad=True),\n",
       " Parameter containing:\n",
       " tensor([-5.], requires_grad=True))"
      ]
     },
     "execution_count": 41,
     "metadata": {},
     "output_type": "execute_result"
    }
   ],
   "source": [
    "net = torch.nn.Linear(1, 1, bias = True)\n",
    "net.weight.data = torch.tensor([[10.0]])\n",
    "net.bias.data = torch.tensor([-5.0])\n",
    "net.weight, net.bias"
   ]
  },
  {
   "cell_type": "markdown",
   "id": "cde9d84b",
   "metadata": {},
   "source": [
    "`-` step 1"
   ]
  },
  {
   "cell_type": "code",
   "execution_count": 42,
   "id": "301e01a8",
   "metadata": {},
   "outputs": [],
   "source": [
    "yhat = net(x)"
   ]
  },
  {
   "cell_type": "code",
   "execution_count": 43,
   "id": "4ab0def0",
   "metadata": {},
   "outputs": [
    {
     "data": {
      "text/plain": [
       "[<matplotlib.lines.Line2D at 0x223f7afb430>]"
      ]
     },
     "execution_count": 43,
     "metadata": {},
     "output_type": "execute_result"
    },
    {
     "data": {
      "image/png": "[encoded data removed]",
      "text/plain": [
       "<Figure size 432x288 with 1 Axes>"
      ]
     },
     "metadata": {
      "needs_background": "light"
     },
     "output_type": "display_data"
    }
   ],
   "source": [
    "plt.plot(x, y, 'o')\n",
    "plt.plot(x, net(x).data, '--')"
   ]
  },
  {
   "cell_type": "markdown",
   "id": "dd0d9676",
   "metadata": {},
   "source": [
    "`-` step 2"
   ]
  },
  {
   "cell_type": "code",
   "execution_count": 44,
   "id": "7e288910",
   "metadata": {},
   "outputs": [],
   "source": [
    "loss = torch.mean((y - yhat) ** 2)"
   ]
  },
  {
   "cell_type": "markdown",
   "id": "f518c3a3",
   "metadata": {},
   "source": [
    "`-` step 3"
   ]
  },
  {
   "cell_type": "markdown",
   "id": "c6d069dd",
   "metadata": {},
   "source": [
    "(미분 전)"
   ]
  },
  {
   "cell_type": "code",
   "execution_count": 45,
   "id": "7193518b",
   "metadata": {},
   "outputs": [
    {
     "data": {
      "text/plain": [
       "(Parameter containing:\n",
       " tensor([-5.], requires_grad=True),\n",
       " Parameter containing:\n",
       " tensor([[10.]], requires_grad=True))"
      ]
     },
     "execution_count": 45,
     "metadata": {},
     "output_type": "execute_result"
    }
   ],
   "source": [
    "net.bias, net.weight"
   ]
  },
  {
   "cell_type": "code",
   "execution_count": 46,
   "id": "6ab9ce44",
   "metadata": {},
   "outputs": [
    {
     "data": {
      "text/plain": [
       "(None, None)"
      ]
     },
     "execution_count": 46,
     "metadata": {},
     "output_type": "execute_result"
    }
   ],
   "source": [
    "net.bias.grad, net.weight.grad"
   ]
  },
  {
   "cell_type": "markdown",
   "id": "e3c6392f",
   "metadata": {},
   "source": [
    "(미분)"
   ]
  },
  {
   "cell_type": "code",
   "execution_count": 47,
   "id": "1b370f4c",
   "metadata": {},
   "outputs": [],
   "source": [
    "loss.backward()"
   ]
  },
  {
   "cell_type": "markdown",
   "id": "2dbcb481",
   "metadata": {},
   "source": [
    "(미분 후)"
   ]
  },
  {
   "cell_type": "code",
   "execution_count": 48,
   "id": "cd8fbfbc",
   "metadata": {},
   "outputs": [
    {
     "data": {
      "text/plain": [
       "(Parameter containing:\n",
       " tensor([-5.], requires_grad=True),\n",
       " Parameter containing:\n",
       " tensor([[10.]], requires_grad=True))"
      ]
     },
     "execution_count": 48,
     "metadata": {},
     "output_type": "execute_result"
    }
   ],
   "source": [
    "net.bias, net.weight"
   ]
  },
  {
   "cell_type": "code",
   "execution_count": 49,
   "id": "e170c5a8",
   "metadata": {},
   "outputs": [
    {
     "data": {
      "text/plain": [
       "(tensor([-13.4225]), tensor([[11.8893]]))"
      ]
     },
     "execution_count": 49,
     "metadata": {},
     "output_type": "execute_result"
    }
   ],
   "source": [
    "net.bias.grad, net.weight.grad"
   ]
  },
  {
   "cell_type": "markdown",
   "id": "316ae0df",
   "metadata": {},
   "source": [
    "`-` step 4"
   ]
  },
  {
   "cell_type": "markdown",
   "id": "44900839",
   "metadata": {},
   "source": [
    "(업데이터 전)"
   ]
  },
  {
   "cell_type": "code",
   "execution_count": 50,
   "id": "67094585",
   "metadata": {},
   "outputs": [
    {
     "data": {
      "text/plain": [
       "(Parameter containing:\n",
       " tensor([-5.], requires_grad=True),\n",
       " Parameter containing:\n",
       " tensor([[10.]], requires_grad=True))"
      ]
     },
     "execution_count": 50,
     "metadata": {},
     "output_type": "execute_result"
    }
   ],
   "source": [
    "net.bias, net.weight"
   ]
  },
  {
   "cell_type": "code",
   "execution_count": 51,
   "id": "e408b980",
   "metadata": {},
   "outputs": [
    {
     "data": {
      "text/plain": [
       "(tensor([-13.4225]), tensor([[11.8893]]))"
      ]
     },
     "execution_count": 51,
     "metadata": {},
     "output_type": "execute_result"
    }
   ],
   "source": [
    "net.bias.grad, net.weight.grad"
   ]
  },
  {
   "cell_type": "markdown",
   "id": "b9c71eb3",
   "metadata": {},
   "source": [
    "(업데이트)"
   ]
  },
  {
   "cell_type": "code",
   "execution_count": 52,
   "id": "b76c9c59",
   "metadata": {},
   "outputs": [],
   "source": [
    "net.bias.data = net.bias.data - 0.1 * net.bias.grad\n",
    "net.weight.data = net.weight.data - 0.1 * net.weight.grad"
   ]
  },
  {
   "cell_type": "code",
   "execution_count": 53,
   "id": "53978fc3",
   "metadata": {},
   "outputs": [],
   "source": [
    "net.bias.grad = None\n",
    "net.weight.grad = None"
   ]
  },
  {
   "cell_type": "markdown",
   "id": "f509cd5b",
   "metadata": {},
   "source": [
    "(업데이트 후)"
   ]
  },
  {
   "cell_type": "code",
   "execution_count": 54,
   "id": "023d6aa2",
   "metadata": {},
   "outputs": [
    {
     "data": {
      "text/plain": [
       "(Parameter containing:\n",
       " tensor([-3.6577], requires_grad=True),\n",
       " Parameter containing:\n",
       " tensor([[8.8111]], requires_grad=True))"
      ]
     },
     "execution_count": 54,
     "metadata": {},
     "output_type": "execute_result"
    }
   ],
   "source": [
    "net.bias, net.weight"
   ]
  },
  {
   "cell_type": "code",
   "execution_count": 55,
   "id": "7ea58e10",
   "metadata": {},
   "outputs": [
    {
     "data": {
      "text/plain": [
       "(None, None)"
      ]
     },
     "execution_count": 55,
     "metadata": {},
     "output_type": "execute_result"
    }
   ],
   "source": [
    "net.bias.grad, net.weight.grad"
   ]
  },
  {
   "cell_type": "markdown",
   "id": "abd70831",
   "metadata": {},
   "source": [
    "`-` 반복"
   ]
  },
  {
   "cell_type": "code",
   "execution_count": 56,
   "id": "297d71bd",
   "metadata": {},
   "outputs": [],
   "source": [
    "for epoch in range(30):\n",
    "    yhat = net(x)\n",
    "    loss = torch.mean((y - yhat) ** 2)\n",
    "    loss.backward()\n",
    "    net.weight.data = net.weight.data - 0.1 * net.weight.grad\n",
    "    net.bias.data = net.bias.data - 0.1 * net.bias.grad\n",
    "    net.weight.grad = None\n",
    "    net.bias.grad = None"
   ]
  },
  {
   "cell_type": "code",
   "execution_count": 57,
   "id": "3b61eb53",
   "metadata": {},
   "outputs": [
    {
     "data": {
      "text/plain": [
       "[<matplotlib.lines.Line2D at 0x223f7bb8100>]"
      ]
     },
     "execution_count": 57,
     "metadata": {},
     "output_type": "execute_result"
    },
    {
     "data": {
      "image/png": "[encoded data removed]",
      "text/plain": [
       "<Figure size 432x288 with 1 Axes>"
      ]
     },
     "metadata": {
      "needs_background": "light"
     },
     "output_type": "display_data"
    }
   ],
   "source": [
    "plt.plot(x, y, 'o')\n",
    "plt.plot(x, net(x).data, '--')"
   ]
  },
  {
   "cell_type": "markdown",
   "id": "aaef2070",
   "metadata": {},
   "source": [
    "## ver2 : net = torch.nn.Linear(2, 1, bias = False)"
   ]
  },
  {
   "cell_type": "markdown",
   "id": "dde850be",
   "metadata": {},
   "source": [
    "`-` 준비"
   ]
  },
  {
   "cell_type": "code",
   "execution_count": 58,
   "id": "b2ed063c",
   "metadata": {},
   "outputs": [],
   "source": [
    "net = torch.nn.Linear(2, 1, bias = False)\n",
    "net.weight.data = torch.tensor([[-5.0, 10.0]])"
   ]
  },
  {
   "cell_type": "markdown",
   "id": "b70351fd",
   "metadata": {},
   "source": [
    "`-` step 1"
   ]
  },
  {
   "cell_type": "code",
   "execution_count": 60,
   "id": "0fd8e337",
   "metadata": {},
   "outputs": [],
   "source": [
    "yhat = net(X)"
   ]
  },
  {
   "cell_type": "markdown",
   "id": "3e4fdc03",
   "metadata": {},
   "source": [
    "`-` step 2"
   ]
  },
  {
   "cell_type": "code",
   "execution_count": 61,
   "id": "47a1196a",
   "metadata": {},
   "outputs": [],
   "source": [
    "loss = torch.mean((y - yhat) ** 2)"
   ]
  },
  {
   "cell_type": "markdown",
   "id": "25f6019e",
   "metadata": {},
   "source": [
    "`-` step 3"
   ]
  },
  {
   "cell_type": "markdown",
   "id": "2e4079cb",
   "metadata": {},
   "source": [
    "(미분 전)"
   ]
  },
  {
   "cell_type": "code",
   "execution_count": 62,
   "id": "1d2ea842",
   "metadata": {},
   "outputs": [
    {
     "data": {
      "text/plain": [
       "Parameter containing:\n",
       "tensor([[-5., 10.]], requires_grad=True)"
      ]
     },
     "execution_count": 62,
     "metadata": {},
     "output_type": "execute_result"
    }
   ],
   "source": [
    "net.weight"
   ]
  },
  {
   "cell_type": "code",
   "execution_count": 63,
   "id": "ca7832ee",
   "metadata": {},
   "outputs": [],
   "source": [
    "net.weight.grad"
   ]
  },
  {
   "cell_type": "markdown",
   "id": "a15018e7",
   "metadata": {},
   "source": [
    "(미분)"
   ]
  },
  {
   "cell_type": "code",
   "execution_count": 64,
   "id": "372df793",
   "metadata": {},
   "outputs": [],
   "source": [
    "loss.backward()"
   ]
  },
  {
   "cell_type": "markdown",
   "id": "6fd178cc",
   "metadata": {},
   "source": [
    "(미분 후)"
   ]
  },
  {
   "cell_type": "code",
   "execution_count": 65,
   "id": "8c7f035a",
   "metadata": {},
   "outputs": [
    {
     "data": {
      "text/plain": [
       "Parameter containing:\n",
       "tensor([[-5., 10.]], requires_grad=True)"
      ]
     },
     "execution_count": 65,
     "metadata": {},
     "output_type": "execute_result"
    }
   ],
   "source": [
    "net.weight"
   ]
  },
  {
   "cell_type": "code",
   "execution_count": 66,
   "id": "9158805f",
   "metadata": {},
   "outputs": [
    {
     "data": {
      "text/plain": [
       "tensor([[-13.4225,  11.8893]])"
      ]
     },
     "execution_count": 66,
     "metadata": {},
     "output_type": "execute_result"
    }
   ],
   "source": [
    "net.weight.grad"
   ]
  },
  {
   "cell_type": "markdown",
   "id": "c7538d62",
   "metadata": {},
   "source": [
    "`-` step 4"
   ]
  },
  {
   "cell_type": "markdown",
   "id": "812ac58e",
   "metadata": {},
   "source": [
    "(업데이트 전)"
   ]
  },
  {
   "cell_type": "code",
   "execution_count": 67,
   "id": "55308e69",
   "metadata": {},
   "outputs": [
    {
     "data": {
      "text/plain": [
       "Parameter containing:\n",
       "tensor([[-5., 10.]], requires_grad=True)"
      ]
     },
     "execution_count": 67,
     "metadata": {},
     "output_type": "execute_result"
    }
   ],
   "source": [
    "net.weight"
   ]
  },
  {
   "cell_type": "code",
   "execution_count": 68,
   "id": "1c823706",
   "metadata": {},
   "outputs": [
    {
     "data": {
      "text/plain": [
       "tensor([[-13.4225,  11.8893]])"
      ]
     },
     "execution_count": 68,
     "metadata": {},
     "output_type": "execute_result"
    }
   ],
   "source": [
    "net.weight.grad"
   ]
  },
  {
   "cell_type": "markdown",
   "id": "9159d160",
   "metadata": {},
   "source": [
    "(업데이트)"
   ]
  },
  {
   "cell_type": "code",
   "execution_count": 69,
   "id": "49de61a6",
   "metadata": {},
   "outputs": [],
   "source": [
    "net.weight.data = net.weight.data - 0.1 * net.weight.grad"
   ]
  },
  {
   "cell_type": "code",
   "execution_count": 70,
   "id": "45984b1e",
   "metadata": {},
   "outputs": [],
   "source": [
    "net.weight.grad = None"
   ]
  },
  {
   "cell_type": "markdown",
   "id": "9f1ac820",
   "metadata": {},
   "source": [
    "(업데이트 후)"
   ]
  },
  {
   "cell_type": "code",
   "execution_count": 71,
   "id": "604e0b64",
   "metadata": {},
   "outputs": [
    {
     "data": {
      "text/plain": [
       "Parameter containing:\n",
       "tensor([[-3.6577,  8.8111]], requires_grad=True)"
      ]
     },
     "execution_count": 71,
     "metadata": {},
     "output_type": "execute_result"
    }
   ],
   "source": [
    "net.weight"
   ]
  },
  {
   "cell_type": "code",
   "execution_count": 72,
   "id": "2b55c699",
   "metadata": {},
   "outputs": [],
   "source": [
    "net.weight.grad"
   ]
  },
  {
   "cell_type": "markdown",
   "id": "3b2bfe5c",
   "metadata": {},
   "source": [
    "`-` 반복"
   ]
  },
  {
   "cell_type": "code",
   "execution_count": 73,
   "id": "c1abf67a",
   "metadata": {},
   "outputs": [],
   "source": [
    "net = torch.nn.Linear(2, 1, bias = False)\n",
    "net.weight.data = torch.tensor([[-5.0, 10.0]])"
   ]
  },
  {
   "cell_type": "code",
   "execution_count": 74,
   "id": "3af17158",
   "metadata": {},
   "outputs": [
    {
     "data": {
      "text/plain": [
       "[<matplotlib.lines.Line2D at 0x223fe24b6d0>]"
      ]
     },
     "execution_count": 74,
     "metadata": {},
     "output_type": "execute_result"
    },
    {
     "data": {
      "image/png": "[encoded data removed]",
      "text/plain": [
       "<Figure size 432x288 with 1 Axes>"
      ]
     },
     "metadata": {
      "needs_background": "light"
     },
     "output_type": "display_data"
    }
   ],
   "source": [
    "plt.plot(x, y, 'o')\n",
    "plt.plot(x, net(X).data, '--')"
   ]
  },
  {
   "cell_type": "code",
   "execution_count": 75,
   "id": "00668029",
   "metadata": {},
   "outputs": [],
   "source": [
    "for epoch in range(30):\n",
    "    yhat = net(X)\n",
    "    loss = torch.mean((y - yhat) ** 2)\n",
    "    loss.backward()\n",
    "    net.weight.data = net.weight.data - 0.1 * net.weight.grad\n",
    "    net.weight.grad = None"
   ]
  },
  {
   "cell_type": "code",
   "execution_count": 76,
   "id": "e5653488",
   "metadata": {},
   "outputs": [
    {
     "data": {
      "text/plain": [
       "[<matplotlib.lines.Line2D at 0x223fe295fa0>]"
      ]
     },
     "execution_count": 76,
     "metadata": {},
     "output_type": "execute_result"
    },
    {
     "data": {
      "image/png": "[encoded data removed]",
      "text/plain": [
       "<Figure size 432x288 with 1 Axes>"
      ]
     },
     "metadata": {
      "needs_background": "light"
     },
     "output_type": "display_data"
    }
   ],
   "source": [
    "plt.plot(x, y, 'o')\n",
    "plt.plot(x, net(X).data, '--')"
   ]
  },
  {
   "cell_type": "markdown",
   "id": "d89f91a8",
   "metadata": {},
   "source": [
    "# step 4의 다른버전 : 옵티마이저"
   ]
  },
  {
   "cell_type": "markdown",
   "id": "d2745ce3",
   "metadata": {},
   "source": [
    "## ver 1 : net = torch.nn.Linear(1, 1, bias = True)"
   ]
  },
  {
   "cell_type": "markdown",
   "id": "418a2b6c",
   "metadata": {},
   "source": [
    "`-` 준비"
   ]
  },
  {
   "cell_type": "code",
   "execution_count": 77,
   "id": "7d488bc9",
   "metadata": {},
   "outputs": [],
   "source": [
    "net = torch.nn.Linear(1, 1)\n",
    "net.weight.data = torch.tensor([[10.0]])\n",
    "net.bias.data = torch.tensor([[-5.0]])"
   ]
  },
  {
   "cell_type": "code",
   "execution_count": 78,
   "id": "b848994b",
   "metadata": {},
   "outputs": [],
   "source": [
    "optimizer = torch.optim.SGD(net.parameters(), lr = 1 / 10)"
   ]
  },
  {
   "cell_type": "markdown",
   "id": "e5218184",
   "metadata": {},
   "source": [
    "`-` step 1 ~ 3"
   ]
  },
  {
   "cell_type": "code",
   "execution_count": 79,
   "id": "bc3bc098",
   "metadata": {},
   "outputs": [],
   "source": [
    "yhat = net(x)"
   ]
  },
  {
   "cell_type": "code",
   "execution_count": 80,
   "id": "859b8828",
   "metadata": {},
   "outputs": [],
   "source": [
    "loss = torch.mean((y - yhat) ** 2)"
   ]
  },
  {
   "cell_type": "code",
   "execution_count": 81,
   "id": "9fc35688",
   "metadata": {},
   "outputs": [],
   "source": [
    "loss.backward()"
   ]
  },
  {
   "cell_type": "markdown",
   "id": "cd049f71",
   "metadata": {},
   "source": [
    "`-` step 4"
   ]
  },
  {
   "cell_type": "markdown",
   "id": "414a67b6",
   "metadata": {},
   "source": [
    "(업데이트 전)"
   ]
  },
  {
   "cell_type": "code",
   "execution_count": 82,
   "id": "ac559395",
   "metadata": {},
   "outputs": [
    {
     "data": {
      "text/plain": [
       "(tensor([[10.]]), tensor([[-5.]]))"
      ]
     },
     "execution_count": 82,
     "metadata": {},
     "output_type": "execute_result"
    }
   ],
   "source": [
    "net.weight.data, net.bias.data"
   ]
  },
  {
   "cell_type": "code",
   "execution_count": 83,
   "id": "636c2e96",
   "metadata": {},
   "outputs": [
    {
     "data": {
      "text/plain": [
       "(tensor([[11.8893]]), tensor([[-13.4225]]))"
      ]
     },
     "execution_count": 83,
     "metadata": {},
     "output_type": "execute_result"
    }
   ],
   "source": [
    "net.weight.grad, net.bias.grad"
   ]
  },
  {
   "cell_type": "markdown",
   "id": "2ad9b9a6",
   "metadata": {},
   "source": [
    "(업데이트)"
   ]
  },
  {
   "cell_type": "code",
   "execution_count": 84,
   "id": "c5253174",
   "metadata": {},
   "outputs": [],
   "source": [
    "optimizer.step()\n",
    "optimizer.zero_grad()"
   ]
  },
  {
   "cell_type": "markdown",
   "id": "225a5196",
   "metadata": {},
   "source": [
    "(업데이트 후)"
   ]
  },
  {
   "cell_type": "code",
   "execution_count": 85,
   "id": "3ef87e6c",
   "metadata": {},
   "outputs": [
    {
     "data": {
      "text/plain": [
       "(tensor([[8.8111]]), tensor([[-3.6577]]))"
      ]
     },
     "execution_count": 85,
     "metadata": {},
     "output_type": "execute_result"
    }
   ],
   "source": [
    "net.weight.data, net.bias.data"
   ]
  },
  {
   "cell_type": "code",
   "execution_count": 86,
   "id": "d8a2dcaf",
   "metadata": {},
   "outputs": [
    {
     "data": {
      "text/plain": [
       "(tensor([[0.]]), tensor([[0.]]))"
      ]
     },
     "execution_count": 86,
     "metadata": {},
     "output_type": "execute_result"
    }
   ],
   "source": [
    "net.weight.grad, net.bias.grad"
   ]
  },
  {
   "cell_type": "markdown",
   "id": "cf5fdde6",
   "metadata": {},
   "source": [
    "`-` 반복"
   ]
  },
  {
   "cell_type": "code",
   "execution_count": 87,
   "id": "6ff3a521",
   "metadata": {},
   "outputs": [],
   "source": [
    "net = torch.nn.Linear(1, 1)\n",
    "net.weight.data = torch.tensor([[10.0]])\n",
    "net.bias.data = torch.tensor([-5.0])\n",
    "optimizer = torch.optim.SGD(net.parameters(), lr = 1 / 10)"
   ]
  },
  {
   "cell_type": "code",
   "execution_count": 88,
   "id": "50ccc35e",
   "metadata": {},
   "outputs": [],
   "source": [
    "for epoch in range(30):\n",
    "    yhat = net(x)\n",
    "    loss = torch.mean((y - yhat) ** 2)\n",
    "    loss.backward()\n",
    "    optimizer.step()\n",
    "    optimizer.zero_grad()"
   ]
  },
  {
   "cell_type": "code",
   "execution_count": 89,
   "id": "12f7269b",
   "metadata": {},
   "outputs": [
    {
     "data": {
      "text/plain": [
       "[<matplotlib.lines.Line2D at 0x223fe2f7bb0>]"
      ]
     },
     "execution_count": 89,
     "metadata": {},
     "output_type": "execute_result"
    },
    {
     "data": {
      "image/png": "[encoded data removed]",
      "text/plain": [
       "<Figure size 432x288 with 1 Axes>"
      ]
     },
     "metadata": {
      "needs_background": "light"
     },
     "output_type": "display_data"
    }
   ],
   "source": [
    "plt.plot(x, y, 'o')\n",
    "plt.plot(x, net(x).data, '--')"
   ]
  },
  {
   "cell_type": "markdown",
   "id": "d17621bb",
   "metadata": {},
   "source": [
    "## ver2 : torch.nn.Linear(2, 1, bias = False)"
   ]
  },
  {
   "cell_type": "code",
   "execution_count": 90,
   "id": "427c48a1",
   "metadata": {},
   "outputs": [],
   "source": [
    "net = torch.nn.Linear(2, 1, bias = False)\n",
    "net.weight.data = torch.tensor([[-5.0, 10.0]])\n",
    "optimizer = torch.optim.SGD(net.parameters(), lr = 1 / 10)"
   ]
  },
  {
   "cell_type": "code",
   "execution_count": 91,
   "id": "95f692af",
   "metadata": {},
   "outputs": [],
   "source": [
    "for epoch in range(30):\n",
    "    yhat = net(X)\n",
    "    loss = torch.mean((y - yhat) ** 2)\n",
    "    loss.backward()\n",
    "    optimizer.step()\n",
    "    optimizer.zero_grad()"
   ]
  },
  {
   "cell_type": "code",
   "execution_count": 92,
   "id": "2d139182",
   "metadata": {},
   "outputs": [
    {
     "data": {
      "text/plain": [
       "[<matplotlib.lines.Line2D at 0x223fe354a30>]"
      ]
     },
     "execution_count": 92,
     "metadata": {},
     "output_type": "execute_result"
    },
    {
     "data": {
      "image/png": "[encoded data removed]",
      "text/plain": [
       "<Figure size 432x288 with 1 Axes>"
      ]
     },
     "metadata": {
      "needs_background": "light"
     },
     "output_type": "display_data"
    }
   ],
   "source": [
    "plt.plot(x, y, 'o')\n",
    "plt.plot(x, net(X).data, '--')"
   ]
  },
  {
   "cell_type": "markdown",
   "id": "c130216c",
   "metadata": {},
   "source": [
    "# Appendix : `net.parameters()`의 의미"
   ]
  },
  {
   "cell_type": "markdown",
   "id": "6a1c401b",
   "metadata": {},
   "source": [
    "`-` iterator, generator의 개념 필요"
   ]
  },
  {
   "cell_type": "markdown",
   "id": "d409bbb1",
   "metadata": {},
   "source": [
    "`-` 네트워크 생성"
   ]
  },
  {
   "cell_type": "code",
   "execution_count": 93,
   "id": "f9a5c4dc",
   "metadata": {},
   "outputs": [
    {
     "data": {
      "text/plain": [
       "Parameter containing:\n",
       "tensor([[-0.1294]], requires_grad=True)"
      ]
     },
     "execution_count": 93,
     "metadata": {},
     "output_type": "execute_result"
    }
   ],
   "source": [
    "net = torch.nn.Linear(in_features = 1, out_features = 1)\n",
    "net.weight"
   ]
  },
  {
   "cell_type": "code",
   "execution_count": 94,
   "id": "35c91efa",
   "metadata": {},
   "outputs": [
    {
     "data": {
      "text/plain": [
       "Parameter containing:\n",
       "tensor([0.6951], requires_grad=True)"
      ]
     },
     "execution_count": 94,
     "metadata": {},
     "output_type": "execute_result"
    }
   ],
   "source": [
    "net.bias"
   ]
  },
  {
   "cell_type": "code",
   "execution_count": 96,
   "id": "fb843dc6",
   "metadata": {},
   "outputs": [
    {
     "data": {
      "text/plain": [
       "set()"
      ]
     },
     "execution_count": 96,
     "metadata": {},
     "output_type": "execute_result"
    }
   ],
   "source": [
    "set(dir(net.parameters)) & {'__iter__'}"
   ]
  },
  {
   "cell_type": "code",
   "execution_count": 97,
   "id": "9bd1d913",
   "metadata": {},
   "outputs": [
    {
     "data": {
      "text/plain": [
       "{'__iter__'}"
      ]
     },
     "execution_count": 97,
     "metadata": {},
     "output_type": "execute_result"
    }
   ],
   "source": [
    "set(dir(net.parameters())) & {'__iter__'}"
   ]
  },
  {
   "cell_type": "markdown",
   "id": "7449feb4",
   "metadata": {},
   "source": [
    "`-` 무슨 의미일까?"
   ]
  },
  {
   "cell_type": "code",
   "execution_count": 98,
   "id": "24ac79ce",
   "metadata": {},
   "outputs": [],
   "source": [
    "_generator = net.parameters()"
   ]
  },
  {
   "cell_type": "code",
   "execution_count": 99,
   "id": "fa0bcc45",
   "metadata": {},
   "outputs": [
    {
     "data": {
      "text/plain": [
       "Parameter containing:\n",
       "tensor([[-0.1294]], requires_grad=True)"
      ]
     },
     "execution_count": 99,
     "metadata": {},
     "output_type": "execute_result"
    }
   ],
   "source": [
    "_generator.__next__()"
   ]
  },
  {
   "cell_type": "code",
   "execution_count": 100,
   "id": "4e1af6b3",
   "metadata": {},
   "outputs": [
    {
     "data": {
      "text/plain": [
       "Parameter containing:\n",
       "tensor([0.6951], requires_grad=True)"
      ]
     },
     "execution_count": 100,
     "metadata": {},
     "output_type": "execute_result"
    }
   ],
   "source": [
    "_generator.__next__()"
   ]
  },
  {
   "cell_type": "code",
   "execution_count": 101,
   "id": "65ee5b7a",
   "metadata": {},
   "outputs": [
    {
     "ename": "StopIteration",
     "evalue": "",
     "output_type": "error",
     "traceback": [
      "\u001b[1;31m---------------------------------------------------------------------------\u001b[0m",
      "\u001b[1;31mStopIteration\u001b[0m                             Traceback (most recent call last)",
      "Input \u001b[1;32mIn [101]\u001b[0m, in \u001b[0;36m<cell line: 1>\u001b[1;34m()\u001b[0m\n\u001b[1;32m----> 1\u001b[0m \u001b[43m_generator\u001b[49m\u001b[38;5;241;43m.\u001b[39;49m\u001b[38;5;21;43m__next__\u001b[39;49m\u001b[43m(\u001b[49m\u001b[43m)\u001b[49m\n",
      "\u001b[1;31mStopIteration\u001b[0m: "
     ]
    }
   ],
   "source": [
    "_generator.__next__()"
   ]
  },
  {
   "cell_type": "markdown",
   "id": "75a0cdd0",
   "metadata": {},
   "source": [
    "`-` 이건 이런느낌?"
   ]
  },
  {
   "cell_type": "code",
   "execution_count": 102,
   "id": "fdd82322",
   "metadata": {},
   "outputs": [],
   "source": [
    "_generator2 = iter([net.weight, net.bias])"
   ]
  },
  {
   "cell_type": "code",
   "execution_count": 103,
   "id": "297b3920",
   "metadata": {},
   "outputs": [
    {
     "data": {
      "text/plain": [
       "<list_iterator at 0x223fe305a30>"
      ]
     },
     "execution_count": 103,
     "metadata": {},
     "output_type": "execute_result"
    }
   ],
   "source": [
    "_generator2"
   ]
  },
  {
   "cell_type": "code",
   "execution_count": 104,
   "id": "f0fa927a",
   "metadata": {},
   "outputs": [
    {
     "data": {
      "text/plain": [
       "Parameter containing:\n",
       "tensor([[-0.1294]], requires_grad=True)"
      ]
     },
     "execution_count": 104,
     "metadata": {},
     "output_type": "execute_result"
    }
   ],
   "source": [
    "_generator2.__next__()"
   ]
  },
  {
   "cell_type": "code",
   "execution_count": 105,
   "id": "1123642f",
   "metadata": {},
   "outputs": [
    {
     "data": {
      "text/plain": [
       "Parameter containing:\n",
       "tensor([0.6951], requires_grad=True)"
      ]
     },
     "execution_count": 105,
     "metadata": {},
     "output_type": "execute_result"
    }
   ],
   "source": [
    "_generator2.__next__()"
   ]
  },
  {
   "cell_type": "code",
   "execution_count": 106,
   "id": "6ae0886e",
   "metadata": {},
   "outputs": [
    {
     "ename": "StopIteration",
     "evalue": "",
     "output_type": "error",
     "traceback": [
      "\u001b[1;31m---------------------------------------------------------------------------\u001b[0m",
      "\u001b[1;31mStopIteration\u001b[0m                             Traceback (most recent call last)",
      "Input \u001b[1;32mIn [106]\u001b[0m, in \u001b[0;36m<cell line: 1>\u001b[1;34m()\u001b[0m\n\u001b[1;32m----> 1\u001b[0m \u001b[43m_generator2\u001b[49m\u001b[38;5;241;43m.\u001b[39;49m\u001b[38;5;21;43m__next__\u001b[39;49m\u001b[43m(\u001b[49m\u001b[43m)\u001b[49m\n",
      "\u001b[1;31mStopIteration\u001b[0m: "
     ]
    }
   ],
   "source": [
    "_generator2.__next__()"
   ]
  },
  {
   "cell_type": "markdown",
   "id": "c7a85c88",
   "metadata": {},
   "source": [
    "`-` 즉, 아래의 코드는 같다"
   ]
  },
  {
   "cell_type": "code",
   "execution_count": 107,
   "id": "d18387f4",
   "metadata": {},
   "outputs": [
    {
     "data": {
      "text/plain": [
       "SGD (\n",
       "Parameter Group 0\n",
       "    dampening: 0\n",
       "    lr: 0.1\n",
       "    maximize: False\n",
       "    momentum: 0\n",
       "    nesterov: False\n",
       "    weight_decay: 0\n",
       ")"
      ]
     },
     "execution_count": 107,
     "metadata": {},
     "output_type": "execute_result"
    }
   ],
   "source": [
    "### 코드 1\n",
    "_generator = net.parameters()\n",
    "torch.optim.SGD(_generator, lr = 1 / 10)\n",
    "### 코드 2\n",
    "_generator = iter([net.weight, net.bias])\n",
    "torch.optim.SGD(_generator, lr = 1 / 10)\n",
    "### 코드 3\n",
    "_iterator = [net.weight, net.bias]\n",
    "torch.optim.SGD(_iterator, lr = 1 / 10)"
   ]
  },
  {
   "cell_type": "markdown",
   "id": "7d0f0587",
   "metadata": {},
   "source": [
    "결론 : `net.parameters()`는 net오브젝트에서 학습할 파라미터를 모두 모아 리스트(iterable object)로 만드는 함수"
   ]
  },
  {
   "cell_type": "markdown",
   "id": "58072b4f",
   "metadata": {},
   "source": [
    "`-` 응용예제 1"
   ]
  },
  {
   "cell_type": "code",
   "execution_count": 108,
   "id": "db075204",
   "metadata": {},
   "outputs": [],
   "source": [
    "What = torch.tensor([[-5.0], [10.0]], requires_grad = True)\n",
    "optimizer = torch.optim.SGD([What], lr = 1 / 10)"
   ]
  },
  {
   "cell_type": "code",
   "execution_count": 109,
   "id": "e5846ca3",
   "metadata": {},
   "outputs": [
    {
     "data": {
      "text/plain": [
       "[<matplotlib.lines.Line2D at 0x223fe409700>]"
      ]
     },
     "execution_count": 109,
     "metadata": {},
     "output_type": "execute_result"
    },
    {
     "data": {
      "image/png": "[encoded data removed]",
      "text/plain": [
       "<Figure size 432x288 with 1 Axes>"
      ]
     },
     "metadata": {
      "needs_background": "light"
     },
     "output_type": "display_data"
    }
   ],
   "source": [
    "plt.plot(x, y, 'o')\n",
    "plt.plot(x, (X @ What).data, '--')"
   ]
  },
  {
   "cell_type": "code",
   "execution_count": 110,
   "id": "135c515e",
   "metadata": {},
   "outputs": [],
   "source": [
    "for epoch in range(30):\n",
    "    yhat = X @ What\n",
    "    loss = torch.mean((y - yhat) ** 2)\n",
    "    loss.backward()\n",
    "    optimizer.step()\n",
    "    optimizer.zero_grad()"
   ]
  },
  {
   "cell_type": "code",
   "execution_count": 111,
   "id": "37631ea1",
   "metadata": {},
   "outputs": [
    {
     "data": {
      "text/plain": [
       "[<matplotlib.lines.Line2D at 0x223fe38ad60>]"
      ]
     },
     "execution_count": 111,
     "metadata": {},
     "output_type": "execute_result"
    },
    {
     "data": {
      "image/png": "[encoded data removed]",
      "text/plain": [
       "<Figure size 432x288 with 1 Axes>"
      ]
     },
     "metadata": {
      "needs_background": "light"
     },
     "output_type": "display_data"
    }
   ],
   "source": [
    "plt.plot(x, y, 'o')\n",
    "plt.plot(x, (X @ What).data, '--')"
   ]
  },
  {
   "cell_type": "markdown",
   "id": "fa43aec9",
   "metadata": {},
   "source": [
    "`-` 응용예제 2"
   ]
  },
  {
   "cell_type": "code",
   "execution_count": 112,
   "id": "cac90bba",
   "metadata": {},
   "outputs": [],
   "source": [
    "b = torch.tensor(-5.0, requires_grad = True)\n",
    "w = torch.tensor(10.0, requires_grad = True)\n",
    "optimizer = torch.optim.SGD([b, w], lr = 1 / 10)"
   ]
  },
  {
   "cell_type": "code",
   "execution_count": 113,
   "id": "8b342f2f",
   "metadata": {},
   "outputs": [
    {
     "data": {
      "text/plain": [
       "[<matplotlib.lines.Line2D at 0x223f72d03a0>]"
      ]
     },
     "execution_count": 113,
     "metadata": {},
     "output_type": "execute_result"
    },
    {
     "data": {
      "image/png": "[encoded data removed]",
      "text/plain": [
       "<Figure size 432x288 with 1 Axes>"
      ]
     },
     "metadata": {
      "needs_background": "light"
     },
     "output_type": "display_data"
    }
   ],
   "source": [
    "plt.plot(x, y, 'o')\n",
    "plt.plot(x, (w * x + b).data, '--')"
   ]
  },
  {
   "cell_type": "code",
   "execution_count": 114,
   "id": "ccc2a635",
   "metadata": {},
   "outputs": [],
   "source": [
    "for epoch in range(30):\n",
    "    yhat = b + w * x\n",
    "    loss = torch.mean((y - yhat) ** 2)\n",
    "    loss.backward()\n",
    "    optimizer.step()\n",
    "    optimizer.zero_grad()"
   ]
  },
  {
   "cell_type": "code",
   "execution_count": 115,
   "id": "50f67211",
   "metadata": {},
   "outputs": [
    {
     "data": {
      "text/plain": [
       "[<matplotlib.lines.Line2D at 0x223ff466460>]"
      ]
     },
     "execution_count": 115,
     "metadata": {},
     "output_type": "execute_result"
    },
    {
     "data": {
      "image/png": "[encoded data removed]",
      "text/plain": [
       "<Figure size 432x288 with 1 Axes>"
      ]
     },
     "metadata": {
      "needs_background": "light"
     },
     "output_type": "display_data"
    }
   ],
   "source": [
    "plt.plot(x, y, 'o')\n",
    "plt.plot(x, (w * x + b).data, '--')"
   ]
  },
  {
   "cell_type": "markdown",
   "id": "b8540fe5",
   "metadata": {},
   "source": [
    "# Logistic regression"
   ]
  },
  {
   "cell_type": "markdown",
   "id": "3f5189d5",
   "metadata": {},
   "source": [
    "## motive"
   ]
  },
  {
   "cell_type": "markdown",
   "id": "1d3d0edb",
   "metadata": {},
   "source": [
    "`-` 현실에 이런 경우가 많음\n",
    " - x가 커질수록 (혹은 작아질수록) 성공확률이 증가"
   ]
  },
  {
   "cell_type": "markdown",
   "id": "1d788a73",
   "metadata": {},
   "source": [
    "`-` (X, y)는 어떤 모양?"
   ]
  },
  {
   "cell_type": "code",
   "execution_count": 117,
   "id": "9593e242",
   "metadata": {},
   "outputs": [
    {
     "data": {
      "text/html": [
       "<div>\n",
       "<style scoped>\n",
       "    .dataframe tbody tr th:only-of-type {\n",
       "        vertical-align: middle;\n",
       "    }\n",
       "\n",
       "    .dataframe tbody tr th {\n",
       "        vertical-align: top;\n",
       "    }\n",
       "\n",
       "    .dataframe thead th {\n",
       "        text-align: right;\n",
       "    }\n",
       "</style>\n",
       "<table border=\"1\" class=\"dataframe\">\n",
       "  <thead>\n",
       "    <tr style=\"text-align: right;\">\n",
       "      <th></th>\n",
       "      <th>x</th>\n",
       "      <th>y</th>\n",
       "    </tr>\n",
       "  </thead>\n",
       "  <tbody>\n",
       "    <tr>\n",
       "      <th>0</th>\n",
       "      <td>-6</td>\n",
       "      <td>0</td>\n",
       "    </tr>\n",
       "    <tr>\n",
       "      <th>1</th>\n",
       "      <td>-5</td>\n",
       "      <td>0</td>\n",
       "    </tr>\n",
       "    <tr>\n",
       "      <th>2</th>\n",
       "      <td>-4</td>\n",
       "      <td>0</td>\n",
       "    </tr>\n",
       "    <tr>\n",
       "      <th>3</th>\n",
       "      <td>-3</td>\n",
       "      <td>0</td>\n",
       "    </tr>\n",
       "    <tr>\n",
       "      <th>4</th>\n",
       "      <td>-2</td>\n",
       "      <td>0</td>\n",
       "    </tr>\n",
       "    <tr>\n",
       "      <th>5</th>\n",
       "      <td>-1</td>\n",
       "      <td>0</td>\n",
       "    </tr>\n",
       "    <tr>\n",
       "      <th>6</th>\n",
       "      <td>0</td>\n",
       "      <td>1</td>\n",
       "    </tr>\n",
       "    <tr>\n",
       "      <th>7</th>\n",
       "      <td>1</td>\n",
       "      <td>0</td>\n",
       "    </tr>\n",
       "    <tr>\n",
       "      <th>8</th>\n",
       "      <td>2</td>\n",
       "      <td>1</td>\n",
       "    </tr>\n",
       "    <tr>\n",
       "      <th>9</th>\n",
       "      <td>3</td>\n",
       "      <td>1</td>\n",
       "    </tr>\n",
       "    <tr>\n",
       "      <th>10</th>\n",
       "      <td>4</td>\n",
       "      <td>1</td>\n",
       "    </tr>\n",
       "    <tr>\n",
       "      <th>11</th>\n",
       "      <td>5</td>\n",
       "      <td>1</td>\n",
       "    </tr>\n",
       "    <tr>\n",
       "      <th>12</th>\n",
       "      <td>6</td>\n",
       "      <td>1</td>\n",
       "    </tr>\n",
       "  </tbody>\n",
       "</table>\n",
       "</div>"
      ],
      "text/plain": [
       "    x  y\n",
       "0  -6  0\n",
       "1  -5  0\n",
       "2  -4  0\n",
       "3  -3  0\n",
       "4  -2  0\n",
       "5  -1  0\n",
       "6   0  1\n",
       "7   1  0\n",
       "8   2  1\n",
       "9   3  1\n",
       "10  4  1\n",
       "11  5  1\n",
       "12  6  1"
      ]
     },
     "execution_count": 117,
     "metadata": {},
     "output_type": "execute_result"
    }
   ],
   "source": [
    "_df = pd.DataFrame({'x':range(-6,7),'y':[0,0,0,0,0,0,1,0,1,1,1,1,1]})\n",
    "_df"
   ]
  },
  {
   "cell_type": "code",
   "execution_count": 118,
   "id": "6a18472d",
   "metadata": {},
   "outputs": [
    {
     "data": {
      "text/plain": [
       "[<matplotlib.lines.Line2D at 0x223ff4b86d0>]"
      ]
     },
     "execution_count": 118,
     "metadata": {},
     "output_type": "execute_result"
    },
    {
     "data": {
      "image/png": "[encoded data removed]",
      "text/plain": [
       "<Figure size 432x288 with 1 Axes>"
      ]
     },
     "metadata": {
      "needs_background": "light"
     },
     "output_type": "display_data"
    }
   ],
   "source": [
    "plt.plot(_df.x, _df.y, 'o')"
   ]
  },
  {
   "cell_type": "markdown",
   "id": "e5b146a1",
   "metadata": {},
   "source": [
    "`-` 시그모이드 함수 구현"
   ]
  },
  {
   "cell_type": "code",
   "execution_count": 119,
   "id": "8d01c1a7",
   "metadata": {},
   "outputs": [],
   "source": [
    "xx = torch.linspace(-6, 6, 100)\n",
    "def f(x):\n",
    "    return torch.exp(x) / (1 + torch.exp(x))"
   ]
  },
  {
   "cell_type": "code",
   "execution_count": 120,
   "id": "578039bc",
   "metadata": {},
   "outputs": [
    {
     "data": {
      "text/plain": [
       "[<matplotlib.lines.Line2D at 0x223ff7e20d0>]"
      ]
     },
     "execution_count": 120,
     "metadata": {},
     "output_type": "execute_result"
    },
    {
     "data": {
      "image/png": "[encoded data removed]",
      "text/plain": [
       "<Figure size 432x288 with 1 Axes>"
      ]
     },
     "metadata": {
      "needs_background": "light"
     },
     "output_type": "display_data"
    }
   ],
   "source": [
    "plt.plot(_df.x, _df.y, 'o')\n",
    "plt.plot(xx, f(xx))"
   ]
  },
  {
   "cell_type": "markdown",
   "id": "9ec53a77",
   "metadata": {},
   "source": [
    "## model"
   ]
  },
  {
   "cell_type": "markdown",
   "id": "af2fefe1",
   "metadata": {},
   "source": [
    "`-` $x$가 커질수록 $y=1$이 잘나오는 모형은 아래와 같이 설계할 수 있음 <--- 외우세요!!!\n",
    "\n",
    "- $y_i \\sim Ber(\\pi_i),\\quad $ where $\\pi_i = \\frac{\\exp(w_0+w_1x_i)}{1+\\exp(w_0+w_1x_i)}$\n",
    "\n",
    "- $\\hat{y}_i= \\frac{\\exp(\\hat{w}_0+\\hat{w}_1x_i)}{1+\\exp(\\hat{w}_0+\\hat{w}_1x_i)}=\\frac{1}{1+\\exp(-\\hat{w}_0-\\hat{w}_1x_i)}$ \n",
    "\n",
    "- $loss= - \\sum_{i=1}^{n} \\big(y_i\\log(\\hat{y}_i)+(1-y_i)\\log(1-\\hat{y}_i)\\big)$ <--- 외우세요!!"
   ]
  },
  {
   "cell_type": "markdown",
   "id": "b02be7e7",
   "metadata": {},
   "source": [
    "## toy example"
   ]
  },
  {
   "cell_type": "markdown",
   "id": "2ac179da",
   "metadata": {},
   "source": [
    "`-` 예제시작"
   ]
  },
  {
   "cell_type": "code",
   "execution_count": 121,
   "id": "b0963ad6",
   "metadata": {},
   "outputs": [],
   "source": [
    "x = torch.linspace(-1, 1, 2000).reshape(2000, 1)\n",
    "w0 = -1\n",
    "w1 = 5\n",
    "u = w0 + x * w1\n",
    "v = torch.exp(u) / (1 + torch.exp(u))\n",
    "y = torch.bernoulli(v)"
   ]
  },
  {
   "cell_type": "code",
   "execution_count": 123,
   "id": "eae135a0",
   "metadata": {},
   "outputs": [
    {
     "data": {
      "text/plain": [
       "[<matplotlib.lines.Line2D at 0x223ff8d4100>]"
      ]
     },
     "execution_count": 123,
     "metadata": {},
     "output_type": "execute_result"
    },
    {
     "data": {
      "image/png": "[encoded data removed]",
      "text/plain": [
       "<Figure size 432x288 with 1 Axes>"
      ]
     },
     "metadata": {
      "needs_background": "light"
     },
     "output_type": "display_data"
    }
   ],
   "source": [
    "plt.scatter(x, y, alpha = 0.05)\n",
    "plt.plot(x, v, '--r')"
   ]
  },
  {
   "cell_type": "markdown",
   "id": "62285bcc",
   "metadata": {},
   "source": [
    "`-` IAB 딥러닝 수업 자료를 기반으로 공부한 내용입니다."
   ]
  },
  {
   "cell_type": "code",
   "execution_count": null,
   "id": "d0daedd9",
   "metadata": {},
   "outputs": [],
   "source": []
  }
 ],
 "metadata": {
  "kernelspec": {
   "display_name": "Python 3 (ipykernel)",
   "language": "python",
   "name": "python3"
  },
  "language_info": {
   "codemirror_mode": {
    "name": "ipython",
    "version": 3
   },
   "file_extension": ".py",
   "mimetype": "text/x-python",
   "name": "python",
   "nbconvert_exporter": "python",
   "pygments_lexer": "ipython3",
   "version": "3.9.12"
  }
 },
 "nbformat": 4,
 "nbformat_minor": 5
}
